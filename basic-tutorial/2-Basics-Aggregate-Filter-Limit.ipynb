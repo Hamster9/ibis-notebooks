{
 "metadata": {
  "name": "",
  "signature": "sha256:6592693e2ebb8cfdbe355701dd3e18d92429a4bcb7cbbdf35762875e9b039184"
 },
 "nbformat": 3,
 "nbformat_minor": 0,
 "worksheets": [
  {
   "cells": [
    {
     "cell_type": "markdown",
     "metadata": {},
     "source": [
      "Now that you have ibis installed and connecting to your Impala, let's get our feet wet.\n",
      "\n",
      "**If you haven't loaded the test data yet used here, have a look at the first notebook!**"
     ]
    },
    {
     "cell_type": "code",
     "collapsed": false,
     "input": [
      "import ibis\n",
      "\n",
      "ic = ibis.impala_connect(host='localhost', database='ibis_testing')\n",
      "hdfs = ibis.hdfs_connect(port=5070)\n",
      "con = ibis.make_client(ic, hdfs_client=hdfs)"
     ],
     "language": "python",
     "metadata": {},
     "outputs": [],
     "prompt_number": 31
    },
    {
     "cell_type": "markdown",
     "metadata": {},
     "source": [
      "Accessing an Impala table\n",
      "---"
     ]
    },
    {
     "cell_type": "code",
     "collapsed": false,
     "input": [
      "table = con.table('functional_alltypes')\n",
      "table"
     ],
     "language": "python",
     "metadata": {},
     "outputs": [
      {
       "metadata": {},
       "output_type": "pyout",
       "prompt_number": 32,
       "text": [
        "        id bool_col  tinyint_col  smallint_col  int_col  bigint_col  \\\n",
        "0      900     True            0             0        0           0   \n",
        "1      901    False            1             1        1          10   \n",
        "2      902     True            2             2        2          20   \n",
        "3      903    False            3             3        3          30   \n",
        "4      904     True            4             4        4          40   \n",
        "5      905    False            5             5        5          50   \n",
        "6      906     True            6             6        6          60   \n",
        "7      907    False            7             7        7          70   \n",
        "8      908     True            8             8        8          80   \n",
        "9      909    False            9             9        9          90   \n",
        "10     910     True            0             0        0           0   \n",
        "11     911    False            1             1        1          10   \n",
        "12     912     True            2             2        2          20   \n",
        "13     913    False            3             3        3          30   \n",
        "14     914     True            4             4        4          40   \n",
        "15     915    False            5             5        5          50   \n",
        "16     916     True            6             6        6          60   \n",
        "17     917    False            7             7        7          70   \n",
        "18     918     True            8             8        8          80   \n",
        "19     919    False            9             9        9          90   \n",
        "20     920     True            0             0        0           0   \n",
        "21     921    False            1             1        1          10   \n",
        "22     922     True            2             2        2          20   \n",
        "23     923    False            3             3        3          30   \n",
        "24     924     True            4             4        4          40   \n",
        "25     925    False            5             5        5          50   \n",
        "26     926     True            6             6        6          60   \n",
        "27     927    False            7             7        7          70   \n",
        "28     928     True            8             8        8          80   \n",
        "29     929    False            9             9        9          90   \n",
        "...    ...      ...          ...           ...      ...         ...   \n",
        "7270  5740     True            0             0        0           0   \n",
        "7271  5741    False            1             1        1          10   \n",
        "7272  5742     True            2             2        2          20   \n",
        "7273  5743    False            3             3        3          30   \n",
        "7274  5744     True            4             4        4          40   \n",
        "7275  5745    False            5             5        5          50   \n",
        "7276  5746     True            6             6        6          60   \n",
        "7277  5747    False            7             7        7          70   \n",
        "7278  5748     True            8             8        8          80   \n",
        "7279  5749    False            9             9        9          90   \n",
        "7280  5750     True            0             0        0           0   \n",
        "7281  5751    False            1             1        1          10   \n",
        "7282  5752     True            2             2        2          20   \n",
        "7283  5753    False            3             3        3          30   \n",
        "7284  5754     True            4             4        4          40   \n",
        "7285  5755    False            5             5        5          50   \n",
        "7286  5756     True            6             6        6          60   \n",
        "7287  5757    False            7             7        7          70   \n",
        "7288  5758     True            8             8        8          80   \n",
        "7289  5759    False            9             9        9          90   \n",
        "7290  5760     True            0             0        0           0   \n",
        "7291  5761    False            1             1        1          10   \n",
        "7292  5762     True            2             2        2          20   \n",
        "7293  5763    False            3             3        3          30   \n",
        "7294  5764     True            4             4        4          40   \n",
        "7295  5765    False            5             5        5          50   \n",
        "7296  5766     True            6             6        6          60   \n",
        "7297  5767    False            7             7        7          70   \n",
        "7298  5768     True            8             8        8          80   \n",
        "7299  5769    False            9             9        9          90   \n",
        "\n",
        "      float_col  double_col date_string_col string_col  \\\n",
        "0           0.0         0.0        04/01/09          0   \n",
        "1           1.1        10.1        04/01/09          1   \n",
        "2           2.2        20.2        04/01/09          2   \n",
        "3           3.3        30.3        04/01/09          3   \n",
        "4           4.4        40.4        04/01/09          4   \n",
        "5           5.5        50.5        04/01/09          5   \n",
        "6           6.6        60.6        04/01/09          6   \n",
        "7           7.7        70.7        04/01/09          7   \n",
        "8           8.8        80.8        04/01/09          8   \n",
        "9           9.9        90.9        04/01/09          9   \n",
        "10          0.0         0.0        04/02/09          0   \n",
        "11          1.1        10.1        04/02/09          1   \n",
        "12          2.2        20.2        04/02/09          2   \n",
        "13          3.3        30.3        04/02/09          3   \n",
        "14          4.4        40.4        04/02/09          4   \n",
        "15          5.5        50.5        04/02/09          5   \n",
        "16          6.6        60.6        04/02/09          6   \n",
        "17          7.7        70.7        04/02/09          7   \n",
        "18          8.8        80.8        04/02/09          8   \n",
        "19          9.9        90.9        04/02/09          9   \n",
        "20          0.0         0.0        04/03/09          0   \n",
        "21          1.1        10.1        04/03/09          1   \n",
        "22          2.2        20.2        04/03/09          2   \n",
        "23          3.3        30.3        04/03/09          3   \n",
        "24          4.4        40.4        04/03/09          4   \n",
        "25          5.5        50.5        04/03/09          5   \n",
        "26          6.6        60.6        04/03/09          6   \n",
        "27          7.7        70.7        04/03/09          7   \n",
        "28          8.8        80.8        04/03/09          8   \n",
        "29          9.9        90.9        04/03/09          9   \n",
        "...         ...         ...             ...        ...   \n",
        "7270        0.0         0.0        07/29/10          0   \n",
        "7271        1.1        10.1        07/29/10          1   \n",
        "7272        2.2        20.2        07/29/10          2   \n",
        "7273        3.3        30.3        07/29/10          3   \n",
        "7274        4.4        40.4        07/29/10          4   \n",
        "7275        5.5        50.5        07/29/10          5   \n",
        "7276        6.6        60.6        07/29/10          6   \n",
        "7277        7.7        70.7        07/29/10          7   \n",
        "7278        8.8        80.8        07/29/10          8   \n",
        "7279        9.9        90.9        07/29/10          9   \n",
        "7280        0.0         0.0        07/30/10          0   \n",
        "7281        1.1        10.1        07/30/10          1   \n",
        "7282        2.2        20.2        07/30/10          2   \n",
        "7283        3.3        30.3        07/30/10          3   \n",
        "7284        4.4        40.4        07/30/10          4   \n",
        "7285        5.5        50.5        07/30/10          5   \n",
        "7286        6.6        60.6        07/30/10          6   \n",
        "7287        7.7        70.7        07/30/10          7   \n",
        "7288        8.8        80.8        07/30/10          8   \n",
        "7289        9.9        90.9        07/30/10          9   \n",
        "7290        0.0         0.0        07/31/10          0   \n",
        "7291        1.1        10.1        07/31/10          1   \n",
        "7292        2.2        20.2        07/31/10          2   \n",
        "7293        3.3        30.3        07/31/10          3   \n",
        "7294        4.4        40.4        07/31/10          4   \n",
        "7295        5.5        50.5        07/31/10          5   \n",
        "7296        6.6        60.6        07/31/10          6   \n",
        "7297        7.7        70.7        07/31/10          7   \n",
        "7298        8.8        80.8        07/31/10          8   \n",
        "7299        9.9        90.9        07/31/10          9   \n",
        "\n",
        "                  timestamp_col  year  month  \n",
        "0           2009-04-01 00:00:00  2009      4  \n",
        "1           2009-04-01 00:01:00  2009      4  \n",
        "2    2009-04-01 00:02:00.100000  2009      4  \n",
        "3    2009-04-01 00:03:00.300000  2009      4  \n",
        "4    2009-04-01 00:04:00.600000  2009      4  \n",
        "5    2009-04-01 00:05:00.100000  2009      4  \n",
        "6    2009-04-01 00:06:00.150000  2009      4  \n",
        "7    2009-04-01 00:07:00.210000  2009      4  \n",
        "8    2009-04-01 00:08:00.280000  2009      4  \n",
        "9    2009-04-01 00:09:00.360000  2009      4  \n",
        "10   2009-04-02 00:10:00.450000  2009      4  \n",
        "11   2009-04-02 00:11:00.450000  2009      4  \n",
        "12   2009-04-02 00:12:00.460000  2009      4  \n",
        "13   2009-04-02 00:13:00.480000  2009      4  \n",
        "14   2009-04-02 00:14:00.510000  2009      4  \n",
        "15   2009-04-02 00:15:00.550000  2009      4  \n",
        "16   2009-04-02 00:16:00.600000  2009      4  \n",
        "17   2009-04-02 00:17:00.660000  2009      4  \n",
        "18   2009-04-02 00:18:00.730000  2009      4  \n",
        "19   2009-04-02 00:19:00.810000  2009      4  \n",
        "20   2009-04-03 00:20:00.900000  2009      4  \n",
        "21   2009-04-03 00:21:00.900000  2009      4  \n",
        "22   2009-04-03 00:22:00.910000  2009      4  \n",
        "23   2009-04-03 00:23:00.930000  2009      4  \n",
        "24   2009-04-03 00:24:00.960000  2009      4  \n",
        "25          2009-04-03 00:25:01  2009      4  \n",
        "26   2009-04-03 00:26:01.500000  2009      4  \n",
        "27   2009-04-03 00:27:01.110000  2009      4  \n",
        "28   2009-04-03 00:28:01.180000  2009      4  \n",
        "29   2009-04-03 00:29:01.260000  2009      4  \n",
        "...                         ...   ...    ...  \n",
        "7270 2010-07-29 04:40:12.600000  2010      7  \n",
        "7271 2010-07-29 04:41:12.600000  2010      7  \n",
        "7272 2010-07-29 04:42:12.610000  2010      7  \n",
        "7273 2010-07-29 04:43:12.630000  2010      7  \n",
        "7274 2010-07-29 04:44:12.660000  2010      7  \n",
        "7275 2010-07-29 04:45:12.700000  2010      7  \n",
        "7276 2010-07-29 04:46:12.750000  2010      7  \n",
        "7277 2010-07-29 04:47:12.810000  2010      7  \n",
        "7278 2010-07-29 04:48:12.880000  2010      7  \n",
        "7279 2010-07-29 04:49:12.960000  2010      7  \n",
        "7280 2010-07-30 04:50:13.500000  2010      7  \n",
        "7281 2010-07-30 04:51:13.500000  2010      7  \n",
        "7282 2010-07-30 04:52:13.600000  2010      7  \n",
        "7283 2010-07-30 04:53:13.800000  2010      7  \n",
        "7284 2010-07-30 04:54:13.110000  2010      7  \n",
        "7285 2010-07-30 04:55:13.150000  2010      7  \n",
        "7286 2010-07-30 04:56:13.200000  2010      7  \n",
        "7287 2010-07-30 04:57:13.260000  2010      7  \n",
        "7288 2010-07-30 04:58:13.330000  2010      7  \n",
        "7289 2010-07-30 04:59:13.410000  2010      7  \n",
        "7290 2010-07-31 05:00:13.500000  2010      7  \n",
        "7291 2010-07-31 05:01:13.500000  2010      7  \n",
        "7292 2010-07-31 05:02:13.510000  2010      7  \n",
        "7293 2010-07-31 05:03:13.530000  2010      7  \n",
        "7294 2010-07-31 05:04:13.560000  2010      7  \n",
        "7295 2010-07-31 05:05:13.600000  2010      7  \n",
        "7296 2010-07-31 05:06:13.650000  2010      7  \n",
        "7297 2010-07-31 05:07:13.710000  2010      7  \n",
        "7298 2010-07-31 05:08:13.780000  2010      7  \n",
        "7299 2010-07-31 05:09:13.860000  2010      7  \n",
        "\n",
        "[7300 rows x 13 columns]"
       ]
      }
     ],
     "prompt_number": 32
    },
    {
     "cell_type": "markdown",
     "metadata": {},
     "source": [
      "Column selection and basic expressions\n",
      "---\n",
      "Selecting columns from a table works just like pandas"
     ]
    },
    {
     "cell_type": "code",
     "collapsed": false,
     "input": [
      "col = table.double_col\n",
      "\n",
      "# alternately\n",
      "col2 = table['bigint_col']"
     ],
     "language": "python",
     "metadata": {},
     "outputs": [],
     "prompt_number": 33
    },
    {
     "cell_type": "markdown",
     "metadata": {},
     "source": [
      "Table columns are equipped with a variety of math operations and other methods to assist in writing your analytics. For example:"
     ]
    },
    {
     "cell_type": "code",
     "collapsed": false,
     "input": [
      "expr = col.log2() - 1"
     ],
     "language": "python",
     "metadata": {},
     "outputs": [],
     "prompt_number": 34
    },
    {
     "cell_type": "markdown",
     "metadata": {},
     "source": [
      "Some operations transform arrays to arrays, while others aggregate, like `sum` and `mean`:"
     ]
    },
    {
     "cell_type": "code",
     "collapsed": false,
     "input": [
      "expr2 = expr.sum()"
     ],
     "language": "python",
     "metadata": {},
     "outputs": [],
     "prompt_number": 35
    },
    {
     "cell_type": "markdown",
     "metadata": {},
     "source": [
      "The methods that are available on columns depend on the time of the column. For example, you won't see the `substr` or `upper` methods for strings on numeric columns:"
     ]
    },
    {
     "cell_type": "code",
     "collapsed": false,
     "input": [
      "substr_expr = table.string_col.upper().substr(0, 2)"
     ],
     "language": "python",
     "metadata": {},
     "outputs": [],
     "prompt_number": 36
    },
    {
     "cell_type": "markdown",
     "metadata": {},
     "source": [
      "Notice that printing the expressions to the console does not actually do anything, and shows a graphical representation of the expression you've built.\n",
      "\n",
      "**Note: don't worry too much about the details of the expression tree that's outputted, it's very likely to change over time**"
     ]
    },
    {
     "cell_type": "code",
     "collapsed": false,
     "input": [
      "expr2"
     ],
     "language": "python",
     "metadata": {},
     "outputs": [
      {
       "metadata": {},
       "output_type": "pyout",
       "prompt_number": 37,
       "text": [
        "-inf"
       ]
      }
     ],
     "prompt_number": 37
    },
    {
     "cell_type": "markdown",
     "metadata": {},
     "source": [
      "We can also execute an expression by calling `execute` on the Impala connection object"
     ]
    },
    {
     "cell_type": "code",
     "collapsed": false,
     "input": [
      "con.execute(col.sum())"
     ],
     "language": "python",
     "metadata": {},
     "outputs": [
      {
       "metadata": {},
       "output_type": "pyout",
       "prompt_number": 38,
       "text": [
        "331785.0"
       ]
      }
     ],
     "prompt_number": 38
    },
    {
     "cell_type": "markdown",
     "metadata": {},
     "source": [
      "There's a shortcut to make this a little more convenient in interactive use"
     ]
    },
    {
     "cell_type": "markdown",
     "metadata": {},
     "source": [
      "Interactive mode\n",
      "---\n",
      "\n",
      "Many Ibis expressions can be immediately executed against the database, and it may improve your productivity to have the executed for you whenever you try to print the expression in the console / IPython notebook.\n",
      "\n",
      "To do this, we have an *interactive* mode available, which can be turned on/off like so:"
     ]
    },
    {
     "cell_type": "code",
     "collapsed": false,
     "input": [
      "ibis.options.interactive = True"
     ],
     "language": "python",
     "metadata": {},
     "outputs": [],
     "prompt_number": 39
    },
    {
     "cell_type": "markdown",
     "metadata": {},
     "source": [
      "Now, any expressions you write will be executed right away"
     ]
    },
    {
     "cell_type": "code",
     "collapsed": false,
     "input": [
      "table.limit(10)"
     ],
     "language": "python",
     "metadata": {},
     "outputs": [
      {
       "metadata": {},
       "output_type": "pyout",
       "prompt_number": 40,
       "text": [
        "     id bool_col  tinyint_col  smallint_col  int_col  bigint_col  float_col  \\\n",
        "0  2430     True            0             0        0           0        0.0   \n",
        "1  2431    False            1             1        1          10        1.1   \n",
        "2  2432     True            2             2        2          20        2.2   \n",
        "3  2433    False            3             3        3          30        3.3   \n",
        "4  2434     True            4             4        4          40        4.4   \n",
        "5  2435    False            5             5        5          50        5.5   \n",
        "6  2436     True            6             6        6          60        6.6   \n",
        "7  2437    False            7             7        7          70        7.7   \n",
        "8  2438     True            8             8        8          80        8.8   \n",
        "9  2439    False            9             9        9          90        9.9   \n",
        "\n",
        "   double_col date_string_col string_col              timestamp_col  year  \\\n",
        "0         0.0        09/01/09          0        2009-09-01 00:00:00  2009   \n",
        "1        10.1        09/01/09          1        2009-09-01 00:01:00  2009   \n",
        "2        20.2        09/01/09          2 2009-09-01 00:02:00.100000  2009   \n",
        "3        30.3        09/01/09          3 2009-09-01 00:03:00.300000  2009   \n",
        "4        40.4        09/01/09          4 2009-09-01 00:04:00.600000  2009   \n",
        "5        50.5        09/01/09          5 2009-09-01 00:05:00.100000  2009   \n",
        "6        60.6        09/01/09          6 2009-09-01 00:06:00.150000  2009   \n",
        "7        70.7        09/01/09          7 2009-09-01 00:07:00.210000  2009   \n",
        "8        80.8        09/01/09          8 2009-09-01 00:08:00.280000  2009   \n",
        "9        90.9        09/01/09          9 2009-09-01 00:09:00.360000  2009   \n",
        "\n",
        "   month  \n",
        "0      9  \n",
        "1      9  \n",
        "2      9  \n",
        "3      9  \n",
        "4      9  \n",
        "5      9  \n",
        "6      9  \n",
        "7      9  \n",
        "8      9  \n",
        "9      9  "
       ]
      }
     ],
     "prompt_number": 40
    },
    {
     "cell_type": "code",
     "collapsed": false,
     "input": [
      "table.double_col.sum()"
     ],
     "language": "python",
     "metadata": {},
     "outputs": [
      {
       "metadata": {},
       "output_type": "pyout",
       "prompt_number": 41,
       "text": [
        "331785.0"
       ]
      }
     ],
     "prompt_number": 41
    },
    {
     "cell_type": "markdown",
     "metadata": {},
     "source": [
      "Don't worry about the syntax here, but expressions resulting in tabular output will come back as a pandas DataFrame by default:"
     ]
    },
    {
     "cell_type": "code",
     "collapsed": false,
     "input": [
      "metrics = [table.double_col.sum().name('total')]\n",
      "expr = table.group_by('string_col').aggregate(metrics)\n",
      "expr"
     ],
     "language": "python",
     "metadata": {},
     "outputs": [
      {
       "metadata": {},
       "output_type": "pyout",
       "prompt_number": 42,
       "text": [
        "  string_col  total\n",
        "0          6  44238\n",
        "1          4  29492\n",
        "2          1   7373\n",
        "3          7  51611\n",
        "4          9  66357\n",
        "5          8  58984\n",
        "6          2  14746\n",
        "7          3  22119\n",
        "8          5  36865\n",
        "9          0      0"
       ]
      }
     ],
     "prompt_number": 42
    },
    {
     "cell_type": "markdown",
     "metadata": {},
     "source": [
      "Aggregation basics\n",
      "---\n",
      "\n",
      "One of the essential table API functions is `aggregate`. Aggregation involves the following\n",
      "\n",
      "- One or more *named* aggregate expressions, or *reductions*\n",
      "- Zero or more grouping expressions or column names\n",
      "\n",
      "This ends up working very similarly to pandas's **groupby** mechanism.\n",
      "\n",
      "Let's start with a simple reduction:"
     ]
    },
    {
     "cell_type": "code",
     "collapsed": false,
     "input": [
      "metric = table.double_col.sum()"
     ],
     "language": "python",
     "metadata": {},
     "outputs": [],
     "prompt_number": 43
    },
    {
     "cell_type": "markdown",
     "metadata": {},
     "source": [
      "As you saw above, you can execute this immediately and obtain a value:"
     ]
    },
    {
     "cell_type": "code",
     "collapsed": false,
     "input": [
      "metric"
     ],
     "language": "python",
     "metadata": {},
     "outputs": [
      {
       "metadata": {},
       "output_type": "pyout",
       "prompt_number": 44,
       "text": [
        "331785.0"
       ]
      }
     ],
     "prompt_number": 44
    },
    {
     "cell_type": "markdown",
     "metadata": {},
     "source": [
      "The reduced column can be more complex; for example, you could count the number of null values in a column like so:"
     ]
    },
    {
     "cell_type": "code",
     "collapsed": false,
     "input": [
      "table.double_col.isnull().sum()"
     ],
     "language": "python",
     "metadata": {},
     "outputs": [
      {
       "metadata": {},
       "output_type": "pyout",
       "prompt_number": 45,
       "text": [
        "0"
       ]
      }
     ],
     "prompt_number": 45
    },
    {
     "cell_type": "markdown",
     "metadata": {},
     "source": [
      "To aggregate a table, potentially with grouping keys, we have to give the reduction a name and call `aggregate`"
     ]
    },
    {
     "cell_type": "code",
     "collapsed": false,
     "input": [
      "metric = metric.name('double_total')\n",
      "expr = table.aggregate([metric])\n",
      "result = con.execute(expr)\n",
      "result"
     ],
     "language": "python",
     "metadata": {},
     "outputs": [
      {
       "html": [
        "<div style=\"max-height:1000px;max-width:1500px;overflow:auto;\">\n",
        "<table border=\"1\" class=\"dataframe\">\n",
        "  <thead>\n",
        "    <tr style=\"text-align: right;\">\n",
        "      <th></th>\n",
        "      <th>double_total</th>\n",
        "    </tr>\n",
        "  </thead>\n",
        "  <tbody>\n",
        "    <tr>\n",
        "      <th>0</th>\n",
        "      <td>331785</td>\n",
        "    </tr>\n",
        "  </tbody>\n",
        "</table>\n",
        "</div>"
       ],
       "metadata": {},
       "output_type": "pyout",
       "prompt_number": 46,
       "text": [
        "   double_total\n",
        "0        331785"
       ]
      }
     ],
     "prompt_number": 46
    },
    {
     "cell_type": "markdown",
     "metadata": {},
     "source": [
      "The result here is actually a pandas DataFrame with 1 row and just the one column. We can add another metric and add a grouping key"
     ]
    },
    {
     "cell_type": "code",
     "collapsed": false,
     "input": [
      "metric2 = (table.bigint_col + 1).log10().max().name('some_metric')\n",
      "\n",
      "expr = table.aggregate([metric, metric2], by=['string_col'])\n",
      "expr"
     ],
     "language": "python",
     "metadata": {},
     "outputs": [
      {
       "metadata": {},
       "output_type": "pyout",
       "prompt_number": 47,
       "text": [
        "  string_col  double_total  some_metric\n",
        "0          6         44238     1.785330\n",
        "1          1          7373     1.041393\n",
        "2          8         58984     1.908485\n",
        "3          4         29492     1.612784\n",
        "4          2         14746     1.322219\n",
        "5          7         51611     1.851258\n",
        "6          5         36865     1.707570\n",
        "7          0             0     0.000000\n",
        "8          9         66357     1.959041\n",
        "9          3         22119     1.491362"
       ]
      }
     ],
     "prompt_number": 47
    },
    {
     "cell_type": "markdown",
     "metadata": {},
     "source": [
      "We provide a convenience `group_by`, a la pandas, to make this a little more composable:"
     ]
    },
    {
     "cell_type": "code",
     "collapsed": false,
     "input": [
      "expr = (table.group_by('string_col')\n",
      "        .aggregate([metric, metric2]))\n",
      "expr"
     ],
     "language": "python",
     "metadata": {},
     "outputs": [
      {
       "metadata": {},
       "output_type": "pyout",
       "prompt_number": 48,
       "text": [
        "  string_col  double_total  some_metric\n",
        "0          6         44238     1.785330\n",
        "1          4         29492     1.612784\n",
        "2          9         66357     1.959041\n",
        "3          7         51611     1.851258\n",
        "4          3         22119     1.491362\n",
        "5          1          7373     1.041393\n",
        "6          8         58984     1.908485\n",
        "7          2         14746     1.322219\n",
        "8          5         36865     1.707570\n",
        "9          0             0     0.000000"
       ]
      }
     ],
     "prompt_number": 48
    },
    {
     "cell_type": "markdown",
     "metadata": {},
     "source": [
      "You can also group by named column expressions"
     ]
    },
    {
     "cell_type": "code",
     "collapsed": false,
     "input": [
      "keys = [table.timestamp_col.hour().name('hour'), 'string_col']\n",
      "\n",
      "expr = table.group_by(keys).aggregate([metric])\n",
      "\n",
      "# Top 10 by double_total, more on this later\n",
      "expr.sort_by([('double_total', False)]).limit(10)"
     ],
     "language": "python",
     "metadata": {},
     "outputs": [
      {
       "metadata": {},
       "output_type": "pyout",
       "prompt_number": 49,
       "text": [
        "   hour string_col  double_total\n",
        "0     1          9       13544.1\n",
        "1     2          9       13180.5\n",
        "2     0          9       13089.6\n",
        "3     3          9       13089.6\n",
        "4     4          9       12271.5\n",
        "5     1          8       12039.2\n",
        "6     2          8       11716.0\n",
        "7     0          8       11635.2\n",
        "8     3          8       11635.2\n",
        "9     4          8       10908.0"
       ]
      }
     ],
     "prompt_number": 49
    },
    {
     "cell_type": "markdown",
     "metadata": {},
     "source": [
      "Filtering\n",
      "---\n",
      "Filtering tables works similarly to pandas"
     ]
    },
    {
     "cell_type": "code",
     "collapsed": false,
     "input": [
      "table.aggregate([table.bigint_col.max().name('bigint_max'),\n",
      "                 table.bigint_col.min().name('bigint_min'),\n",
      "                 table.int_col.max().name('int_max'),\n",
      "                 table.int_col.min().name('int_min')])"
     ],
     "language": "python",
     "metadata": {},
     "outputs": [
      {
       "metadata": {},
       "output_type": "pyout",
       "prompt_number": 50,
       "text": [
        "   bigint_max  bigint_min  int_max  int_min\n",
        "0          90           0        9        0"
       ]
      }
     ],
     "prompt_number": 50
    },
    {
     "cell_type": "code",
     "collapsed": false,
     "input": [
      "table.count()"
     ],
     "language": "python",
     "metadata": {},
     "outputs": [
      {
       "metadata": {},
       "output_type": "pyout",
       "prompt_number": 51,
       "text": [
        "7300"
       ]
      }
     ],
     "prompt_number": 51
    },
    {
     "cell_type": "code",
     "collapsed": false,
     "input": [
      "table[table.bigint_col > 50].count()"
     ],
     "language": "python",
     "metadata": {},
     "outputs": [
      {
       "metadata": {},
       "output_type": "pyout",
       "prompt_number": 52,
       "text": [
        "2920"
       ]
      }
     ],
     "prompt_number": 52
    },
    {
     "cell_type": "markdown",
     "metadata": {},
     "source": [
      "Filters can be composed using & (and), | (or), and other logical array operators"
     ]
    },
    {
     "cell_type": "code",
     "collapsed": false,
     "input": [
      "cond1 = table.bigint_col > 50\n",
      "cond2 = table.int_col.between(2, 7)\n",
      "table[cond1 | cond2].count()"
     ],
     "language": "python",
     "metadata": {},
     "outputs": [
      {
       "metadata": {},
       "output_type": "pyout",
       "prompt_number": 53,
       "text": [
        "5840"
       ]
      }
     ],
     "prompt_number": 53
    },
    {
     "cell_type": "markdown",
     "metadata": {},
     "source": [
      "There's a `filter` function that allows you to pass a list of conditions (that are all required to hold):"
     ]
    },
    {
     "cell_type": "code",
     "collapsed": false,
     "input": [
      "table.filter([cond1, cond2]).count()"
     ],
     "language": "python",
     "metadata": {},
     "outputs": [
      {
       "metadata": {},
       "output_type": "pyout",
       "prompt_number": 54,
       "text": [
        "1460"
       ]
      }
     ],
     "prompt_number": 54
    },
    {
     "cell_type": "markdown",
     "metadata": {},
     "source": [
      "Note this is the same as &-ing the boolean conditions yourself:"
     ]
    },
    {
     "cell_type": "code",
     "collapsed": false,
     "input": [
      "table[cond1 & cond2].count()"
     ],
     "language": "python",
     "metadata": {},
     "outputs": [
      {
       "metadata": {},
       "output_type": "pyout",
       "prompt_number": 55,
       "text": [
        "1460"
       ]
      }
     ],
     "prompt_number": 55
    },
    {
     "cell_type": "markdown",
     "metadata": {},
     "source": [
      "Limits\n",
      "---\n",
      "\n",
      "Like in SQL, the `limit` function selects the indicated numbers of rows from the beginning of a table's result set"
     ]
    },
    {
     "cell_type": "code",
     "collapsed": false,
     "input": [
      "table.limit(2)"
     ],
     "language": "python",
     "metadata": {},
     "outputs": [
      {
       "metadata": {},
       "output_type": "pyout",
       "prompt_number": 56,
       "text": [
        "    id bool_col  tinyint_col  smallint_col  int_col  bigint_col  float_col  \\\n",
        "0  900     True            0             0        0           0        0.0   \n",
        "1  901    False            1             1        1          10        1.1   \n",
        "\n",
        "   double_col date_string_col string_col       timestamp_col  year  month  \n",
        "0         0.0        04/01/09          0 2009-04-01 00:00:00  2009      4  \n",
        "1        10.1        04/01/09          1 2009-04-01 00:01:00  2009      4  "
       ]
      }
     ],
     "prompt_number": 56
    },
    {
     "cell_type": "code",
     "collapsed": false,
     "input": [],
     "language": "python",
     "metadata": {},
     "outputs": [],
     "prompt_number": 56
    }
   ],
   "metadata": {}
  }
 ]
}