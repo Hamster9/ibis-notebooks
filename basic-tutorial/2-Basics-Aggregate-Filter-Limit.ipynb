{
 "metadata": {
  "name": "",
  "signature": "sha256:ceb08c719aac83a73ae54af942001b97dbd7ee6da8a47af1f1295cd469cd5fee"
 },
 "nbformat": 3,
 "nbformat_minor": 0,
 "worksheets": [
  {
   "cells": [
    {
     "cell_type": "markdown",
     "metadata": {},
     "source": [
      "Now that you have ibis installed and connecting to your Impala, let's get our feet wet."
     ]
    },
    {
     "cell_type": "code",
     "collapsed": false,
     "input": [
      "from ibis import api\n",
      "from ibis.sql.compiler import to_sql\n",
      "import ibis\n",
      "ic = ibis.impala_connect(host='localhost')\n",
      "con = ibis.make_client(ic)"
     ],
     "language": "python",
     "metadata": {},
     "outputs": []
    },
    {
     "cell_type": "markdown",
     "metadata": {},
     "source": [
      "Accessing an Impala table\n",
      "---"
     ]
    },
    {
     "cell_type": "code",
     "collapsed": false,
     "input": [
      "table = con.table('functional.alltypes')\n",
      "table"
     ],
     "language": "python",
     "metadata": {},
     "outputs": []
    },
    {
     "cell_type": "markdown",
     "metadata": {},
     "source": [
      "Column selection and basic expressions\n",
      "---\n",
      "Selecting columns from a table works just like pandas"
     ]
    },
    {
     "cell_type": "code",
     "collapsed": false,
     "input": [
      "col = table.double_col\n",
      "\n",
      "# alternately\n",
      "col2 = table['bigint_col']"
     ],
     "language": "python",
     "metadata": {},
     "outputs": []
    },
    {
     "cell_type": "markdown",
     "metadata": {},
     "source": [
      "Table columns are equipped with a variety of math operations and other methods to assist in writing your analytics. For example:"
     ]
    },
    {
     "cell_type": "code",
     "collapsed": false,
     "input": [
      "expr = col.log2() - 1"
     ],
     "language": "python",
     "metadata": {},
     "outputs": []
    },
    {
     "cell_type": "markdown",
     "metadata": {},
     "source": [
      "Some operations transform arrays to arrays, while others aggregate, like `sum` and `mean`:"
     ]
    },
    {
     "cell_type": "code",
     "collapsed": false,
     "input": [
      "expr2 = expr.sum()"
     ],
     "language": "python",
     "metadata": {},
     "outputs": []
    },
    {
     "cell_type": "markdown",
     "metadata": {},
     "source": [
      "The methods that are available on columns depend on the time of the column. For example, you won't see the `substr` or `upper` methods for strings on numeric columns:"
     ]
    },
    {
     "cell_type": "code",
     "collapsed": false,
     "input": [
      "substr_expr = table.string_col.upper().substr(0, 2)"
     ],
     "language": "python",
     "metadata": {},
     "outputs": []
    },
    {
     "cell_type": "markdown",
     "metadata": {},
     "source": [
      "Notice that printing the expressions to the console does not actually do anything, and shows a graphical representation of the expression you've built.\n",
      "\n",
      "**Note: don't worry too much about the details of the expression tree that's outputted, it's very likely to change over time**"
     ]
    },
    {
     "cell_type": "code",
     "collapsed": false,
     "input": [
      "expr2"
     ],
     "language": "python",
     "metadata": {},
     "outputs": []
    },
    {
     "cell_type": "markdown",
     "metadata": {},
     "source": [
      "We can also execute an expression by calling `execute` on the Impala connection object"
     ]
    },
    {
     "cell_type": "code",
     "collapsed": false,
     "input": [
      "con.execute(col.sum())"
     ],
     "language": "python",
     "metadata": {},
     "outputs": []
    },
    {
     "cell_type": "markdown",
     "metadata": {},
     "source": [
      "There's a shortcut to make this a little more convenient in interactive use"
     ]
    },
    {
     "cell_type": "markdown",
     "metadata": {},
     "source": [
      "Interactive mode\n",
      "---\n",
      "\n",
      "Many Ibis expressions can be immediately executed against the database, and it may improve your productivity to have the executed for you whenever you try to print the expression in the console / IPython notebook.\n",
      "\n",
      "To do this, we have an *interactive* mode available, which can be turned on/off like so:"
     ]
    },
    {
     "cell_type": "code",
     "collapsed": false,
     "input": [
      "ibis.options.interactive = True"
     ],
     "language": "python",
     "metadata": {},
     "outputs": []
    },
    {
     "cell_type": "markdown",
     "metadata": {},
     "source": [
      "Now, any expressions you write will be executed right away"
     ]
    },
    {
     "cell_type": "code",
     "collapsed": false,
     "input": [
      "table.limit(10)"
     ],
     "language": "python",
     "metadata": {},
     "outputs": []
    },
    {
     "cell_type": "code",
     "collapsed": false,
     "input": [
      "table.double_col.sum()"
     ],
     "language": "python",
     "metadata": {},
     "outputs": []
    },
    {
     "cell_type": "markdown",
     "metadata": {},
     "source": [
      "Don't worry about the syntax here, but expressions resulting in tabular output will come back as a pandas DataFrame by default:"
     ]
    },
    {
     "cell_type": "code",
     "collapsed": false,
     "input": [
      "metrics = [table.double_col.sum().name('total')]\n",
      "expr = table.group_by('string_col').aggregate(metrics)\n",
      "expr"
     ],
     "language": "python",
     "metadata": {},
     "outputs": []
    },
    {
     "cell_type": "markdown",
     "metadata": {},
     "source": [
      "Aggregation basics\n",
      "---\n",
      "\n",
      "One of the essential table API functions is `aggregate`. Aggregation involves the following\n",
      "\n",
      "- One or more *named* aggregate expressions, or *reductions*\n",
      "- Zero or more grouping expressions or column names\n",
      "\n",
      "This ends up working very similarly to pandas's **groupby** mechanism.\n",
      "\n",
      "Let's start with a simple reduction:"
     ]
    },
    {
     "cell_type": "code",
     "collapsed": false,
     "input": [
      "metric = table.double_col.sum()"
     ],
     "language": "python",
     "metadata": {},
     "outputs": []
    },
    {
     "cell_type": "markdown",
     "metadata": {},
     "source": [
      "As you saw above, you can execute this immediately and obtain a value:"
     ]
    },
    {
     "cell_type": "code",
     "collapsed": false,
     "input": [
      "metric"
     ],
     "language": "python",
     "metadata": {},
     "outputs": []
    },
    {
     "cell_type": "markdown",
     "metadata": {},
     "source": [
      "The reduced column can be more complex; for example, you could count the number of null values in a column like so:"
     ]
    },
    {
     "cell_type": "code",
     "collapsed": false,
     "input": [
      "table.double_col.isnull().sum()"
     ],
     "language": "python",
     "metadata": {},
     "outputs": []
    },
    {
     "cell_type": "markdown",
     "metadata": {},
     "source": [
      "To aggregate a table, potentially with grouping keys, we have to give the reduction a name and call `aggregate`"
     ]
    },
    {
     "cell_type": "code",
     "collapsed": false,
     "input": [
      "metric = metric.name('double_total')\n",
      "expr = table.aggregate([metric])\n",
      "result = con.execute(expr)\n",
      "result"
     ],
     "language": "python",
     "metadata": {},
     "outputs": []
    },
    {
     "cell_type": "markdown",
     "metadata": {},
     "source": [
      "The result here is actually a pandas DataFrame with 1 row and just the one column. We can add another metric and add a grouping key"
     ]
    },
    {
     "cell_type": "code",
     "collapsed": false,
     "input": [
      "metric2 = (table.bigint_col + 1).log10().max().name('some_metric')\n",
      "\n",
      "expr = table.aggregate([metric, metric2], by=['string_col'])\n",
      "expr"
     ],
     "language": "python",
     "metadata": {},
     "outputs": []
    },
    {
     "cell_type": "markdown",
     "metadata": {},
     "source": [
      "We provide a convenience `group_by`, a la pandas, to make this a little more composable:"
     ]
    },
    {
     "cell_type": "code",
     "collapsed": false,
     "input": [
      "expr = (table.group_by('string_col')\n",
      "        .aggregate([metric, metric2]))\n",
      "expr"
     ],
     "language": "python",
     "metadata": {},
     "outputs": []
    },
    {
     "cell_type": "markdown",
     "metadata": {},
     "source": [
      "You can also group by named column expressions"
     ]
    },
    {
     "cell_type": "code",
     "collapsed": false,
     "input": [
      "keys = [table.timestamp_col.hour().name('hour'), 'string_col']\n",
      "\n",
      "expr = table.group_by(keys).aggregate([metric])\n",
      "\n",
      "# Top 10 by double_total, more on this later\n",
      "expr.sort_by([('double_total', False)]).limit(10)"
     ],
     "language": "python",
     "metadata": {},
     "outputs": []
    },
    {
     "cell_type": "markdown",
     "metadata": {},
     "source": [
      "Filtering\n",
      "---\n",
      "Filtering tables works similarly to pandas"
     ]
    },
    {
     "cell_type": "code",
     "collapsed": false,
     "input": [
      "table.aggregate([table.bigint_col.max().name('bigint_max'),\n",
      "                 table.bigint_col.min().name('bigint_min'),\n",
      "                 table.int_col.max().name('int_max'),\n",
      "                 table.int_col.min().name('int_min')])"
     ],
     "language": "python",
     "metadata": {},
     "outputs": []
    },
    {
     "cell_type": "code",
     "collapsed": false,
     "input": [
      "table.count()"
     ],
     "language": "python",
     "metadata": {},
     "outputs": []
    },
    {
     "cell_type": "code",
     "collapsed": false,
     "input": [
      "table[table.bigint_col > 50].count()"
     ],
     "language": "python",
     "metadata": {},
     "outputs": []
    },
    {
     "cell_type": "markdown",
     "metadata": {},
     "source": [
      "Filters can be composed using & (and), | (or), and other logical array operators"
     ]
    },
    {
     "cell_type": "code",
     "collapsed": false,
     "input": [
      "cond1 = table.bigint_col > 50\n",
      "cond2 = table.int_col.between(2, 7)\n",
      "table[cond1 | cond2].count()"
     ],
     "language": "python",
     "metadata": {},
     "outputs": []
    },
    {
     "cell_type": "markdown",
     "metadata": {},
     "source": [
      "There's a `filter` function that allows you to pass a list of conditions (that are all required to hold):"
     ]
    },
    {
     "cell_type": "code",
     "collapsed": false,
     "input": [
      "table.filter([cond1, cond2]).count()"
     ],
     "language": "python",
     "metadata": {},
     "outputs": []
    },
    {
     "cell_type": "markdown",
     "metadata": {},
     "source": [
      "Note this is the same as &-ing the boolean conditions yourself:"
     ]
    },
    {
     "cell_type": "code",
     "collapsed": false,
     "input": [
      "table[cond1 & cond2].count()"
     ],
     "language": "python",
     "metadata": {},
     "outputs": []
    },
    {
     "cell_type": "markdown",
     "metadata": {},
     "source": [
      "Limits\n",
      "---\n",
      "\n",
      "Like in SQL, the `limit` function selects the indicated numbers of rows from the beginning of a table's result set"
     ]
    },
    {
     "cell_type": "code",
     "collapsed": false,
     "input": [
      "table.limit(2)"
     ],
     "language": "python",
     "metadata": {},
     "outputs": []
    }
   ],
   "metadata": {}
  }
 ]
}