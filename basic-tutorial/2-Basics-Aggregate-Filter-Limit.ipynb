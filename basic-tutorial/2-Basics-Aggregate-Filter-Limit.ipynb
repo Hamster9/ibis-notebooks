{
 "metadata": {
  "name": "",
  "signature": "sha256:965de3f53e3a41e17d8ae628ab322a4c16bcb8af9946ae5272dc59d22e5e307b"
 },
 "nbformat": 3,
 "nbformat_minor": 0,
 "worksheets": [
  {
   "cells": [
    {
     "cell_type": "markdown",
     "metadata": {},
     "source": [
      "Now that you have ibis installed and connecting to your Impala, let's get our feet wet.\n",
      "\n",
      "**If you haven't loaded the test data yet used here, have a look at the first notebook!**"
     ]
    },
    {
     "cell_type": "code",
     "collapsed": false,
     "input": [
      "import ibis\n",
      "\n",
      "ic = ibis.impala_connect(host='localhost', database='ibis_testing')\n",
      "hdfs = ibis.hdfs_connect(port=5070)\n",
      "con = ibis.make_client(ic, hdfs_client=hdfs)"
     ],
     "language": "python",
     "metadata": {},
     "outputs": [],
     "prompt_number": 1
    },
    {
     "cell_type": "markdown",
     "metadata": {},
     "source": [
      "Accessing an Impala table\n",
      "---"
     ]
    },
    {
     "cell_type": "code",
     "collapsed": false,
     "input": [
      "table = con.table('functional_alltypes')"
     ],
     "language": "python",
     "metadata": {},
     "outputs": [],
     "prompt_number": 2
    },
    {
     "cell_type": "markdown",
     "metadata": {},
     "source": [
      "Column selection and basic expressions\n",
      "---\n",
      "Selecting columns from a table works just like pandas"
     ]
    },
    {
     "cell_type": "code",
     "collapsed": false,
     "input": [
      "col = table.double_col\n",
      "\n",
      "# alternately\n",
      "col2 = table['bigint_col']"
     ],
     "language": "python",
     "metadata": {},
     "outputs": [],
     "prompt_number": 3
    },
    {
     "cell_type": "markdown",
     "metadata": {},
     "source": [
      "Table columns are equipped with a variety of math operations and other methods to assist in writing your analytics. For example:"
     ]
    },
    {
     "cell_type": "code",
     "collapsed": false,
     "input": [
      "expr = col.log2() - 1"
     ],
     "language": "python",
     "metadata": {},
     "outputs": [],
     "prompt_number": 4
    },
    {
     "cell_type": "markdown",
     "metadata": {},
     "source": [
      "Some operations transform arrays to arrays, while others aggregate, like `sum` and `mean`:"
     ]
    },
    {
     "cell_type": "code",
     "collapsed": false,
     "input": [
      "expr2 = expr.sum()"
     ],
     "language": "python",
     "metadata": {},
     "outputs": [],
     "prompt_number": 5
    },
    {
     "cell_type": "markdown",
     "metadata": {},
     "source": [
      "The methods that are available on columns depend on the time of the column. For example, you won't see the `substr` or `upper` methods for strings on numeric columns:"
     ]
    },
    {
     "cell_type": "code",
     "collapsed": false,
     "input": [
      "substr_expr = table.string_col.upper().substr(0, 2)"
     ],
     "language": "python",
     "metadata": {},
     "outputs": [],
     "prompt_number": 6
    },
    {
     "cell_type": "markdown",
     "metadata": {},
     "source": [
      "Notice that printing the expressions to the console does not actually do anything, and shows a graphical representation of the expression you've built.\n",
      "\n",
      "**Note: don't worry too much about the details of the expression tree that's outputted, it's very likely to change over time**"
     ]
    },
    {
     "cell_type": "code",
     "collapsed": false,
     "input": [
      "expr2"
     ],
     "language": "python",
     "metadata": {},
     "outputs": [
      {
       "metadata": {},
       "output_type": "pyout",
       "prompt_number": 7,
       "text": [
        "ref_0\n",
        "DatabaseTable[table]\n",
        "  name: functional_alltypes\n",
        "  schema:\n",
        "    id : int32\n",
        "    bool_col : boolean\n",
        "    tinyint_col : int32\n",
        "    smallint_col : int32\n",
        "    int_col : int32\n",
        "    bigint_col : int64\n",
        "    float_col : float\n",
        "    double_col : double\n",
        "    date_string_col : string\n",
        "    string_col : string\n",
        "    timestamp_col : timestamp\n",
        "    year : int32\n",
        "    month : int32\n",
        "\n",
        "sum = Sum[double]\n",
        "  Subtract[array(double)]\n",
        "    Log2[array(double)]\n",
        "      double_col = Column[double] 'double_col' from table ref_0\n",
        "    Literal[int8]\n",
        "      1\n",
        "  None"
       ]
      }
     ],
     "prompt_number": 7
    },
    {
     "cell_type": "markdown",
     "metadata": {},
     "source": [
      "We can also execute an expression by calling `execute` on the Impala connection object"
     ]
    },
    {
     "cell_type": "code",
     "collapsed": false,
     "input": [
      "con.execute(col.sum())"
     ],
     "language": "python",
     "metadata": {},
     "outputs": [
      {
       "metadata": {},
       "output_type": "pyout",
       "prompt_number": 8,
       "text": [
        "331785.0"
       ]
      }
     ],
     "prompt_number": 8
    },
    {
     "cell_type": "markdown",
     "metadata": {},
     "source": [
      "There's a shortcut to make this a little more convenient in interactive use"
     ]
    },
    {
     "cell_type": "markdown",
     "metadata": {},
     "source": [
      "Interactive mode\n",
      "---\n",
      "\n",
      "Many Ibis expressions can be immediately executed against the database, and it may improve your productivity to have the executed for you whenever you try to print the expression in the console / IPython notebook.\n",
      "\n",
      "To do this, we have an *interactive* mode available, which can be turned on/off like so:"
     ]
    },
    {
     "cell_type": "code",
     "collapsed": false,
     "input": [
      "ibis.options.interactive = True"
     ],
     "language": "python",
     "metadata": {},
     "outputs": [],
     "prompt_number": 9
    },
    {
     "cell_type": "markdown",
     "metadata": {},
     "source": [
      "Now, any expressions you write will be executed right away"
     ]
    },
    {
     "cell_type": "code",
     "collapsed": false,
     "input": [
      "table.limit(10)"
     ],
     "language": "python",
     "metadata": {},
     "outputs": [
      {
       "metadata": {},
       "output_type": "pyout",
       "prompt_number": 10,
       "text": [
        "     id bool_col  tinyint_col  smallint_col  int_col  bigint_col  float_col  \\\n",
        "0  2430     True            0             0        0           0        0.0   \n",
        "1  2431    False            1             1        1          10        1.1   \n",
        "2  2432     True            2             2        2          20        2.2   \n",
        "3  2433    False            3             3        3          30        3.3   \n",
        "4  2434     True            4             4        4          40        4.4   \n",
        "5  2435    False            5             5        5          50        5.5   \n",
        "6  2436     True            6             6        6          60        6.6   \n",
        "7  2437    False            7             7        7          70        7.7   \n",
        "8  2438     True            8             8        8          80        8.8   \n",
        "9  2439    False            9             9        9          90        9.9   \n",
        "\n",
        "   double_col date_string_col string_col              timestamp_col  year  \\\n",
        "0         0.0        09/01/09          0        2009-09-01 00:00:00  2009   \n",
        "1        10.1        09/01/09          1        2009-09-01 00:01:00  2009   \n",
        "2        20.2        09/01/09          2 2009-09-01 00:02:00.100000  2009   \n",
        "3        30.3        09/01/09          3 2009-09-01 00:03:00.300000  2009   \n",
        "4        40.4        09/01/09          4 2009-09-01 00:04:00.600000  2009   \n",
        "5        50.5        09/01/09          5 2009-09-01 00:05:00.100000  2009   \n",
        "6        60.6        09/01/09          6 2009-09-01 00:06:00.150000  2009   \n",
        "7        70.7        09/01/09          7 2009-09-01 00:07:00.210000  2009   \n",
        "8        80.8        09/01/09          8 2009-09-01 00:08:00.280000  2009   \n",
        "9        90.9        09/01/09          9 2009-09-01 00:09:00.360000  2009   \n",
        "\n",
        "   month  \n",
        "0      9  \n",
        "1      9  \n",
        "2      9  \n",
        "3      9  \n",
        "4      9  \n",
        "5      9  \n",
        "6      9  \n",
        "7      9  \n",
        "8      9  \n",
        "9      9  "
       ]
      }
     ],
     "prompt_number": 10
    },
    {
     "cell_type": "markdown",
     "metadata": {},
     "source": [
      "You can select a row range with slicing syntax:"
     ]
    },
    {
     "cell_type": "code",
     "collapsed": false,
     "input": [
      "table.double_col.sum()"
     ],
     "language": "python",
     "metadata": {},
     "outputs": [
      {
       "metadata": {},
       "output_type": "pyout",
       "prompt_number": 11,
       "text": [
        "331785.0"
       ]
      }
     ],
     "prompt_number": 11
    },
    {
     "cell_type": "markdown",
     "metadata": {},
     "source": [
      "Don't worry about the syntax here, but expressions resulting in tabular output will come back as a pandas DataFrame by default:"
     ]
    },
    {
     "cell_type": "code",
     "collapsed": false,
     "input": [
      "metrics = [table.double_col.sum().name('total')]\n",
      "expr = table.group_by('string_col').aggregate(metrics)\n",
      "expr"
     ],
     "language": "python",
     "metadata": {},
     "outputs": [
      {
       "metadata": {},
       "output_type": "pyout",
       "prompt_number": 12,
       "text": [
        "  string_col  total\n",
        "0          6  44238\n",
        "1          4  29492\n",
        "2          7  51611\n",
        "3          1   7373\n",
        "4          8  58984\n",
        "5          9  66357\n",
        "6          2  14746\n",
        "7          3  22119\n",
        "8          5  36865\n",
        "9          0      0"
       ]
      }
     ],
     "prompt_number": 12
    },
    {
     "cell_type": "markdown",
     "metadata": {},
     "source": [
      "Verbose mode and logging\n",
      "---\n",
      "\n",
      "You may want to see or log all the Impala queries that Ibis executes under the hood. To do that, use the `options.verbose` option:"
     ]
    },
    {
     "cell_type": "code",
     "collapsed": false,
     "input": [
      "ibis.options.verbose = True\n",
      "\n",
      "metrics = [table.double_col.sum().name('total')]\n",
      "expr = table.group_by('string_col').aggregate(metrics)\n",
      "expr"
     ],
     "language": "python",
     "metadata": {},
     "outputs": [
      {
       "output_type": "stream",
       "stream": "stdout",
       "text": [
        "SELECT string_col, sum(double_col) AS `total`\n",
        "FROM functional_alltypes\n",
        "GROUP BY 1\n",
        "LIMIT 10000\n"
       ]
      },
      {
       "metadata": {},
       "output_type": "pyout",
       "prompt_number": 13,
       "text": [
        "  string_col  total\n",
        "0          6  44238\n",
        "1          4  29492\n",
        "2          7  51611\n",
        "3          1   7373\n",
        "4          9  66357\n",
        "5          8  58984\n",
        "6          3  22119\n",
        "7          2  14746\n",
        "8          5  36865\n",
        "9          0      0"
       ]
      }
     ],
     "prompt_number": 13
    },
    {
     "cell_type": "code",
     "collapsed": false,
     "input": [
      "queries = []\n",
      "def logger(x):\n",
      "    queries.append(x)\n",
      "    \n",
      "ibis.options.verbose_log = logger\n",
      "\n",
      "expr.execute()\n",
      "expr.execute()\n",
      "\n",
      "queries"
     ],
     "language": "python",
     "metadata": {},
     "outputs": [
      {
       "metadata": {},
       "output_type": "pyout",
       "prompt_number": 14,
       "text": [
        "['SELECT string_col, sum(double_col) AS `total`\\nFROM functional_alltypes\\nGROUP BY 1',\n",
        " 'SELECT string_col, sum(double_col) AS `total`\\nFROM functional_alltypes\\nGROUP BY 1']"
       ]
      }
     ],
     "prompt_number": 14
    },
    {
     "cell_type": "code",
     "collapsed": false,
     "input": [
      "from __future__ import print_function\n",
      "ibis.options.verbose_log = lambda x: print(x)\n",
      "ibis.options.verbose = False"
     ],
     "language": "python",
     "metadata": {},
     "outputs": [],
     "prompt_number": 15
    },
    {
     "cell_type": "markdown",
     "metadata": {},
     "source": [
      "Aggregation basics\n",
      "---\n",
      "\n",
      "One of the essential table API functions is `aggregate`. Aggregation involves the following\n",
      "\n",
      "- One or more *named* aggregate expressions, or *reductions*\n",
      "- Zero or more grouping expressions or column names\n",
      "\n",
      "This ends up working very similarly to pandas's **groupby** mechanism.\n",
      "\n",
      "Let's start with a simple reduction:"
     ]
    },
    {
     "cell_type": "code",
     "collapsed": false,
     "input": [
      "metric = table.double_col.sum()"
     ],
     "language": "python",
     "metadata": {},
     "outputs": [],
     "prompt_number": 16
    },
    {
     "cell_type": "markdown",
     "metadata": {},
     "source": [
      "As you saw above, you can execute this immediately and obtain a value:"
     ]
    },
    {
     "cell_type": "code",
     "collapsed": false,
     "input": [
      "metric"
     ],
     "language": "python",
     "metadata": {},
     "outputs": [
      {
       "metadata": {},
       "output_type": "pyout",
       "prompt_number": 17,
       "text": [
        "331785.0"
       ]
      }
     ],
     "prompt_number": 17
    },
    {
     "cell_type": "markdown",
     "metadata": {},
     "source": [
      "The reduced column can be more complex; for example, you could count the number of null values in a column like so:"
     ]
    },
    {
     "cell_type": "code",
     "collapsed": false,
     "input": [
      "table.double_col.isnull().sum()"
     ],
     "language": "python",
     "metadata": {},
     "outputs": [
      {
       "metadata": {},
       "output_type": "pyout",
       "prompt_number": 18,
       "text": [
        "0"
       ]
      }
     ],
     "prompt_number": 18
    },
    {
     "cell_type": "markdown",
     "metadata": {},
     "source": [
      "To aggregate a table, potentially with grouping keys, we have to give the reduction a name and call `aggregate`"
     ]
    },
    {
     "cell_type": "code",
     "collapsed": false,
     "input": [
      "metric = metric.name('double_total')\n",
      "expr = table.aggregate([metric])\n",
      "result = con.execute(expr)\n",
      "result"
     ],
     "language": "python",
     "metadata": {},
     "outputs": [
      {
       "html": [
        "<div style=\"max-height:1000px;max-width:1500px;overflow:auto;\">\n",
        "<table border=\"1\" class=\"dataframe\">\n",
        "  <thead>\n",
        "    <tr style=\"text-align: right;\">\n",
        "      <th></th>\n",
        "      <th>double_total</th>\n",
        "    </tr>\n",
        "  </thead>\n",
        "  <tbody>\n",
        "    <tr>\n",
        "      <th>0</th>\n",
        "      <td>331785</td>\n",
        "    </tr>\n",
        "  </tbody>\n",
        "</table>\n",
        "</div>"
       ],
       "metadata": {},
       "output_type": "pyout",
       "prompt_number": 19,
       "text": [
        "   double_total\n",
        "0        331785"
       ]
      }
     ],
     "prompt_number": 19
    },
    {
     "cell_type": "markdown",
     "metadata": {},
     "source": [
      "The result here is actually a pandas DataFrame with 1 row and just the one column. We can add another metric and add a grouping key"
     ]
    },
    {
     "cell_type": "code",
     "collapsed": false,
     "input": [
      "metric2 = (table.bigint_col + 1).log10().max().name('some_metric')\n",
      "\n",
      "expr = table.aggregate([metric, metric2], by=['string_col'])\n",
      "expr"
     ],
     "language": "python",
     "metadata": {},
     "outputs": [
      {
       "metadata": {},
       "output_type": "pyout",
       "prompt_number": 20,
       "text": [
        "  string_col  double_total  some_metric\n",
        "0          6         44238     1.785330\n",
        "1          4         29492     1.612784\n",
        "2          1          7373     1.041393\n",
        "3          7         51611     1.851258\n",
        "4          8         58984     1.908485\n",
        "5          9         66357     1.959041\n",
        "6          2         14746     1.322219\n",
        "7          3         22119     1.491362\n",
        "8          5         36865     1.707570\n",
        "9          0             0     0.000000"
       ]
      }
     ],
     "prompt_number": 20
    },
    {
     "cell_type": "markdown",
     "metadata": {},
     "source": [
      "We provide a convenience `group_by`, a la pandas, to make this a little more composable:"
     ]
    },
    {
     "cell_type": "code",
     "collapsed": false,
     "input": [
      "expr = (table.group_by('string_col')\n",
      "        .aggregate([metric, metric2]))\n",
      "expr"
     ],
     "language": "python",
     "metadata": {},
     "outputs": [
      {
       "metadata": {},
       "output_type": "pyout",
       "prompt_number": 21,
       "text": [
        "  string_col  double_total  some_metric\n",
        "0          6         44238     1.785330\n",
        "1          1          7373     1.041393\n",
        "2          8         58984     1.908485\n",
        "3          2         14746     1.322219\n",
        "4          5         36865     1.707570\n",
        "5          0             0     0.000000\n",
        "6          9         66357     1.959041\n",
        "7          3         22119     1.491362\n",
        "8          4         29492     1.612784\n",
        "9          7         51611     1.851258"
       ]
      }
     ],
     "prompt_number": 21
    },
    {
     "cell_type": "markdown",
     "metadata": {},
     "source": [
      "You can also group by named column expressions"
     ]
    },
    {
     "cell_type": "code",
     "collapsed": false,
     "input": [
      "keys = [table.timestamp_col.hour().name('hour'), 'string_col']\n",
      "\n",
      "expr = table.group_by(keys).aggregate([metric])\n",
      "\n",
      "# Top 10 by double_total, more on this later\n",
      "expr.sort_by([('double_total', False)]).limit(10)"
     ],
     "language": "python",
     "metadata": {},
     "outputs": [
      {
       "metadata": {},
       "output_type": "pyout",
       "prompt_number": 22,
       "text": [
        "   hour string_col  double_total\n",
        "0     1          9       13544.1\n",
        "1     2          9       13180.5\n",
        "2     0          9       13089.6\n",
        "3     3          9       13089.6\n",
        "4     4          9       12271.5\n",
        "5     1          8       12039.2\n",
        "6     2          8       11716.0\n",
        "7     0          8       11635.2\n",
        "8     3          8       11635.2\n",
        "9     4          8       10908.0"
       ]
      }
     ],
     "prompt_number": 22
    },
    {
     "cell_type": "markdown",
     "metadata": {},
     "source": [
      "Many reduction functions have a default expression name, unlike many other Ibis expressions (for now!), to make some common analyses easier:"
     ]
    },
    {
     "cell_type": "code",
     "collapsed": false,
     "input": [
      "d = table.double_col\n",
      "\n",
      "(table.group_by('string_col')\n",
      " .aggregate([d.sum(), d.mean(), d.min(), d.max()]))"
     ],
     "language": "python",
     "metadata": {},
     "outputs": [
      {
       "metadata": {},
       "output_type": "pyout",
       "prompt_number": 23,
       "text": [
        "  string_col    sum  mean   min   max\n",
        "0          6  44238  60.6  60.6  60.6\n",
        "1          4  29492  40.4  40.4  40.4\n",
        "2          7  51611  70.7  70.7  70.7\n",
        "3          1   7373  10.1  10.1  10.1\n",
        "4          8  58984  80.8  80.8  80.8\n",
        "5          2  14746  20.2  20.2  20.2\n",
        "6          5  36865  50.5  50.5  50.5\n",
        "7          9  66357  90.9  90.9  90.9\n",
        "8          0      0   0.0   0.0   0.0\n",
        "9          3  22119  30.3  30.3  30.3"
       ]
      }
     ],
     "prompt_number": 23
    },
    {
     "cell_type": "markdown",
     "metadata": {},
     "source": [
      "Of course, for this _particular_ case you can always use `summary`"
     ]
    },
    {
     "cell_type": "code",
     "collapsed": false,
     "input": [
      "table.group_by('string_col').double_col.summary()"
     ],
     "language": "python",
     "metadata": {},
     "outputs": [
      {
       "metadata": {},
       "output_type": "pyout",
       "prompt_number": 24,
       "text": [
        "  string_col  count  nulls   min   max    sum  mean  approx_nunique\n",
        "0          6    730      0  60.6  60.6  44238  60.6               1\n",
        "1          4    730      0  40.4  40.4  29492  40.4               1\n",
        "2          7    730      0  70.7  70.7  51611  70.7               1\n",
        "3          1    730      0  10.1  10.1   7373  10.1               1\n",
        "4          8    730      0  80.8  80.8  58984  80.8               1\n",
        "5          2    730      0  20.2  20.2  14746  20.2               1\n",
        "6          5    730      0  50.5  50.5  36865  50.5               1\n",
        "7          0    730      0   0.0   0.0      0   0.0               1\n",
        "8          9    730      0  90.9  90.9  66357  90.9               1\n",
        "9          3    730      0  30.3  30.3  22119  30.3               1"
       ]
      }
     ],
     "prompt_number": 24
    },
    {
     "cell_type": "markdown",
     "metadata": {},
     "source": [
      "Filtering\n",
      "---\n",
      "Filtering tables works similarly to pandas"
     ]
    },
    {
     "cell_type": "code",
     "collapsed": false,
     "input": [
      "table.aggregate([table.bigint_col.max().name('bigint_max'),\n",
      "                 table.bigint_col.min().name('bigint_min'),\n",
      "                 table.int_col.max().name('int_max'),\n",
      "                 table.int_col.min().name('int_min')])"
     ],
     "language": "python",
     "metadata": {},
     "outputs": [
      {
       "metadata": {},
       "output_type": "pyout",
       "prompt_number": 25,
       "text": [
        "   bigint_max  bigint_min  int_max  int_min\n",
        "0          90           0        9        0"
       ]
      }
     ],
     "prompt_number": 25
    },
    {
     "cell_type": "code",
     "collapsed": false,
     "input": [
      "table.count()"
     ],
     "language": "python",
     "metadata": {},
     "outputs": [
      {
       "metadata": {},
       "output_type": "pyout",
       "prompt_number": 26,
       "text": [
        "7300"
       ]
      }
     ],
     "prompt_number": 26
    },
    {
     "cell_type": "code",
     "collapsed": false,
     "input": [
      "table[table.bigint_col > 50].count()"
     ],
     "language": "python",
     "metadata": {},
     "outputs": [
      {
       "metadata": {},
       "output_type": "pyout",
       "prompt_number": 27,
       "text": [
        "2920"
       ]
      }
     ],
     "prompt_number": 27
    },
    {
     "cell_type": "markdown",
     "metadata": {},
     "source": [
      "Filters can be composed using & (and), | (or), and other logical array operators"
     ]
    },
    {
     "cell_type": "code",
     "collapsed": false,
     "input": [
      "cond1 = table.bigint_col > 50\n",
      "cond2 = table.int_col.between(2, 7)\n",
      "table[cond1 | cond2].count()"
     ],
     "language": "python",
     "metadata": {},
     "outputs": [
      {
       "metadata": {},
       "output_type": "pyout",
       "prompt_number": 28,
       "text": [
        "5840"
       ]
      }
     ],
     "prompt_number": 28
    },
    {
     "cell_type": "markdown",
     "metadata": {},
     "source": [
      "There's a `filter` function that allows you to pass a list of conditions (that are all required to hold):"
     ]
    },
    {
     "cell_type": "code",
     "collapsed": false,
     "input": [
      "table.filter([cond1, cond2]).count()"
     ],
     "language": "python",
     "metadata": {},
     "outputs": [
      {
       "metadata": {},
       "output_type": "pyout",
       "prompt_number": 29,
       "text": [
        "1460"
       ]
      }
     ],
     "prompt_number": 29
    },
    {
     "cell_type": "markdown",
     "metadata": {},
     "source": [
      "Note this is the same as &-ing the boolean conditions yourself:"
     ]
    },
    {
     "cell_type": "code",
     "collapsed": false,
     "input": [
      "table[cond1 & cond2].count()"
     ],
     "language": "python",
     "metadata": {},
     "outputs": [
      {
       "metadata": {},
       "output_type": "pyout",
       "prompt_number": 30,
       "text": [
        "1460"
       ]
      }
     ],
     "prompt_number": 30
    },
    {
     "cell_type": "markdown",
     "metadata": {},
     "source": [
      "Limits\n",
      "---\n",
      "\n",
      "Like in SQL, the `limit` function selects the indicated numbers of rows from the beginning of a table's result set"
     ]
    },
    {
     "cell_type": "code",
     "collapsed": false,
     "input": [
      "table.limit(2)"
     ],
     "language": "python",
     "metadata": {},
     "outputs": [
      {
       "metadata": {},
       "output_type": "pyout",
       "prompt_number": 31,
       "text": [
        "     id bool_col  tinyint_col  smallint_col  int_col  bigint_col  float_col  \\\n",
        "0  2430     True            0             0        0           0        0.0   \n",
        "1  2431    False            1             1        1          10        1.1   \n",
        "\n",
        "   double_col date_string_col string_col       timestamp_col  year  month  \n",
        "0         0.0        09/01/09          0 2009-09-01 00:00:00  2009      9  \n",
        "1        10.1        09/01/09          1 2009-09-01 00:01:00  2009      9  "
       ]
      }
     ],
     "prompt_number": 31
    }
   ],
   "metadata": {}
  }
 ]
}