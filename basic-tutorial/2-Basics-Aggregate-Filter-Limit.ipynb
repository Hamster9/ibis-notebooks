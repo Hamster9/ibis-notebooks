{
 "metadata": {
  "name": "",
  "signature": "sha256:9bf180fdf7272a4c626cee57bd58118ea3d4779513ee0eaded6dc4a61bf4108e"
 },
 "nbformat": 3,
 "nbformat_minor": 0,
 "worksheets": [
  {
   "cells": [
    {
     "cell_type": "markdown",
     "metadata": {},
     "source": [
      "Now that you have ibis installed and connecting to your Impala, let's get our feet wet."
     ]
    },
    {
     "cell_type": "code",
     "collapsed": false,
     "input": [
      "from ibis import api\n",
      "import ibis\n",
      "con = ibis.impala_connect(host='localhost')"
     ],
     "language": "python",
     "metadata": {},
     "outputs": [],
     "prompt_number": 62
    },
    {
     "cell_type": "markdown",
     "metadata": {},
     "source": [
      "Accessing an Impala table\n",
      "---"
     ]
    },
    {
     "cell_type": "code",
     "collapsed": false,
     "input": [
      "table = con.table('functional.alltypes')\n",
      "table"
     ],
     "language": "python",
     "metadata": {},
     "outputs": [
      {
       "metadata": {},
       "output_type": "pyout",
       "prompt_number": 5,
       "text": [
        "DatabaseTable[table]\n",
        "  name: functional.alltypes\n",
        "  schema:\n",
        "    id : int32\n",
        "    bool_col : boolean\n",
        "    tinyint_col : int8\n",
        "    smallint_col : int16\n",
        "    int_col : int32\n",
        "    bigint_col : int64\n",
        "    float_col : float\n",
        "    double_col : double\n",
        "    date_string_col : string\n",
        "    string_col : string\n",
        "    timestamp_col : timestamp\n",
        "    year : int32\n",
        "    month : int32"
       ]
      }
     ],
     "prompt_number": 5
    },
    {
     "cell_type": "markdown",
     "metadata": {},
     "source": [
      "Column selection and basic expressions\n",
      "---\n",
      "Selecting columns from a table works just like pandas"
     ]
    },
    {
     "cell_type": "code",
     "collapsed": false,
     "input": [
      "col = table.double_col\n",
      "\n",
      "# alternately\n",
      "col2 = table['bigint_col']"
     ],
     "language": "python",
     "metadata": {},
     "outputs": [],
     "prompt_number": 17
    },
    {
     "cell_type": "markdown",
     "metadata": {},
     "source": [
      "Table columns are equipped with a variety of math operations and other methods to assist in writing your analytics. For example:"
     ]
    },
    {
     "cell_type": "code",
     "collapsed": false,
     "input": [
      "expr = col.log2() - 1\n",
      "expr"
     ],
     "language": "python",
     "metadata": {},
     "outputs": [
      {
       "metadata": {},
       "output_type": "pyout",
       "prompt_number": 66,
       "text": [
        "0         -inf\n",
        "1     2.336283\n",
        "2     3.336283\n",
        "3     3.921246\n",
        "4     4.336283\n",
        "5     4.658211\n",
        "6     4.921246\n",
        "7     5.143638\n",
        "8     5.336283\n",
        "9     5.506208\n",
        "10        -inf\n",
        "11    2.336283\n",
        "12    3.336283\n",
        "13    3.921246\n",
        "14    4.336283\n",
        "...\n",
        "7285    4.658211\n",
        "7286    4.921246\n",
        "7287    5.143638\n",
        "7288    5.336283\n",
        "7289    5.506208\n",
        "7290        -inf\n",
        "7291    2.336283\n",
        "7292    3.336283\n",
        "7293    3.921246\n",
        "7294    4.336283\n",
        "7295    4.658211\n",
        "7296    4.921246\n",
        "7297    5.143638\n",
        "7298    5.336283\n",
        "7299    5.506208\n",
        "Name: tmp, Length: 7300, dtype: float64"
       ]
      }
     ],
     "prompt_number": 66
    },
    {
     "cell_type": "markdown",
     "metadata": {},
     "source": [
      "Some operations transform arrays to arrays, while others aggregate, like `sum` and `mean`:"
     ]
    },
    {
     "cell_type": "code",
     "collapsed": false,
     "input": [
      "expr2 = expr.sum()"
     ],
     "language": "python",
     "metadata": {},
     "outputs": [],
     "prompt_number": 68
    },
    {
     "cell_type": "markdown",
     "metadata": {},
     "source": [
      "The methods that are available on columns depend on the time of the column. For example, you won't see the `substr` or `upper` methods for strings on numeric columns:"
     ]
    },
    {
     "cell_type": "code",
     "collapsed": false,
     "input": [
      "substr_expr = table.string_col.upper().substr(0, 2)"
     ],
     "language": "python",
     "metadata": {},
     "outputs": [],
     "prompt_number": 69
    },
    {
     "cell_type": "markdown",
     "metadata": {},
     "source": [
      "Notice that printing the expressions to the console does not actually do anything, and shows a graphical representation of the expression you've built.\n",
      "\n",
      "**Note: don't worry too much about the details of the expression tree that's outputted, it's very likely to change over time**"
     ]
    },
    {
     "cell_type": "code",
     "collapsed": false,
     "input": [
      "expr2"
     ],
     "language": "python",
     "metadata": {},
     "outputs": [
      {
       "metadata": {},
       "output_type": "pyout",
       "prompt_number": 70,
       "text": [
        "ref_0\n",
        "DatabaseTable[double]\n",
        "  name: functional.alltypes\n",
        "  schema:\n",
        "    id : int32\n",
        "    bool_col : boolean\n",
        "    tinyint_col : int8\n",
        "    smallint_col : int16\n",
        "    int_col : int32\n",
        "    bigint_col : int64\n",
        "    float_col : float\n",
        "    double_col : double\n",
        "    date_string_col : string\n",
        "    string_col : string\n",
        "    timestamp_col : timestamp\n",
        "    year : int32\n",
        "    month : int32\n",
        "\n",
        "Sum[double]\n",
        "  Subtract[array(double)]\n",
        "    Log2[array(double)]\n",
        "      Column[double] 'double_col' from table ref_0\n",
        "    Literal[int8]\n",
        "      1"
       ]
      }
     ],
     "prompt_number": 70
    },
    {
     "cell_type": "markdown",
     "metadata": {},
     "source": [
      "We can also execute an expression by calling `execute` on the Impala connection object"
     ]
    },
    {
     "cell_type": "code",
     "collapsed": false,
     "input": [
      "con.execute(col.sum())"
     ],
     "language": "python",
     "metadata": {},
     "outputs": [
      {
       "metadata": {},
       "output_type": "pyout",
       "prompt_number": 71,
       "text": [
        "331785.0"
       ]
      }
     ],
     "prompt_number": 71
    },
    {
     "cell_type": "markdown",
     "metadata": {},
     "source": [
      "There's a shortcut to make this a little more convenient in interactive use"
     ]
    },
    {
     "cell_type": "markdown",
     "metadata": {},
     "source": [
      "Interactive mode\n",
      "---\n",
      "\n",
      "Many Ibis expressions can be immediately executed against the database, and it may improve your productivity to have the executed for you whenever you try to print the expression in the console / IPython notebook.\n",
      "\n",
      "To do this, we have an *interactive* mode available, which can be turned on/off like so:"
     ]
    },
    {
     "cell_type": "code",
     "collapsed": false,
     "input": [
      "ibis.options.interactive = True"
     ],
     "language": "python",
     "metadata": {},
     "outputs": [],
     "prompt_number": 72
    },
    {
     "cell_type": "markdown",
     "metadata": {},
     "source": [
      "Now, any expressions you write will be executed right away"
     ]
    },
    {
     "cell_type": "code",
     "collapsed": false,
     "input": [
      "table.limit(10)"
     ],
     "language": "python",
     "metadata": {},
     "outputs": [
      {
       "metadata": {},
       "output_type": "pyout",
       "prompt_number": 73,
       "text": [
        "     id bool_col  tinyint_col  smallint_col  int_col  bigint_col  float_col  \\\n",
        "0  6380     True            0             0        0           0        0.0   \n",
        "1  6381    False            1             1        1          10        1.1   \n",
        "2  6382     True            2             2        2          20        2.2   \n",
        "3  6383    False            3             3        3          30        3.3   \n",
        "4  6384     True            4             4        4          40        4.4   \n",
        "5  6385    False            5             5        5          50        5.5   \n",
        "6  6386     True            6             6        6          60        6.6   \n",
        "7  6387    False            7             7        7          70        7.7   \n",
        "8  6388     True            8             8        8          80        8.8   \n",
        "9  6389    False            9             9        9          90        9.9   \n",
        "\n",
        "   double_col date_string_col string_col              timestamp_col  year  \\\n",
        "0         0.0        10/01/10          0        2010-10-01 00:00:00  2010   \n",
        "1        10.1        10/01/10          1        2010-10-01 00:01:00  2010   \n",
        "2        20.2        10/01/10          2 2010-10-01 00:02:00.100000  2010   \n",
        "3        30.3        10/01/10          3 2010-10-01 00:03:00.300000  2010   \n",
        "4        40.4        10/01/10          4 2010-10-01 00:04:00.600000  2010   \n",
        "5        50.5        10/01/10          5 2010-10-01 00:05:00.100000  2010   \n",
        "6        60.6        10/01/10          6 2010-10-01 00:06:00.150000  2010   \n",
        "7        70.7        10/01/10          7 2010-10-01 00:07:00.210000  2010   \n",
        "8        80.8        10/01/10          8 2010-10-01 00:08:00.280000  2010   \n",
        "9        90.9        10/01/10          9 2010-10-01 00:09:00.360000  2010   \n",
        "\n",
        "   month  \n",
        "0     10  \n",
        "1     10  \n",
        "2     10  \n",
        "3     10  \n",
        "4     10  \n",
        "5     10  \n",
        "6     10  \n",
        "7     10  \n",
        "8     10  \n",
        "9     10  "
       ]
      }
     ],
     "prompt_number": 73
    },
    {
     "cell_type": "code",
     "collapsed": false,
     "input": [
      "table.double_col.sum()"
     ],
     "language": "python",
     "metadata": {},
     "outputs": [
      {
       "metadata": {},
       "output_type": "pyout",
       "prompt_number": 74,
       "text": [
        "331785.0"
       ]
      }
     ],
     "prompt_number": 74
    },
    {
     "cell_type": "markdown",
     "metadata": {},
     "source": [
      "Don't worry about the syntax here, but expressions resulting in tabular output will come back as a pandas DataFrame by default:"
     ]
    },
    {
     "cell_type": "code",
     "collapsed": false,
     "input": [
      "metrics = [table.double_col.sum().name('total')]\n",
      "expr = table.group_by('string_col').aggregate(metrics)\n",
      "expr"
     ],
     "language": "python",
     "metadata": {},
     "outputs": [
      {
       "metadata": {},
       "output_type": "pyout",
       "prompt_number": 75,
       "text": [
        "  string_col  total\n",
        "0          6  44238\n",
        "1          4  29492\n",
        "2          1   7373\n",
        "3          8  58984\n",
        "4          7  51611\n",
        "5          9  66357\n",
        "6          2  14746\n",
        "7          3  22119\n",
        "8          5  36865\n",
        "9          0      0"
       ]
      }
     ],
     "prompt_number": 75
    },
    {
     "cell_type": "markdown",
     "metadata": {},
     "source": [
      "Aggregation basics\n",
      "---\n",
      "\n",
      "One of the essential table API functions is `aggregate`. Aggregation involves the following\n",
      "\n",
      "- One or more *named* aggregate expressions, or *reductions*\n",
      "- Zero or more grouping expressions or column names\n",
      "\n",
      "This ends up working very similarly to pandas's **groupby** mechanism.\n",
      "\n",
      "Let's start with a simple reduction:"
     ]
    },
    {
     "cell_type": "code",
     "collapsed": false,
     "input": [
      "metric = table.double_col.sum()"
     ],
     "language": "python",
     "metadata": {},
     "outputs": [],
     "prompt_number": 76
    },
    {
     "cell_type": "markdown",
     "metadata": {},
     "source": [
      "As you saw above, you can execute this immediately and obtain a value:"
     ]
    },
    {
     "cell_type": "code",
     "collapsed": false,
     "input": [
      "metric"
     ],
     "language": "python",
     "metadata": {},
     "outputs": [
      {
       "metadata": {},
       "output_type": "pyout",
       "prompt_number": 77,
       "text": [
        "331785.0"
       ]
      }
     ],
     "prompt_number": 77
    },
    {
     "cell_type": "markdown",
     "metadata": {},
     "source": [
      "The reduced column can be more complex; for example, you could count the number of null values in a column like so:"
     ]
    },
    {
     "cell_type": "code",
     "collapsed": false,
     "input": [
      "table.double_col.isnull().sum()"
     ],
     "language": "python",
     "metadata": {},
     "outputs": [
      {
       "metadata": {},
       "output_type": "pyout",
       "prompt_number": 84,
       "text": [
        "0"
       ]
      }
     ],
     "prompt_number": 84
    },
    {
     "cell_type": "markdown",
     "metadata": {},
     "source": [
      "To aggregate a table, potentially with grouping keys, we have to give the reduction a name and call `aggregate`"
     ]
    },
    {
     "cell_type": "code",
     "collapsed": false,
     "input": [
      "metric = metric.name('double_total')\n",
      "expr = table.aggregate([metric])\n",
      "result = con.execute(expr)\n",
      "result"
     ],
     "language": "python",
     "metadata": {},
     "outputs": [
      {
       "html": [
        "<div style=\"max-height:1000px;max-width:1500px;overflow:auto;\">\n",
        "<table border=\"1\" class=\"dataframe\">\n",
        "  <thead>\n",
        "    <tr style=\"text-align: right;\">\n",
        "      <th></th>\n",
        "      <th>double_total</th>\n",
        "    </tr>\n",
        "  </thead>\n",
        "  <tbody>\n",
        "    <tr>\n",
        "      <th>0</th>\n",
        "      <td>331785</td>\n",
        "    </tr>\n",
        "  </tbody>\n",
        "</table>\n",
        "</div>"
       ],
       "metadata": {},
       "output_type": "pyout",
       "prompt_number": 78,
       "text": [
        "   double_total\n",
        "0        331785"
       ]
      }
     ],
     "prompt_number": 78
    },
    {
     "cell_type": "markdown",
     "metadata": {},
     "source": [
      "The result here is actually a pandas DataFrame with 1 row and just the one column. We can add another metric and add a grouping key"
     ]
    },
    {
     "cell_type": "code",
     "collapsed": false,
     "input": [
      "metric2 = (table.bigint_col + 1).log10().max().name('some_metric')\n",
      "\n",
      "expr = table.aggregate([metric, metric2], by=['string_col'])\n",
      "expr"
     ],
     "language": "python",
     "metadata": {},
     "outputs": [
      {
       "metadata": {},
       "output_type": "pyout",
       "prompt_number": 79,
       "text": [
        "  string_col  double_total  some_metric\n",
        "0          6         44238     1.785330\n",
        "1          4         29492     1.612784\n",
        "2          1          7373     1.041393\n",
        "3          7         51611     1.851258\n",
        "4          8         58984     1.908485\n",
        "5          2         14746     1.322219\n",
        "6          9         66357     1.959041\n",
        "7          5         36865     1.707570\n",
        "8          3         22119     1.491362\n",
        "9          0             0     0.000000"
       ]
      }
     ],
     "prompt_number": 79
    },
    {
     "cell_type": "markdown",
     "metadata": {},
     "source": [
      "We provide a convenience `group_by`, a la pandas, to make this a little more composable:"
     ]
    },
    {
     "cell_type": "code",
     "collapsed": false,
     "input": [
      "expr = (table.group_by('string_col')\n",
      "        .aggregate([metric, metric2]))\n",
      "expr"
     ],
     "language": "python",
     "metadata": {},
     "outputs": [
      {
       "metadata": {},
       "output_type": "pyout",
       "prompt_number": 80,
       "text": [
        "  string_col  double_total  some_metric\n",
        "0          6         44238     1.785330\n",
        "1          1          7373     1.041393\n",
        "2          8         58984     1.908485\n",
        "3          4         29492     1.612784\n",
        "4          2         14746     1.322219\n",
        "5          7         51611     1.851258\n",
        "6          9         66357     1.959041\n",
        "7          5         36865     1.707570\n",
        "8          3         22119     1.491362\n",
        "9          0             0     0.000000"
       ]
      }
     ],
     "prompt_number": 80
    },
    {
     "cell_type": "markdown",
     "metadata": {},
     "source": [
      "You can also group by named column expressions"
     ]
    },
    {
     "cell_type": "code",
     "collapsed": false,
     "input": [
      "keys = [table.timestamp_col.hour().name('hour'), 'string_col']\n",
      "\n",
      "expr = table.group_by(keys).aggregate([metric])\n",
      "\n",
      "# Top 10 by double_total, more on this later\n",
      "expr.sort_by([('double_total', False)]).limit(10)"
     ],
     "language": "python",
     "metadata": {},
     "outputs": [
      {
       "metadata": {},
       "output_type": "pyout",
       "prompt_number": 83,
       "text": [
        "   hour string_col  double_total\n",
        "0     1          9       13544.1\n",
        "1     2          9       13180.5\n",
        "2     0          9       13089.6\n",
        "3     3          9       13089.6\n",
        "4     4          9       12271.5\n",
        "5     1          8       12039.2\n",
        "6     2          8       11716.0\n",
        "7     0          8       11635.2\n",
        "8     3          8       11635.2\n",
        "9     4          8       10908.0"
       ]
      }
     ],
     "prompt_number": 83
    },
    {
     "cell_type": "markdown",
     "metadata": {},
     "source": [
      "Filtering\n",
      "---\n",
      "Filtering tables works similarly to pandas"
     ]
    },
    {
     "cell_type": "code",
     "collapsed": false,
     "input": [
      "table.aggregate([table.bigint_col.max().name('bigint_max'),\n",
      "                 table.bigint_col.min().name('bigint_min'),\n",
      "                 table.int_col.max().name('int_max'),\n",
      "                 table.int_col.min().name('int_min')])"
     ],
     "language": "python",
     "metadata": {},
     "outputs": [
      {
       "metadata": {},
       "output_type": "pyout",
       "prompt_number": 90,
       "text": [
        "   bigint_max  bigint_min  int_max  int_min\n",
        "0          90           0        9        0"
       ]
      }
     ],
     "prompt_number": 90
    },
    {
     "cell_type": "code",
     "collapsed": false,
     "input": [
      "table.count()"
     ],
     "language": "python",
     "metadata": {},
     "outputs": [
      {
       "metadata": {},
       "output_type": "pyout",
       "prompt_number": 89,
       "text": [
        "7300"
       ]
      }
     ],
     "prompt_number": 89
    },
    {
     "cell_type": "code",
     "collapsed": false,
     "input": [
      "table[table.bigint_col > 50].count()"
     ],
     "language": "python",
     "metadata": {},
     "outputs": [
      {
       "metadata": {},
       "output_type": "pyout",
       "prompt_number": 88,
       "text": [
        "2920"
       ]
      }
     ],
     "prompt_number": 88
    },
    {
     "cell_type": "markdown",
     "metadata": {},
     "source": [
      "Filters can be composed using & (and), | (or), and other logical array operators"
     ]
    },
    {
     "cell_type": "code",
     "collapsed": false,
     "input": [
      "cond1 = table.bigint_col > 50\n",
      "cond2 = table.int_col.between(2, 7)\n",
      "table[cond1 | cond2].count()"
     ],
     "language": "python",
     "metadata": {},
     "outputs": [
      {
       "metadata": {},
       "output_type": "pyout",
       "prompt_number": 93,
       "text": [
        "5840"
       ]
      }
     ],
     "prompt_number": 93
    },
    {
     "cell_type": "markdown",
     "metadata": {},
     "source": [
      "There's a `filter` function that allows you to pass a list of conditions (that are all required to hold):"
     ]
    },
    {
     "cell_type": "code",
     "collapsed": false,
     "input": [
      "table.filter([cond1, cond2]).count()"
     ],
     "language": "python",
     "metadata": {},
     "outputs": [
      {
       "metadata": {},
       "output_type": "pyout",
       "prompt_number": 94,
       "text": [
        "1460"
       ]
      }
     ],
     "prompt_number": 94
    },
    {
     "cell_type": "markdown",
     "metadata": {},
     "source": [
      "Note this is the same as &-ing the boolean conditions yourself:"
     ]
    },
    {
     "cell_type": "code",
     "collapsed": false,
     "input": [
      "table[cond1 & cond2].count()"
     ],
     "language": "python",
     "metadata": {},
     "outputs": [
      {
       "metadata": {},
       "output_type": "pyout",
       "prompt_number": 95,
       "text": [
        "1460"
       ]
      }
     ],
     "prompt_number": 95
    },
    {
     "cell_type": "markdown",
     "metadata": {},
     "source": [
      "Limits\n",
      "---\n",
      "\n",
      "Like in SQL, the `limit` function selects the indicated numbers of rows from the beginning of a table's result set"
     ]
    },
    {
     "cell_type": "code",
     "collapsed": false,
     "input": [
      "table.limit(2)"
     ],
     "language": "python",
     "metadata": {},
     "outputs": [
      {
       "metadata": {},
       "output_type": "pyout",
       "prompt_number": 97,
       "text": [
        "     id bool_col  tinyint_col  smallint_col  int_col  bigint_col  float_col  \\\n",
        "0  4550     True            0             0        0           0        0.0   \n",
        "1  4551    False            1             1        1          10        1.1   \n",
        "\n",
        "   double_col date_string_col string_col       timestamp_col  year  month  \n",
        "0         0.0        04/01/10          0 2010-04-01 00:00:00  2010      4  \n",
        "1        10.1        04/01/10          1 2010-04-01 00:01:00  2010      4  "
       ]
      }
     ],
     "prompt_number": 97
    },
    {
     "cell_type": "code",
     "collapsed": false,
     "input": [],
     "language": "python",
     "metadata": {},
     "outputs": []
    }
   ],
   "metadata": {}
  }
 ]
}