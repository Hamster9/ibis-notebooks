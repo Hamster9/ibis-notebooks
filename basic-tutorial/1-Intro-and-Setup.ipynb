{
 "metadata": {
  "name": "",
  "signature": "sha256:6589aa9279d760623d93eae0b1c552b11e28ab76f389f8553593f157b40b0784"
 },
 "nbformat": 3,
 "nbformat_minor": 0,
 "worksheets": [
  {
   "cells": [
    {
     "cell_type": "markdown",
     "metadata": {},
     "source": [
      "What is Ibis?\n",
      "===\n",
      "\n",
      "Ibis is a Python-based analytics framework, inspired by the pandas API and other successful tabular data manipulation toolkits, designed to use remote executions engines to provide speed and scalability for large distributed data sets. At the moment, we are focused on **Impala** as the execution engine for Ibis.\n",
      "\n",
      "The project breaks down into a number of logical components that fit together\n",
      "\n",
      "- A domain specific language, or **DSL** (as we'll call it henceforth), for describing data transformations, analytics, ETL, and any other dataset or system manipulation steps. This is a fancy way of saying \"a Python library with classes and functions that provide a higher level mode of expresison\".\n",
      "\n",
      "- Future: Tools to support multi-step workflows involving data ingest, ETL, caching, database view creation, and so forth. We aim to free the user from some of the low-level details of interacting with analytical data stores.\n",
      "\n",
      "- Future: Python user-defined function support within the Ibis DSL. This will also require some customizations to the execution engine (i.e. Impala) to be supported.\n",
      "\n",
      "- Future: Use the Ibis DSL with in-database machine learning toolkits like\n",
      "\n",
      "The Ibis DSL aims for several goals\n",
      "\n",
      "- Remote computation from a local Python compute session\n",
      "- Composability; easy to chain together operations and build pipelines\n",
      "- Integration with pandas and other Python libraries\n",
      "- Semantic completeness: support any operations possible in the underlying compute systems, e.g. Impala SQL\n",
      "- Validation as you go: catch you making mis-steps right away, if possible\n",
      "- Ease of code reuse"
     ]
    },
    {
     "cell_type": "markdown",
     "metadata": {},
     "source": [
      "Installation and running test suite\n",
      "===\n",
      "\n",
      "To install ibis, use `pip` (or `easy_install`, but `pip` is really better) to install directly from the supplied tarball:\n",
      "\n",
      "    pip install --upgrade ibis-0.2.0.tar.gz\n",
      "\n",
      "Note that ibis depends on a number of other Python libraries. If you are missing any of those libraries, `pip` will attempt to install them.\n",
      "\n",
      "Import ibis and verify that all is working like so:"
     ]
    },
    {
     "cell_type": "code",
     "collapsed": false,
     "input": [
      "import ibis\n",
      "ibis.test()"
     ],
     "language": "python",
     "metadata": {},
     "outputs": []
    },
    {
     "cell_type": "markdown",
     "metadata": {},
     "source": [
      "Now, you're going to want to make sure you can connect to your Impala cluster:"
     ]
    },
    {
     "cell_type": "code",
     "collapsed": false,
     "input": [
      "ic = ibis.impala_connect(host='localhost')\n",
      "ic"
     ],
     "language": "python",
     "metadata": {},
     "outputs": []
    },
    {
     "cell_type": "markdown",
     "metadata": {},
     "source": [
      "Obviously, substitute the parameters that are appropriate for your environment (see docstring for `ibis.impala_connect`). `impala_connect` uses the same parameters as Impyla's (https://pypi.python.org/pypi/impyla) DBAPI interface"
     ]
    },
    {
     "cell_type": "markdown",
     "metadata": {},
     "source": [
      "If you have WebHDFS available, connect to HDFS with according to your WebHDFS config. For kerberized clusters please look at http://hdfscli.readthedocs.org/en/latest/ for info on connecting. "
     ]
    },
    {
     "cell_type": "code",
     "collapsed": false,
     "input": [
      "hdfs = ibis.hdfs_connect(host='localhost', port=5070)"
     ],
     "language": "python",
     "metadata": {},
     "outputs": []
    },
    {
     "cell_type": "markdown",
     "metadata": {},
     "source": [
      "Finally, create the Ibis client"
     ]
    },
    {
     "cell_type": "code",
     "collapsed": false,
     "input": [
      "con = ibis.make_client(ic, hdfs_client=hdfs)\n",
      "con"
     ],
     "language": "python",
     "metadata": {},
     "outputs": []
    },
    {
     "cell_type": "code",
     "collapsed": false,
     "input": [],
     "language": "python",
     "metadata": {},
     "outputs": []
    }
   ],
   "metadata": {}
  }
 ]
}