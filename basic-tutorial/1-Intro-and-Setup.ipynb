{
 "metadata": {
  "name": "",
  "signature": "sha256:caa631673dc2c78916cdb76b327111928eec88bb4e88760508cf5875d17946e1"
 },
 "nbformat": 3,
 "nbformat_minor": 0,
 "worksheets": [
  {
   "cells": [
    {
     "cell_type": "markdown",
     "metadata": {},
     "source": [
      "What is Ibis?\n",
      "===\n",
      "\n",
      "Ibis is a Python-based analytics framework, inspired by the pandas API and other successful tabular data manipulation toolkits, designed to use remote executions engines to provide speed and scalability for large distributed data sets. At the moment, we are focused on **Impala** as the execution engine for Ibis.\n",
      "\n",
      "The project breaks down into a number of logical components that fit together\n",
      "\n",
      "- A domain specific language, or **DSL** (as we'll call it henceforth), for describing data transformations, analytics, ETL, and any other dataset or system manipulation steps. This is a fancy way of saying \"a Python library with classes and functions that provide a higher level mode of expresison\".\n",
      "\n",
      "- Tools to support workflows involving data ingest, ETL, caching, database view creation, and so forth. We aim to free the user from some of the low-level details of interacting with analytical data stores and get you focused on the actual data analysis. \n",
      "\n",
      "- Future: Powerful user-defined function support within the Ibis DSL. This will also require some customizations to the execution engine (i.e. Impala) to be supported.\n",
      "\n",
      "- Future: Use the Ibis DSL with in-database machine learning toolkits like MADLib\n",
      "\n",
      "The Ibis DSL aims for several goals\n",
      "\n",
      "- Remote computation from a local Python compute session\n",
      "- Composability; easy to chain together operations and build pipelines\n",
      "- Integration with pandas and other Python libraries\n",
      "- Semantic completeness: support any operations possible in the underlying compute systems, e.g. Impala SQL\n",
      "- Validation as you go: catch you making mis-steps right away, if possible\n",
      "- Ease of code reuse"
     ]
    },
    {
     "cell_type": "markdown",
     "metadata": {},
     "source": [
      "Installation\n",
      "===\n",
      "\n",
      "To install ibis, use `pip` (or `easy_install`, but `pip` is really better) to install directly from the supplied tarball:\n",
      "\n",
      "    > tar xvf ibis-0.2.0.tar.gz\n",
      "    > cd ibis-0.2.0\n",
      "    > python setup.py install\n",
      "\n",
      "\n",
      "Note that ibis depends on a number of other Python libraries. If you are missing any of those libraries, `pip` will attempt to install them."
     ]
    },
    {
     "cell_type": "markdown",
     "metadata": {},
     "source": [
      "Import ibis and verify that all is working like so:"
     ]
    },
    {
     "cell_type": "code",
     "collapsed": false,
     "input": [
      "import ibis\n",
      "ibis.test()"
     ],
     "language": "python",
     "metadata": {},
     "outputs": []
    },
    {
     "cell_type": "markdown",
     "metadata": {},
     "source": [
      "**If you see some `WARNING` messages, don't worry, nothing serious. We are going to get rid of those at some point.**"
     ]
    },
    {
     "cell_type": "markdown",
     "metadata": {},
     "source": [
      "Now, you're going to want to make sure you can connect to your Impala cluster:"
     ]
    },
    {
     "cell_type": "code",
     "collapsed": false,
     "input": [
      "ic = ibis.impala_connect(host='localhost')\n",
      "ic"
     ],
     "language": "python",
     "metadata": {},
     "outputs": []
    },
    {
     "cell_type": "markdown",
     "metadata": {},
     "source": [
      "Obviously, substitute the parameters that are appropriate for your environment (see docstring for `ibis.impala_connect`). `impala_connect` uses the same parameters as Impyla's (https://pypi.python.org/pypi/impyla) DBAPI interface"
     ]
    },
    {
     "cell_type": "markdown",
     "metadata": {},
     "source": [
      "If you have WebHDFS available, connect to HDFS with according to your WebHDFS config. For kerberized or more complex HDFS clusters please look at http://hdfscli.readthedocs.org/en/latest/ for info on connecting. You can use a connection from that library instead of using `hdfs_connect`"
     ]
    },
    {
     "cell_type": "code",
     "collapsed": false,
     "input": [
      "hdfs = ibis.hdfs_connect(host='localhost', port=5070)"
     ],
     "language": "python",
     "metadata": {},
     "outputs": []
    },
    {
     "cell_type": "markdown",
     "metadata": {},
     "source": [
      "Finally, create the Ibis client"
     ]
    },
    {
     "cell_type": "code",
     "collapsed": false,
     "input": [
      "con = ibis.make_client(ic, hdfs_client=hdfs)\n",
      "con"
     ],
     "language": "python",
     "metadata": {},
     "outputs": []
    },
    {
     "cell_type": "markdown",
     "metadata": {},
     "source": [
      "Loading the testing/demo data and running the test suite\n",
      "===\n",
      "\n",
      "Look for the separately distributed `ibis-testing-data.tar.gz` tarball. You're going to want to unzip this and run the `scripts/load_test_data.py` program that is distributed with Ibis. This requires a user login with `CREATE DATABASE` and `CREATE TABLE` permissions, so you may need to get the help of an admin if you don't have these permissions.\n",
      "\n",
      "    > mv ibis-testing-data.tar.gz scripts\n",
      "    > cd scripts\n",
      "    > tar xvf ibis-testing-data.tar.gz\n",
      "    > python load_test_data.py\n",
      "\n",
      "**Note that this creates a database called `ibis_testing` which we will use in these tutorials**\n",
      "\n",
      "If you want to check exhaustively that Ibis works including all interactions with HDFS and Impala:"
     ]
    },
    {
     "cell_type": "code",
     "collapsed": false,
     "input": [
      "ibis.test(include_e2e=True)"
     ],
     "language": "python",
     "metadata": {},
     "outputs": []
    }
   ],
   "metadata": {}
  }
 ]
}