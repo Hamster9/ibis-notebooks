{
 "metadata": {
  "name": "",
  "signature": "sha256:53697f9120d5bc55f7e7d6104181a1da0db94a76296ef5813a2a9fe89c1a8080"
 },
 "nbformat": 3,
 "nbformat_minor": 0,
 "worksheets": [
  {
   "cells": [
    {
     "cell_type": "code",
     "collapsed": false,
     "input": [
      "t = con.table('functional.alltypes')\n",
      "tier = t.double_col.bucket([0, 10, 25, 50, 100], \n",
      "                           include_under=True, \n",
      "                           include_over=True).name('tier')\n",
      "expr = t.group_by(tier).size()"
     ],
     "language": "python",
     "metadata": {},
     "outputs": []
    },
    {
     "cell_type": "code",
     "collapsed": false,
     "input": [
      "tier = t.double_col.histogram(10).name('bucket')\n",
      "expr = t.group_by(tier).size().sort_by('bucket')\n",
      "expr"
     ],
     "language": "python",
     "metadata": {},
     "outputs": []
    }
   ],
   "metadata": {}
  }
 ]
}