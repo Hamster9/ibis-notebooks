{
 "metadata": {
  "name": "",
  "signature": "sha256:d9baacb72ad0703949be519ec46e16588effe4b6448cbcff9887f45b33b43464"
 },
 "nbformat": 3,
 "nbformat_minor": 0,
 "worksheets": [
  {
   "cells": [
    {
     "cell_type": "code",
     "collapsed": false,
     "input": [],
     "language": "python",
     "metadata": {},
     "outputs": []
    }
   ],
   "metadata": {}
  }
 ]
}