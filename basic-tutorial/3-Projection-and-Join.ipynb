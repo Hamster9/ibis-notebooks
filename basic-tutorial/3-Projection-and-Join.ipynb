{
 "metadata": {
  "name": "",
  "signature": "sha256:3f606b5c03ab890f47876441cd63b10b866009b77b54eccbc7270e9add5151b3"
 },
 "nbformat": 3,
 "nbformat_minor": 0,
 "worksheets": [
  {
   "cells": [
    {
     "cell_type": "code",
     "collapsed": false,
     "input": [
      "import ibis\n",
      "con = ibis.impala_connect(host='localhost')"
     ],
     "language": "python",
     "metadata": {},
     "outputs": [],
     "prompt_number": 1
    },
    {
     "cell_type": "code",
     "collapsed": false,
     "input": [],
     "language": "python",
     "metadata": {},
     "outputs": []
    }
   ],
   "metadata": {}
  }
 ]
}