{
 "metadata": {
  "name": "",
  "signature": "sha256:9e710dd75d35a338efeaa3a09ec70a3d940dbc44c766e0a1cd74effffba5e172"
 },
 "nbformat": 3,
 "nbformat_minor": 0,
 "worksheets": [
  {
   "cells": [
    {
     "cell_type": "code",
     "collapsed": false,
     "input": [
      "from ibis import api\n",
      "import ibis\n",
      "con = ibis.impala_connect(host='localhost')\n",
      "ibis.options.interactive = True"
     ],
     "language": "python",
     "metadata": {},
     "outputs": [],
     "prompt_number": 4
    },
    {
     "cell_type": "markdown",
     "metadata": {},
     "source": [
      "Projections: adding/selecting columns\n",
      "===\n",
      "\n",
      "Projections are the general way for adding new columns to tables, or selecting or removing existing ones."
     ]
    },
    {
     "cell_type": "code",
     "collapsed": false,
     "input": [
      "table = con.table('functional.alltypes')\n",
      "table.limit(5)"
     ],
     "language": "python",
     "metadata": {},
     "outputs": [
      {
       "metadata": {},
       "output_type": "pyout",
       "prompt_number": 6,
       "text": [
        "     id bool_col  tinyint_col  smallint_col  int_col  bigint_col  float_col  \\\n",
        "0  5460     True            0             0        0           0        0.0   \n",
        "1  5461    False            1             1        1          10        1.1   \n",
        "2  5462     True            2             2        2          20        2.2   \n",
        "3  5463    False            3             3        3          30        3.3   \n",
        "4  5464     True            4             4        4          40        4.4   \n",
        "\n",
        "   double_col date_string_col string_col              timestamp_col  year  \\\n",
        "0         0.0        07/01/10          0        2010-07-01 00:00:00  2010   \n",
        "1        10.1        07/01/10          1        2010-07-01 00:01:00  2010   \n",
        "2        20.2        07/01/10          2 2010-07-01 00:02:00.100000  2010   \n",
        "3        30.3        07/01/10          3 2010-07-01 00:03:00.300000  2010   \n",
        "4        40.4        07/01/10          4 2010-07-01 00:04:00.600000  2010   \n",
        "\n",
        "   month  \n",
        "0      7  \n",
        "1      7  \n",
        "2      7  \n",
        "3      7  \n",
        "4      7  "
       ]
      }
     ],
     "prompt_number": 6
    },
    {
     "cell_type": "markdown",
     "metadata": {},
     "source": [
      "First, the basics: selecting columns:"
     ]
    },
    {
     "cell_type": "code",
     "collapsed": false,
     "input": [
      "proj = table['bool_col', 'int_col', 'double_col']\n",
      "proj.limit(5)"
     ],
     "language": "python",
     "metadata": {},
     "outputs": [
      {
       "metadata": {},
       "output_type": "pyout",
       "prompt_number": 8,
       "text": [
        "  bool_col  int_col  double_col\n",
        "0     True        0         0.0\n",
        "1    False        1        10.1\n",
        "2     True        2        20.2\n",
        "3    False        3        30.3\n",
        "4     True        4        40.4"
       ]
      }
     ],
     "prompt_number": 8
    },
    {
     "cell_type": "markdown",
     "metadata": {},
     "source": [
      "You can also use the explicit `projection` or `select` functions"
     ]
    },
    {
     "cell_type": "code",
     "collapsed": false,
     "input": [
      "table.select(['int_col', 'double_col']).limit(5)"
     ],
     "language": "python",
     "metadata": {},
     "outputs": [
      {
       "metadata": {},
       "output_type": "pyout",
       "prompt_number": 10,
       "text": [
        "   int_col  double_col\n",
        "0        0         0.0\n",
        "1        1        10.1\n",
        "2        2        20.2\n",
        "3        3        30.3\n",
        "4        4        40.4"
       ]
      }
     ],
     "prompt_number": 10
    },
    {
     "cell_type": "markdown",
     "metadata": {},
     "source": [
      "We can add new columns by using named column expressions"
     ]
    },
    {
     "cell_type": "code",
     "collapsed": false,
     "input": [
      "bigger_expr = (table.int_col * 2).name('bigger_ints')\n",
      "proj2 = table['int_col', bigger_expr]\n",
      "proj2.limit(5)"
     ],
     "language": "python",
     "metadata": {},
     "outputs": [
      {
       "metadata": {},
       "output_type": "pyout",
       "prompt_number": 13,
       "text": [
        "   int_col  bigger_ints\n",
        "0        0            0\n",
        "1        1            2\n",
        "2        2            4\n",
        "3        3            6\n",
        "4        4            8"
       ]
      }
     ],
     "prompt_number": 13
    },
    {
     "cell_type": "markdown",
     "metadata": {},
     "source": [
      "Adding columns is a shortcut for projection. In Ibis, adding columns always produces a new table reference"
     ]
    },
    {
     "cell_type": "code",
     "collapsed": false,
     "input": [
      "table2 = table.add_column(bigger_expr)\n",
      "table2.limit(5)"
     ],
     "language": "python",
     "metadata": {},
     "outputs": [
      {
       "metadata": {},
       "output_type": "pyout",
       "prompt_number": 14,
       "text": [
        "     id bool_col  tinyint_col  smallint_col  int_col  bigint_col  float_col  \\\n",
        "0  6380     True            0             0        0           0        0.0   \n",
        "1  6381    False            1             1        1          10        1.1   \n",
        "2  6382     True            2             2        2          20        2.2   \n",
        "3  6383    False            3             3        3          30        3.3   \n",
        "4  6384     True            4             4        4          40        4.4   \n",
        "\n",
        "   double_col date_string_col string_col              timestamp_col  year  \\\n",
        "0         0.0        10/01/10          0        2010-10-01 00:00:00  2010   \n",
        "1        10.1        10/01/10          1        2010-10-01 00:01:00  2010   \n",
        "2        20.2        10/01/10          2 2010-10-01 00:02:00.100000  2010   \n",
        "3        30.3        10/01/10          3 2010-10-01 00:03:00.300000  2010   \n",
        "4        40.4        10/01/10          4 2010-10-01 00:04:00.600000  2010   \n",
        "\n",
        "   month  bigger_ints  \n",
        "0     10            0  \n",
        "1     10            2  \n",
        "2     10            4  \n",
        "3     10            6  \n",
        "4     10            8  "
       ]
      }
     ],
     "prompt_number": 14
    },
    {
     "cell_type": "markdown",
     "metadata": {},
     "source": [
      "In more complicated projections involving joins, we may need to refer to all of the columns in a same at once. This is how `add_column` works. We just pass the whole table in the projection:"
     ]
    },
    {
     "cell_type": "code",
     "collapsed": false,
     "input": [
      "table.select([table, bigger_expr]).limit(5)"
     ],
     "language": "python",
     "metadata": {},
     "outputs": [
      {
       "metadata": {},
       "output_type": "pyout",
       "prompt_number": 15,
       "text": [
        "     id bool_col  tinyint_col  smallint_col  int_col  bigint_col  float_col  \\\n",
        "0  5160     True            0             0        0           0        0.0   \n",
        "1  5161    False            1             1        1          10        1.1   \n",
        "2  5162     True            2             2        2          20        2.2   \n",
        "3  5163    False            3             3        3          30        3.3   \n",
        "4  5164     True            4             4        4          40        4.4   \n",
        "\n",
        "   double_col date_string_col string_col              timestamp_col  year  \\\n",
        "0         0.0        06/01/10          0        2010-06-01 00:00:00  2010   \n",
        "1        10.1        06/01/10          1        2010-06-01 00:01:00  2010   \n",
        "2        20.2        06/01/10          2 2010-06-01 00:02:00.100000  2010   \n",
        "3        30.3        06/01/10          3 2010-06-01 00:03:00.300000  2010   \n",
        "4        40.4        06/01/10          4 2010-06-01 00:04:00.600000  2010   \n",
        "\n",
        "   month  bigger_ints  \n",
        "0      6            0  \n",
        "1      6            2  \n",
        "2      6            4  \n",
        "3      6            6  \n",
        "4      6            8  "
       ]
      }
     ],
     "prompt_number": 15
    },
    {
     "cell_type": "markdown",
     "metadata": {},
     "source": [
      "Joins\n",
      "==="
     ]
    },
    {
     "cell_type": "markdown",
     "metadata": {},
     "source": [
      "Sorting\n",
      "==="
     ]
    },
    {
     "cell_type": "code",
     "collapsed": false,
     "input": [],
     "language": "python",
     "metadata": {},
     "outputs": []
    }
   ],
   "metadata": {}
  }
 ]
}