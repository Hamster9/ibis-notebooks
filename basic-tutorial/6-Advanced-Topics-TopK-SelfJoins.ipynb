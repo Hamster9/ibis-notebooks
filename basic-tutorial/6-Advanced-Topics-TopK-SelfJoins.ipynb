{
 "metadata": {
  "name": "",
  "signature": "sha256:35d88629454759c01e5af0b2867783118219f1c01218f6828a540244aa2bcf4c"
 },
 "nbformat": 3,
 "nbformat_minor": 0,
 "worksheets": [
  {
   "cells": [
    {
     "cell_type": "code",
     "collapsed": false,
     "input": [
      "from ibis import api\n",
      "from ibis.sql.compiler import to_sql\n",
      "import ibis\n",
      "con = ibis.impala_connect(host='localhost')\n",
      "ibis.options.interactive = True"
     ],
     "language": "python",
     "metadata": {},
     "outputs": [],
     "prompt_number": 1
    },
    {
     "cell_type": "markdown",
     "metadata": {},
     "source": [
      "\"Top-K\" Filtering\n",
      "---\n",
      "\n",
      "A common analytical pattern involves subsetting based on some method of ranking. For example, \"the 5 most frequently occurring widgets in a dataset\". By choosing the right metric, you can obtain the most important or least important items from some dimension, for some definition of important.\n",
      "\n",
      "To carry out the pattern by hand involves the following\n",
      "\n",
      "- Choose a ranking metric\n",
      "- Aggregate, computing the ranking metric, by the target dimension\n",
      "- Order by the ranking metric and take the highest K values\n",
      "- Use those values as a set filter (either with `semi_join` or `isin`) in your next query\n",
      "\n",
      "For example, let's look at the TPC-H tables and find the 5 or 10 customers who placed the most orders over their lifetime:"
     ]
    },
    {
     "cell_type": "code",
     "collapsed": false,
     "input": [
      "orders = con.table('tpch.orders')\n",
      "\n",
      "top_orders = (orders\n",
      "              .group_by('o_custkey')\n",
      "              .size()\n",
      "              .sort_by(('count', False))\n",
      "              .limit(5))\n",
      "top_orders"
     ],
     "language": "python",
     "metadata": {},
     "outputs": [
      {
       "metadata": {},
       "output_type": "pyout",
       "prompt_number": 2,
       "text": [
        "   o_custkey  count\n",
        "0       3451     41\n",
        "1     102004     41\n",
        "2     102022     41\n",
        "3      79300     40\n",
        "4     122623     40"
       ]
      }
     ],
     "prompt_number": 2
    },
    {
     "cell_type": "markdown",
     "metadata": {},
     "source": [
      "Now, we could use these customer keys as a filter in some other analysis:"
     ]
    },
    {
     "cell_type": "code",
     "collapsed": false,
     "input": [
      "# Among the top 5 most frequent customers, what's the histogram of their order statuses?\n",
      "analysis = (orders[orders.o_custkey.isin(top_orders.o_custkey)]\n",
      "            .group_by('o_orderstatus')\n",
      "            .size())\n",
      "analysis"
     ],
     "language": "python",
     "metadata": {},
     "outputs": [
      {
       "metadata": {},
       "output_type": "pyout",
       "prompt_number": 3,
       "text": [
        "  o_orderstatus  count\n",
        "0             O    107\n",
        "1             P      8\n",
        "2             F     88"
       ]
      }
     ],
     "prompt_number": 3
    },
    {
     "cell_type": "markdown",
     "metadata": {},
     "source": [
      "This is such a common pattern that Ibis supports a high level primitive `topk` operation, which can be used immediately as a filter:"
     ]
    },
    {
     "cell_type": "code",
     "collapsed": false,
     "input": [
      "top_orders = orders.o_custkey.topk(5)\n",
      "orders[top_orders].group_by('o_orderstatus').size()"
     ],
     "language": "python",
     "metadata": {},
     "outputs": [
      {
       "metadata": {},
       "output_type": "pyout",
       "prompt_number": 4,
       "text": [
        "  o_orderstatus  count\n",
        "0             O    107\n",
        "1             P      8\n",
        "2             F     88"
       ]
      }
     ],
     "prompt_number": 4
    },
    {
     "cell_type": "markdown",
     "metadata": {},
     "source": [
      "This goes a little further. Suppose now we want to rank customers by their total spending instead of the number of orders, perhaps a more meaningful metric:"
     ]
    },
    {
     "cell_type": "code",
     "collapsed": false,
     "input": [
      "total_spend = orders.o_totalprice.sum().name('total')\n",
      "top_spenders = (orders\n",
      "                .group_by('o_custkey')\n",
      "                .aggregate(total_spend)\n",
      "                .sort_by(('total', False))\n",
      "                .limit(5))\n",
      "top_spenders"
     ],
     "language": "python",
     "metadata": {},
     "outputs": [
      {
       "metadata": {},
       "output_type": "pyout",
       "prompt_number": 5,
       "text": [
        "   o_custkey       total\n",
        "0     143500  7012696.48\n",
        "1      95257  6563511.23\n",
        "2      87115  6457526.26\n",
        "3     131113  6311428.86\n",
        "4     103834  6306524.23"
       ]
      }
     ],
     "prompt_number": 5
    },
    {
     "cell_type": "markdown",
     "metadata": {},
     "source": [
      "To use another metric, just pass it to the `by` argument in `topk`:"
     ]
    },
    {
     "cell_type": "code",
     "collapsed": false,
     "input": [
      "top_spenders = orders.o_custkey.topk(5, by=total_spend)\n",
      "orders[top_spenders].group_by('o_orderstatus').size()"
     ],
     "language": "python",
     "metadata": {},
     "outputs": [
      {
       "metadata": {},
       "output_type": "pyout",
       "prompt_number": 6,
       "text": [
        "  o_orderstatus  count\n",
        "0             O     98\n",
        "1             P      1\n",
        "2             F     78"
       ]
      }
     ],
     "prompt_number": 6
    },
    {
     "cell_type": "markdown",
     "metadata": {},
     "source": [
      "Self joins\n",
      "---\n",
      "\n",
      "If you're a relational data guru, you may have wondered how it's possible to join tables with themselves, because joins clauses involve column references back to the original table.\n",
      "\n",
      "Consider the SQL\n",
      "\n",
      "    SELECT t1.key, sum(t1.value - t2.value) AS metric\n",
      "    FROM my_table t1\n",
      "      JOIN my_table t2\n",
      "        ON t1.key = t2.subkey\n",
      "    GROUP BY 1\n",
      "    \n",
      "Here, we have an unambiguous way to refer to each of the tables through aliasing."
     ]
    },
    {
     "cell_type": "markdown",
     "metadata": {},
     "source": [
      "Let's consider the TPC-H database, and support we want to compute year-over-year change in total order amounts by region using joins."
     ]
    },
    {
     "cell_type": "code",
     "collapsed": false,
     "input": [
      "region = con.table('tpch.region')\n",
      "nation = con.table('tpch.nation')\n",
      "customer = con.table('tpch.customer')\n",
      "orders = con.table('tpch.orders')\n",
      "\n",
      "orders.limit(5)"
     ],
     "language": "python",
     "metadata": {},
     "outputs": [
      {
       "metadata": {},
       "output_type": "pyout",
       "prompt_number": 7,
       "text": [
        "   o_orderkey  o_custkey o_orderstatus o_totalprice o_orderdate  \\\n",
        "0           1      36901             O    173665.47  1996-01-02   \n",
        "1           2      78002             O     46929.18  1996-12-01   \n",
        "2           3     123314             F    193846.25  1993-10-14   \n",
        "3           4     136777             O     32151.78  1995-10-11   \n",
        "4           5      44485             F    144659.20  1994-07-30   \n",
        "\n",
        "  o_orderpriority          o_clerk  o_shippriority  \\\n",
        "0           5-LOW  Clerk#000000951               0   \n",
        "1        1-URGENT  Clerk#000000880               0   \n",
        "2           5-LOW  Clerk#000000955               0   \n",
        "3           5-LOW  Clerk#000000124               0   \n",
        "4           5-LOW  Clerk#000000925               0   \n",
        "\n",
        "                                           o_comment  \n",
        "0                 nstructions sleep furiously among   \n",
        "1   foxes. pending accounts at the pending, silen...  \n",
        "2  sly final accounts boost. carefully regular id...  \n",
        "3  sits. slyly regular warthogs cajole. regular, ...  \n",
        "4  quickly. bold deposits sleep slyly. packages u...  "
       ]
      }
     ],
     "prompt_number": 7
    },
    {
     "cell_type": "markdown",
     "metadata": {},
     "source": [
      "First, let's join all the things and select the fields we care about:"
     ]
    },
    {
     "cell_type": "code",
     "collapsed": false,
     "input": [
      "fields_of_interest = [region.r_name.name('region'), \n",
      "                      nation.n_name.name('nation'),\n",
      "                      orders.o_totalprice.name('amount'),\n",
      "                      orders.o_orderdate.cast('timestamp').name('odate') # these are strings\n",
      "                      ]\n",
      "\n",
      "joined_all = (region.join(nation, region.r_regionkey == nation.n_regionkey)\n",
      "              .join(customer, customer.c_nationkey == nation.n_nationkey)\n",
      "              .join(orders, orders.o_custkey == customer.c_custkey)\n",
      "              [fields_of_interest])"
     ],
     "language": "python",
     "metadata": {},
     "outputs": [],
     "prompt_number": 8
    },
    {
     "cell_type": "markdown",
     "metadata": {},
     "source": [
      "Okay, great, let's have a look:"
     ]
    },
    {
     "cell_type": "code",
     "collapsed": false,
     "input": [
      "joined_all.limit(5)"
     ],
     "language": "python",
     "metadata": {},
     "outputs": [
      {
       "metadata": {},
       "output_type": "pyout",
       "prompt_number": 9,
       "text": [
        "        region        nation     amount      odate\n",
        "0  MIDDLE EAST        JORDAN  173665.47 1996-01-02\n",
        "1  MIDDLE EAST          IRAN   46929.18 1996-12-01\n",
        "2       AFRICA       MOROCCO  193846.25 1993-10-14\n",
        "3  MIDDLE EAST          IRAN   32151.78 1995-10-11\n",
        "4  MIDDLE EAST  SAUDI ARABIA  144659.20 1994-07-30"
       ]
      }
     ],
     "prompt_number": 9
    },
    {
     "cell_type": "markdown",
     "metadata": {},
     "source": [
      "Sweet, now let's aggregate by year and region:"
     ]
    },
    {
     "cell_type": "code",
     "collapsed": false,
     "input": [
      "year = joined_all.odate.year().name('year')\n",
      "\n",
      "total = joined_all.amount.sum().cast('double').name('total')\n",
      "\n",
      "annual_amounts = (joined_all\n",
      "                  .group_by(['region', year])\n",
      "                  .aggregate(total))\n",
      "annual_amounts"
     ],
     "language": "python",
     "metadata": {},
     "outputs": [
      {
       "metadata": {},
       "output_type": "pyout",
       "prompt_number": 10,
       "text": [
        "         region  year         total\n",
        "0   MIDDLE EAST  1997  6.814699e+09\n",
        "1   MIDDLE EAST  1998  4.025011e+09\n",
        "2        AFRICA  1995  6.908429e+09\n",
        "3          ASIA  1996  6.955679e+09\n",
        "4   MIDDLE EAST  1995  6.830827e+09\n",
        "5          ASIA  1993  6.864540e+09\n",
        "6   MIDDLE EAST  1992  6.761499e+09\n",
        "7       AMERICA  1996  6.883057e+09\n",
        "8        AFRICA  1998  4.024061e+09\n",
        "9          ASIA  1995  6.931738e+09\n",
        "10       EUROPE  1994  6.979473e+09\n",
        "11      AMERICA  1995  6.905139e+09\n",
        "12       AFRICA  1993  6.859733e+09\n",
        "13       EUROPE  1992  6.926705e+09\n",
        "14      AMERICA  1993  6.906800e+09\n",
        "15      AMERICA  1992  6.834349e+09\n",
        "16         ASIA  1998  4.058824e+09\n",
        "17      AMERICA  1998  3.991377e+09\n",
        "18       EUROPE  1996  7.015421e+09\n",
        "19       AFRICA  1997  6.848983e+09\n",
        "20         ASIA  1994  6.957170e+09\n",
        "21       AFRICA  1996  6.878112e+09\n",
        "22       EUROPE  1997  6.876824e+09\n",
        "23       EUROPE  1998  4.113448e+09\n",
        "24      AMERICA  1997  6.922465e+09\n",
        "25  MIDDLE EAST  1993  6.797943e+09\n",
        "26       AFRICA  1992  6.873319e+09\n",
        "27  MIDDLE EAST  1996  6.877095e+09\n",
        "28       EUROPE  1995  6.970001e+09\n",
        "29       AFRICA  1994  6.837587e+09\n",
        "30  MIDDLE EAST  1994  6.778384e+09\n",
        "31         ASIA  1997  6.910663e+09\n",
        "32         ASIA  1992  6.934801e+09\n",
        "33      AMERICA  1994  6.863756e+09\n",
        "34       EUROPE  1993  6.911395e+09"
       ]
      }
     ],
     "prompt_number": 10
    },
    {
     "cell_type": "markdown",
     "metadata": {},
     "source": [
      "Looking good so far. Now, we need to join this table on itself, by subtracting 1 from one of the year columns.\n",
      "\n",
      "We do this by creating a \"joinable\" view of a table that is considered a distinct object within Ibis. To do this, use the `view` function:"
     ]
    },
    {
     "cell_type": "code",
     "collapsed": false,
     "input": [
      "current = annual_amounts\n",
      "prior = annual_amounts.view()\n",
      "\n",
      "yoy_change = (current.total - prior.total).name('yoy_change')\n",
      "\n",
      "results = (current.join(prior, ((current.region == prior.region) & \n",
      "                                (current.year == (prior.year - 1))))\n",
      "           [current.region, current.year, yoy_change])\n",
      "df = results.execute()"
     ],
     "language": "python",
     "metadata": {},
     "outputs": [],
     "prompt_number": 11
    },
    {
     "cell_type": "code",
     "collapsed": false,
     "input": [
      "df['yoy_pretty'] = df.yoy_change.map(lambda x: '$%.2fmm' % (x / 1000000.))\n",
      "df"
     ],
     "language": "python",
     "metadata": {},
     "outputs": [
      {
       "html": [
        "<div style=\"max-height:1000px;max-width:1500px;overflow:auto;\">\n",
        "<table border=\"1\" class=\"dataframe\">\n",
        "  <thead>\n",
        "    <tr style=\"text-align: right;\">\n",
        "      <th></th>\n",
        "      <th>region</th>\n",
        "      <th>year</th>\n",
        "      <th>yoy_change</th>\n",
        "      <th>yoy_pretty</th>\n",
        "    </tr>\n",
        "  </thead>\n",
        "  <tbody>\n",
        "    <tr>\n",
        "      <th>0 </th>\n",
        "      <td>     AMERICA</td>\n",
        "      <td> 1992</td>\n",
        "      <td>-7.245078e+07</td>\n",
        "      <td>  $-72.45mm</td>\n",
        "    </tr>\n",
        "    <tr>\n",
        "      <th>1 </th>\n",
        "      <td>      AFRICA</td>\n",
        "      <td> 1996</td>\n",
        "      <td> 2.912979e+07</td>\n",
        "      <td>   $29.13mm</td>\n",
        "    </tr>\n",
        "    <tr>\n",
        "      <th>2 </th>\n",
        "      <td>      EUROPE</td>\n",
        "      <td> 1997</td>\n",
        "      <td> 2.763376e+09</td>\n",
        "      <td> $2763.38mm</td>\n",
        "    </tr>\n",
        "    <tr>\n",
        "      <th>3 </th>\n",
        "      <td>        ASIA</td>\n",
        "      <td> 1996</td>\n",
        "      <td> 4.501570e+07</td>\n",
        "      <td>   $45.02mm</td>\n",
        "    </tr>\n",
        "    <tr>\n",
        "      <th>4 </th>\n",
        "      <td>     AMERICA</td>\n",
        "      <td> 1997</td>\n",
        "      <td> 2.931088e+09</td>\n",
        "      <td> $2931.09mm</td>\n",
        "    </tr>\n",
        "    <tr>\n",
        "      <th>5 </th>\n",
        "      <td>        ASIA</td>\n",
        "      <td> 1993</td>\n",
        "      <td>-9.262979e+07</td>\n",
        "      <td>  $-92.63mm</td>\n",
        "    </tr>\n",
        "    <tr>\n",
        "      <th>6 </th>\n",
        "      <td>     AMERICA</td>\n",
        "      <td> 1994</td>\n",
        "      <td>-4.138320e+07</td>\n",
        "      <td>  $-41.38mm</td>\n",
        "    </tr>\n",
        "    <tr>\n",
        "      <th>7 </th>\n",
        "      <td> MIDDLE EAST</td>\n",
        "      <td> 1996</td>\n",
        "      <td> 6.239623e+07</td>\n",
        "      <td>   $62.40mm</td>\n",
        "    </tr>\n",
        "    <tr>\n",
        "      <th>8 </th>\n",
        "      <td>        ASIA</td>\n",
        "      <td> 1995</td>\n",
        "      <td>-2.394126e+07</td>\n",
        "      <td>  $-23.94mm</td>\n",
        "    </tr>\n",
        "    <tr>\n",
        "      <th>9 </th>\n",
        "      <td>      AFRICA</td>\n",
        "      <td> 1995</td>\n",
        "      <td> 3.031631e+07</td>\n",
        "      <td>   $30.32mm</td>\n",
        "    </tr>\n",
        "    <tr>\n",
        "      <th>10</th>\n",
        "      <td>      EUROPE</td>\n",
        "      <td> 1994</td>\n",
        "      <td> 9.471985e+06</td>\n",
        "      <td>    $9.47mm</td>\n",
        "    </tr>\n",
        "    <tr>\n",
        "      <th>11</th>\n",
        "      <td>      AFRICA</td>\n",
        "      <td> 1993</td>\n",
        "      <td> 2.214559e+07</td>\n",
        "      <td>   $22.15mm</td>\n",
        "    </tr>\n",
        "    <tr>\n",
        "      <th>12</th>\n",
        "      <td>      EUROPE</td>\n",
        "      <td> 1992</td>\n",
        "      <td> 1.531005e+07</td>\n",
        "      <td>   $15.31mm</td>\n",
        "    </tr>\n",
        "    <tr>\n",
        "      <th>13</th>\n",
        "      <td>      EUROPE</td>\n",
        "      <td> 1995</td>\n",
        "      <td>-4.542062e+07</td>\n",
        "      <td>  $-45.42mm</td>\n",
        "    </tr>\n",
        "    <tr>\n",
        "      <th>14</th>\n",
        "      <td>      AFRICA</td>\n",
        "      <td> 1994</td>\n",
        "      <td>-7.084172e+07</td>\n",
        "      <td>  $-70.84mm</td>\n",
        "    </tr>\n",
        "    <tr>\n",
        "      <th>15</th>\n",
        "      <td> MIDDLE EAST</td>\n",
        "      <td> 1993</td>\n",
        "      <td> 1.955937e+07</td>\n",
        "      <td>   $19.56mm</td>\n",
        "    </tr>\n",
        "    <tr>\n",
        "      <th>16</th>\n",
        "      <td>        ASIA</td>\n",
        "      <td> 1997</td>\n",
        "      <td> 2.851839e+09</td>\n",
        "      <td> $2851.84mm</td>\n",
        "    </tr>\n",
        "    <tr>\n",
        "      <th>17</th>\n",
        "      <td> MIDDLE EAST</td>\n",
        "      <td> 1994</td>\n",
        "      <td>-5.244317e+07</td>\n",
        "      <td>  $-52.44mm</td>\n",
        "    </tr>\n",
        "    <tr>\n",
        "      <th>18</th>\n",
        "      <td>     AMERICA</td>\n",
        "      <td> 1996</td>\n",
        "      <td>-3.940791e+07</td>\n",
        "      <td>  $-39.41mm</td>\n",
        "    </tr>\n",
        "    <tr>\n",
        "      <th>19</th>\n",
        "      <td>      EUROPE</td>\n",
        "      <td> 1996</td>\n",
        "      <td> 1.385975e+08</td>\n",
        "      <td>  $138.60mm</td>\n",
        "    </tr>\n",
        "    <tr>\n",
        "      <th>20</th>\n",
        "      <td> MIDDLE EAST</td>\n",
        "      <td> 1997</td>\n",
        "      <td> 2.789688e+09</td>\n",
        "      <td> $2789.69mm</td>\n",
        "    </tr>\n",
        "    <tr>\n",
        "      <th>21</th>\n",
        "      <td>      AFRICA</td>\n",
        "      <td> 1997</td>\n",
        "      <td> 2.824921e+09</td>\n",
        "      <td> $2824.92mm</td>\n",
        "    </tr>\n",
        "    <tr>\n",
        "      <th>22</th>\n",
        "      <td>     AMERICA</td>\n",
        "      <td> 1995</td>\n",
        "      <td> 2.208216e+07</td>\n",
        "      <td>   $22.08mm</td>\n",
        "    </tr>\n",
        "    <tr>\n",
        "      <th>23</th>\n",
        "      <td>      EUROPE</td>\n",
        "      <td> 1993</td>\n",
        "      <td>-6.807773e+07</td>\n",
        "      <td>  $-68.08mm</td>\n",
        "    </tr>\n",
        "    <tr>\n",
        "      <th>24</th>\n",
        "      <td>      AFRICA</td>\n",
        "      <td> 1992</td>\n",
        "      <td> 1.358699e+07</td>\n",
        "      <td>   $13.59mm</td>\n",
        "    </tr>\n",
        "    <tr>\n",
        "      <th>25</th>\n",
        "      <td>     AMERICA</td>\n",
        "      <td> 1993</td>\n",
        "      <td> 4.304359e+07</td>\n",
        "      <td>   $43.04mm</td>\n",
        "    </tr>\n",
        "    <tr>\n",
        "      <th>26</th>\n",
        "      <td>        ASIA</td>\n",
        "      <td> 1994</td>\n",
        "      <td> 2.543198e+07</td>\n",
        "      <td>   $25.43mm</td>\n",
        "    </tr>\n",
        "    <tr>\n",
        "      <th>27</th>\n",
        "      <td> MIDDLE EAST</td>\n",
        "      <td> 1992</td>\n",
        "      <td>-3.644384e+07</td>\n",
        "      <td>  $-36.44mm</td>\n",
        "    </tr>\n",
        "    <tr>\n",
        "      <th>28</th>\n",
        "      <td>        ASIA</td>\n",
        "      <td> 1992</td>\n",
        "      <td> 7.026156e+07</td>\n",
        "      <td>   $70.26mm</td>\n",
        "    </tr>\n",
        "    <tr>\n",
        "      <th>29</th>\n",
        "      <td> MIDDLE EAST</td>\n",
        "      <td> 1995</td>\n",
        "      <td>-4.626817e+07</td>\n",
        "      <td>  $-46.27mm</td>\n",
        "    </tr>\n",
        "  </tbody>\n",
        "</table>\n",
        "</div>"
       ],
       "metadata": {},
       "output_type": "pyout",
       "prompt_number": 12,
       "text": [
        "         region  year    yoy_change  yoy_pretty\n",
        "0       AMERICA  1992 -7.245078e+07   $-72.45mm\n",
        "1        AFRICA  1996  2.912979e+07    $29.13mm\n",
        "2        EUROPE  1997  2.763376e+09  $2763.38mm\n",
        "3          ASIA  1996  4.501570e+07    $45.02mm\n",
        "4       AMERICA  1997  2.931088e+09  $2931.09mm\n",
        "5          ASIA  1993 -9.262979e+07   $-92.63mm\n",
        "6       AMERICA  1994 -4.138320e+07   $-41.38mm\n",
        "7   MIDDLE EAST  1996  6.239623e+07    $62.40mm\n",
        "8          ASIA  1995 -2.394126e+07   $-23.94mm\n",
        "9        AFRICA  1995  3.031631e+07    $30.32mm\n",
        "10       EUROPE  1994  9.471985e+06     $9.47mm\n",
        "11       AFRICA  1993  2.214559e+07    $22.15mm\n",
        "12       EUROPE  1992  1.531005e+07    $15.31mm\n",
        "13       EUROPE  1995 -4.542062e+07   $-45.42mm\n",
        "14       AFRICA  1994 -7.084172e+07   $-70.84mm\n",
        "15  MIDDLE EAST  1993  1.955937e+07    $19.56mm\n",
        "16         ASIA  1997  2.851839e+09  $2851.84mm\n",
        "17  MIDDLE EAST  1994 -5.244317e+07   $-52.44mm\n",
        "18      AMERICA  1996 -3.940791e+07   $-39.41mm\n",
        "19       EUROPE  1996  1.385975e+08   $138.60mm\n",
        "20  MIDDLE EAST  1997  2.789688e+09  $2789.69mm\n",
        "21       AFRICA  1997  2.824921e+09  $2824.92mm\n",
        "22      AMERICA  1995  2.208216e+07    $22.08mm\n",
        "23       EUROPE  1993 -6.807773e+07   $-68.08mm\n",
        "24       AFRICA  1992  1.358699e+07    $13.59mm\n",
        "25      AMERICA  1993  4.304359e+07    $43.04mm\n",
        "26         ASIA  1994  2.543198e+07    $25.43mm\n",
        "27  MIDDLE EAST  1992 -3.644384e+07   $-36.44mm\n",
        "28         ASIA  1992  7.026156e+07    $70.26mm\n",
        "29  MIDDLE EAST  1995 -4.626817e+07   $-46.27mm"
       ]
      }
     ],
     "prompt_number": 12
    },
    {
     "cell_type": "markdown",
     "metadata": {},
     "source": [
      "If you're being fastidious and want to consider the first year occurring in the dataset for each region to have 0 for the prior year, you will instead need to do an outer join and treat nulls in the prior side of the join as zero:"
     ]
    },
    {
     "cell_type": "code",
     "collapsed": false,
     "input": [
      "yoy_change = (current.total - prior.total.zeroifnull()).name('yoy_change')\n",
      "results = (current.outer_join(prior, ((current.region == prior.region) & \n",
      "                                      (current.year == (prior.year - 1))))\n",
      "           [current.region, current.year, current.total,\n",
      "            prior.total.zeroifnull().name('prior_total'), \n",
      "            yoy_change])\n",
      "\n",
      "results.limit(10)"
     ],
     "language": "python",
     "metadata": {},
     "outputs": [
      {
       "metadata": {},
       "output_type": "pyout",
       "prompt_number": 14,
       "text": [
        "        region  year         total   prior_total    yoy_change\n",
        "0      AMERICA  1992  6.834349e+09  6.906800e+09 -7.245078e+07\n",
        "1       AFRICA  1996  6.878112e+09  6.848983e+09  2.912979e+07\n",
        "2       EUROPE  1997  6.876824e+09  4.113448e+09  2.763376e+09\n",
        "3       AFRICA  1998  4.024061e+09  0.000000e+00  4.024061e+09\n",
        "4         ASIA  1996  6.955679e+09  6.910663e+09  4.501570e+07\n",
        "5         ASIA  1993  6.864540e+09  6.957170e+09 -9.262979e+07\n",
        "6      AMERICA  1994  6.863756e+09  6.905139e+09 -4.138320e+07\n",
        "7  MIDDLE EAST  1996  6.877095e+09  6.814699e+09  6.239623e+07\n",
        "8       AFRICA  1995  6.908429e+09  6.878112e+09  3.031631e+07\n",
        "9       EUROPE  1994  6.979473e+09  6.970001e+09  9.471985e+06"
       ]
      }
     ],
     "prompt_number": 14
    },
    {
     "cell_type": "code",
     "collapsed": false,
     "input": [],
     "language": "python",
     "metadata": {},
     "outputs": []
    }
   ],
   "metadata": {}
  }
 ]
}