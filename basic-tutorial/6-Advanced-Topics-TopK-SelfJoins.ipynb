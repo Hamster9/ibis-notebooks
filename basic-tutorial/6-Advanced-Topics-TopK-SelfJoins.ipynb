{
 "metadata": {
  "name": "",
  "signature": "sha256:1fa8d007e695da917f566085702a55f4c1ff95ee66ae6bc009cdbea969c09709"
 },
 "nbformat": 3,
 "nbformat_minor": 0,
 "worksheets": [
  {
   "cells": [
    {
     "cell_type": "code",
     "collapsed": false,
     "input": [
      "import ibis\n",
      "\n",
      "ic = ibis.impala_connect(host='localhost', database='ibis_testing')\n",
      "hdfs = ibis.hdfs_connect(port=5070)\n",
      "con = ibis.make_client(ic, hdfs_client=hdfs)\n",
      "\n",
      "ibis.options.interactive = True"
     ],
     "language": "python",
     "metadata": {},
     "outputs": []
    },
    {
     "cell_type": "markdown",
     "metadata": {},
     "source": [
      "\"Top-K\" Filtering\n",
      "---\n",
      "\n",
      "A common analytical pattern involves subsetting based on some method of ranking. For example, \"the 5 most frequently occurring widgets in a dataset\". By choosing the right metric, you can obtain the most important or least important items from some dimension, for some definition of important.\n",
      "\n",
      "To carry out the pattern by hand involves the following\n",
      "\n",
      "- Choose a ranking metric\n",
      "- Aggregate, computing the ranking metric, by the target dimension\n",
      "- Order by the ranking metric and take the highest K values\n",
      "- Use those values as a set filter (either with `semi_join` or `isin`) in your next query\n",
      "\n",
      "For example, let's look at the TPC-H tables and find the 5 or 10 customers who placed the most orders over their lifetime:"
     ]
    },
    {
     "cell_type": "code",
     "collapsed": false,
     "input": [
      "orders = con.table('tpch_orders')\n",
      "\n",
      "top_orders = (orders\n",
      "              .group_by('o_custkey')\n",
      "              .size()\n",
      "              .sort_by(('count', False))\n",
      "              .limit(5))\n",
      "top_orders"
     ],
     "language": "python",
     "metadata": {},
     "outputs": []
    },
    {
     "cell_type": "markdown",
     "metadata": {},
     "source": [
      "Now, we could use these customer keys as a filter in some other analysis:"
     ]
    },
    {
     "cell_type": "code",
     "collapsed": false,
     "input": [
      "# Among the top 5 most frequent customers, what's the histogram of their order statuses?\n",
      "analysis = (orders[orders.o_custkey.isin(top_orders.o_custkey)]\n",
      "            .group_by('o_orderstatus')\n",
      "            .size())\n",
      "analysis"
     ],
     "language": "python",
     "metadata": {},
     "outputs": []
    },
    {
     "cell_type": "markdown",
     "metadata": {},
     "source": [
      "This is such a common pattern that Ibis supports a high level primitive `topk` operation, which can be used immediately as a filter:"
     ]
    },
    {
     "cell_type": "code",
     "collapsed": false,
     "input": [
      "top_orders = orders.o_custkey.topk(5)\n",
      "orders[top_orders].group_by('o_orderstatus').size()"
     ],
     "language": "python",
     "metadata": {},
     "outputs": []
    },
    {
     "cell_type": "markdown",
     "metadata": {},
     "source": [
      "This goes a little further. Suppose now we want to rank customers by their total spending instead of the number of orders, perhaps a more meaningful metric:"
     ]
    },
    {
     "cell_type": "code",
     "collapsed": false,
     "input": [
      "total_spend = orders.o_totalprice.sum().name('total')\n",
      "top_spenders = (orders\n",
      "                .group_by('o_custkey')\n",
      "                .aggregate(total_spend)\n",
      "                .sort_by(('total', False))\n",
      "                .limit(5))\n",
      "top_spenders"
     ],
     "language": "python",
     "metadata": {},
     "outputs": []
    },
    {
     "cell_type": "markdown",
     "metadata": {},
     "source": [
      "To use another metric, just pass it to the `by` argument in `topk`:"
     ]
    },
    {
     "cell_type": "code",
     "collapsed": false,
     "input": [
      "top_spenders = orders.o_custkey.topk(5, by=total_spend)\n",
      "orders[top_spenders].group_by('o_orderstatus').size()"
     ],
     "language": "python",
     "metadata": {},
     "outputs": []
    },
    {
     "cell_type": "markdown",
     "metadata": {},
     "source": [
      "Self joins\n",
      "---\n",
      "\n",
      "If you're a relational data guru, you may have wondered how it's possible to join tables with themselves, because joins clauses involve column references back to the original table.\n",
      "\n",
      "Consider the SQL\n",
      "\n",
      "    SELECT t1.key, sum(t1.value - t2.value) AS metric\n",
      "    FROM my_table t1\n",
      "      JOIN my_table t2\n",
      "        ON t1.key = t2.subkey\n",
      "    GROUP BY 1\n",
      "    \n",
      "Here, we have an unambiguous way to refer to each of the tables through aliasing."
     ]
    },
    {
     "cell_type": "markdown",
     "metadata": {},
     "source": [
      "Let's consider the TPC-H database, and support we want to compute year-over-year change in total order amounts by region using joins."
     ]
    },
    {
     "cell_type": "code",
     "collapsed": false,
     "input": [
      "region = con.table('tpch_region')\n",
      "nation = con.table('tpch_nation')\n",
      "customer = con.table('tpch_customer')\n",
      "orders = con.table('tpch_orders')\n",
      "\n",
      "orders.limit(5)"
     ],
     "language": "python",
     "metadata": {},
     "outputs": []
    },
    {
     "cell_type": "markdown",
     "metadata": {},
     "source": [
      "First, let's join all the things and select the fields we care about:"
     ]
    },
    {
     "cell_type": "code",
     "collapsed": false,
     "input": [
      "fields_of_interest = [region.r_name.name('region'), \n",
      "                      nation.n_name.name('nation'),\n",
      "                      orders.o_totalprice.name('amount'),\n",
      "                      orders.o_orderdate.cast('timestamp').name('odate') # these are strings\n",
      "                      ]\n",
      "\n",
      "joined_all = (region.join(nation, region.r_regionkey == nation.n_regionkey)\n",
      "              .join(customer, customer.c_nationkey == nation.n_nationkey)\n",
      "              .join(orders, orders.o_custkey == customer.c_custkey)\n",
      "              [fields_of_interest])"
     ],
     "language": "python",
     "metadata": {},
     "outputs": []
    },
    {
     "cell_type": "markdown",
     "metadata": {},
     "source": [
      "Okay, great, let's have a look:"
     ]
    },
    {
     "cell_type": "code",
     "collapsed": false,
     "input": [
      "joined_all.limit(5)"
     ],
     "language": "python",
     "metadata": {},
     "outputs": []
    },
    {
     "cell_type": "markdown",
     "metadata": {},
     "source": [
      "Sweet, now let's aggregate by year and region:"
     ]
    },
    {
     "cell_type": "code",
     "collapsed": false,
     "input": [
      "year = joined_all.odate.year().name('year')\n",
      "\n",
      "total = joined_all.amount.sum().cast('double').name('total')\n",
      "\n",
      "annual_amounts = (joined_all\n",
      "                  .group_by(['region', year])\n",
      "                  .aggregate(total))\n",
      "annual_amounts"
     ],
     "language": "python",
     "metadata": {},
     "outputs": []
    },
    {
     "cell_type": "markdown",
     "metadata": {},
     "source": [
      "Looking good so far. Now, we need to join this table on itself, by subtracting 1 from one of the year columns.\n",
      "\n",
      "We do this by creating a \"joinable\" view of a table that is considered a distinct object within Ibis. To do this, use the `view` function:"
     ]
    },
    {
     "cell_type": "code",
     "collapsed": false,
     "input": [
      "current = annual_amounts\n",
      "prior = annual_amounts.view()\n",
      "\n",
      "yoy_change = (current.total - prior.total).name('yoy_change')\n",
      "\n",
      "results = (current.join(prior, ((current.region == prior.region) & \n",
      "                                (current.year == (prior.year - 1))))\n",
      "           [current.region, current.year, yoy_change])\n",
      "df = results.execute()"
     ],
     "language": "python",
     "metadata": {},
     "outputs": []
    },
    {
     "cell_type": "code",
     "collapsed": false,
     "input": [
      "df['yoy_pretty'] = df.yoy_change.map(lambda x: '$%.2fmm' % (x / 1000000.))\n",
      "df"
     ],
     "language": "python",
     "metadata": {},
     "outputs": [],
     "prompt_number": 12
    },
    {
     "cell_type": "markdown",
     "metadata": {},
     "source": [
      "If you're being fastidious and want to consider the first year occurring in the dataset for each region to have 0 for the prior year, you will instead need to do an outer join and treat nulls in the prior side of the join as zero:"
     ]
    },
    {
     "cell_type": "code",
     "collapsed": false,
     "input": [
      "yoy_change = (current.total - prior.total.zeroifnull()).name('yoy_change')\n",
      "results = (current.outer_join(prior, ((current.region == prior.region) & \n",
      "                                      (current.year == (prior.year - 1))))\n",
      "           [current.region, current.year, current.total,\n",
      "            prior.total.zeroifnull().name('prior_total'), \n",
      "            yoy_change])\n",
      "\n",
      "results.limit(10)"
     ],
     "language": "python",
     "metadata": {},
     "outputs": [
      {
       "metadata": {},
       "output_type": "pyout",
       "prompt_number": 13,
       "text": [
        "    region  year         total   prior_total    yoy_change\n",
        "0   AFRICA  1995  6.908429e+09  6.878112e+09  3.031631e+07\n",
        "1   EUROPE  1994  6.979473e+09  6.970001e+09  9.471985e+06\n",
        "2   AFRICA  1993  6.859733e+09  6.837587e+09  2.214559e+07\n",
        "3   EUROPE  1992  6.926705e+09  6.911395e+09  1.531005e+07\n",
        "4  AMERICA  1994  6.863756e+09  6.905139e+09 -4.138320e+07\n",
        "5     ASIA  1996  6.955679e+09  6.910663e+09  4.501570e+07\n",
        "6     ASIA  1995  6.931738e+09  6.955679e+09 -2.394126e+07\n",
        "7     ASIA  1998  4.058824e+09  0.000000e+00  4.058824e+09\n",
        "8   AFRICA  1998  4.024061e+09  0.000000e+00  4.024061e+09\n",
        "9  AMERICA  1997  6.922465e+09  3.991377e+09  2.931088e+09"
       ]
      }
     ],
     "prompt_number": 13
    }
   ],
   "metadata": {}
  }
 ]
}