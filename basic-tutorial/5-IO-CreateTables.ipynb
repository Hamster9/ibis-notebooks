{
 "metadata": {
  "name": "",
  "signature": "sha256:34edc6e878a02a9ef4497a3c4b106a3c90041f6161741786c97144d19f3a3fbb"
 },
 "nbformat": 3,
 "nbformat_minor": 0,
 "worksheets": [
  {
   "cells": [
    {
     "cell_type": "code",
     "collapsed": false,
     "input": [
      "from ibis import api\n",
      "import ibis\n",
      "con = ibis.impala_connect(host='localhost')\n",
      "ibis.options.interactive = True"
     ],
     "language": "python",
     "metadata": {},
     "outputs": [],
     "prompt_number": 1
    },
    {
     "cell_type": "markdown",
     "metadata": {},
     "source": [
      "Creating new Impala tables from Ibis expressions\n",
      "---\n",
      "\n",
      "Suppose you have an Ibis expression that "
     ]
    },
    {
     "cell_type": "code",
     "collapsed": false,
     "input": [
      "table = con.table('functional.alltypes')\n",
      "\n",
      "t2 = table[table, (table.bigint_col - table.int_col).name('foo')]\n",
      "\n",
      "expr = (t2\n",
      "        [t2.bigint_col > 30]\n",
      "        .group_by('string_col')\n",
      "        .aggregate([t2.foo.min().name('min_foo'),\n",
      "                    t2.foo.max().name('max_foo'),\n",
      "                    t2.foo.sum().name('sum_foo')]))\n",
      "expr"
     ],
     "language": "python",
     "metadata": {},
     "outputs": [
      {
       "metadata": {},
       "output_type": "pyout",
       "prompt_number": 2,
       "text": [
        "  string_col  min_foo  max_foo  sum_foo\n",
        "0          8       72       72    52560\n",
        "1          6       54       54    39420\n",
        "2          5       45       45    32850\n",
        "3          4       36       36    26280\n",
        "4          9       81       81    59130\n",
        "5          7       63       63    45990"
       ]
      }
     ],
     "prompt_number": 2
    },
    {
     "cell_type": "markdown",
     "metadata": {},
     "source": [
      "To create a table in the database, use the connection's `create_table` method:"
     ]
    },
    {
     "cell_type": "code",
     "collapsed": false,
     "input": [
      "con.create_table('testing_table', expr, database='functional')"
     ],
     "language": "python",
     "metadata": {},
     "outputs": [],
     "prompt_number": 3
    },
    {
     "cell_type": "markdown",
     "metadata": {},
     "source": [
      "Support for views, external tables, configurable file formats, and so forth, will come in the future. Feedback on what kind of interface would be useful for that would help."
     ]
    },
    {
     "cell_type": "code",
     "collapsed": false,
     "input": [
      "con.table('functional.testing_table')"
     ],
     "language": "python",
     "metadata": {},
     "outputs": [
      {
       "metadata": {},
       "output_type": "pyout",
       "prompt_number": 4,
       "text": [
        "  string_col  min_foo  max_foo  sum_foo\n",
        "0          9       81       81    59130\n",
        "1          8       72       72    52560\n",
        "2          5       45       45    32850\n",
        "3          6       54       54    39420\n",
        "4          4       36       36    26280\n",
        "5          7       63       63    45990"
       ]
      }
     ],
     "prompt_number": 4
    },
    {
     "cell_type": "markdown",
     "metadata": {},
     "source": [
      "Tables can be similarly dropped with `drop_table`"
     ]
    },
    {
     "cell_type": "code",
     "collapsed": false,
     "input": [
      "con.drop_table('testing_table', database='functional')"
     ],
     "language": "python",
     "metadata": {},
     "outputs": [],
     "prompt_number": 5
    }
   ],
   "metadata": {}
  }
 ]
}