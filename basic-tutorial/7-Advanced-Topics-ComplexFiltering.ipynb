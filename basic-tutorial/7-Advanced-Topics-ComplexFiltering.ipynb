{
 "metadata": {
  "name": "",
  "signature": "sha256:7c4874544fd5abe2791dcb625532012f681be93707936702b2e3ec0d2fd6bee0"
 },
 "nbformat": 3,
 "nbformat_minor": 0,
 "worksheets": [
  {
   "cells": [
    {
     "cell_type": "markdown",
     "metadata": {},
     "source": [
      "More filtering mojo for your analytics\n",
      "===\n",
      "\n",
      "The filtering examples we've shown to this point have been pretty simple, either comparisons between columns or fixed values, or set filter functions like `isin` and `notin`. \n",
      "\n",
      "Ibis supports a number of richer analytical filters that can involve one or more of:\n",
      "\n",
      "- Aggregates computed from the same or other tables\n",
      "- Conditional aggregates (in SQL-speak these are similar to \"correlated subqueries\")\n",
      "- \"Existence\" set filters (equivalent to the SQL `EXISTS` and `NOT EXISTS` keywords)"
     ]
    },
    {
     "cell_type": "code",
     "collapsed": false,
     "input": [
      "from ibis import api\n",
      "from ibis.sql.compiler import to_sql\n",
      "import ibis\n",
      "con = ibis.impala_connect(host='localhost')\n",
      "ibis.options.interactive = True"
     ],
     "language": "python",
     "metadata": {},
     "outputs": [],
     "prompt_number": 1
    },
    {
     "cell_type": "markdown",
     "metadata": {},
     "source": [
      "Using scalar aggregates in filters\n",
      "---"
     ]
    },
    {
     "cell_type": "code",
     "collapsed": false,
     "input": [
      "table = con.table('functional.alltypes')\n",
      "table.limit(5)"
     ],
     "language": "python",
     "metadata": {},
     "outputs": [
      {
       "metadata": {},
       "output_type": "pyout",
       "prompt_number": 3,
       "text": [
        "     id bool_col  tinyint_col  smallint_col  int_col  bigint_col  float_col  \\\n",
        "0  6990     True            0             0        0           0        0.0   \n",
        "1  6991    False            1             1        1          10        1.1   \n",
        "2  6992     True            2             2        2          20        2.2   \n",
        "3  6993    False            3             3        3          30        3.3   \n",
        "4  6994     True            4             4        4          40        4.4   \n",
        "\n",
        "   double_col date_string_col string_col              timestamp_col  year  \\\n",
        "0         0.0        12/01/10          0        2010-12-01 00:00:00  2010   \n",
        "1        10.1        12/01/10          1        2010-12-01 00:01:00  2010   \n",
        "2        20.2        12/01/10          2 2010-12-01 00:02:00.100000  2010   \n",
        "3        30.3        12/01/10          3 2010-12-01 00:03:00.300000  2010   \n",
        "4        40.4        12/01/10          4 2010-12-01 00:04:00.600000  2010   \n",
        "\n",
        "   month  \n",
        "0     12  \n",
        "1     12  \n",
        "2     12  \n",
        "3     12  \n",
        "4     12  "
       ]
      }
     ],
     "prompt_number": 3
    },
    {
     "cell_type": "markdown",
     "metadata": {},
     "source": [
      "We could always compute some aggregate value from the table and use that in another expression, or we can use a data-derived aggregate in the filter. Take the average of a column for example:"
     ]
    },
    {
     "cell_type": "code",
     "collapsed": false,
     "input": [
      "table.double_col.mean()"
     ],
     "language": "python",
     "metadata": {},
     "outputs": [
      {
       "metadata": {},
       "output_type": "pyout",
       "prompt_number": 5,
       "text": [
        "45.450000000000003"
       ]
      }
     ],
     "prompt_number": 5
    },
    {
     "cell_type": "markdown",
     "metadata": {},
     "source": [
      "You can use this expression as a substitute for a scalar value in a filter, and the execution engine will combine everything into a single query rather than having to access Impala multiple times:"
     ]
    },
    {
     "cell_type": "code",
     "collapsed": false,
     "input": [
      "cond = table.bigint_col > table.double_col.mean()\n",
      "expr = table[cond & table.bool_col].limit(5)\n",
      "expr"
     ],
     "language": "python",
     "metadata": {},
     "outputs": [
      {
       "metadata": {},
       "output_type": "pyout",
       "prompt_number": 12,
       "text": [
        "     id bool_col  tinyint_col  smallint_col  int_col  bigint_col  float_col  \\\n",
        "0  6696     True            6             6        6          60        6.6   \n",
        "1  6698     True            8             8        8          80        8.8   \n",
        "2  6706     True            6             6        6          60        6.6   \n",
        "3  6708     True            8             8        8          80        8.8   \n",
        "4  6716     True            6             6        6          60        6.6   \n",
        "\n",
        "   double_col date_string_col string_col              timestamp_col  year  \\\n",
        "0        60.6        11/01/10          6 2010-11-01 00:06:00.150000  2010   \n",
        "1        80.8        11/01/10          8 2010-11-01 00:08:00.280000  2010   \n",
        "2        60.6        11/02/10          6 2010-11-02 00:16:00.600000  2010   \n",
        "3        80.8        11/02/10          8 2010-11-02 00:18:00.730000  2010   \n",
        "4        60.6        11/03/10          6 2010-11-03 00:26:01.500000  2010   \n",
        "\n",
        "   month  \n",
        "0     11  \n",
        "1     11  \n",
        "2     11  \n",
        "3     11  \n",
        "4     11  "
       ]
      }
     ],
     "prompt_number": 12
    },
    {
     "cell_type": "markdown",
     "metadata": {},
     "source": [
      "Conditional aggregates\n",
      "---\n",
      "\n",
      "Suppose that we wish to filter using an aggregate computed conditional on some other expressions holding true. Using the TPC-H datasets, suppose that we want to filter customers based on the following criteria:\n",
      "\n",
      "- For each customer, their total spending exceeds "
     ]
    },
    {
     "cell_type": "markdown",
     "metadata": {},
     "source": [
      "\"Existence\" filters\n",
      "---"
     ]
    },
    {
     "cell_type": "code",
     "collapsed": false,
     "input": [],
     "language": "python",
     "metadata": {},
     "outputs": []
    }
   ],
   "metadata": {}
  }
 ]
}