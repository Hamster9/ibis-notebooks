{
 "metadata": {
  "name": "",
  "signature": "sha256:4b28d792b0f44006cf6370d9c5cfadbf82d6661e5a6e61249fdb0158e3098d75"
 },
 "nbformat": 3,
 "nbformat_minor": 0,
 "worksheets": [
  {
   "cells": [
    {
     "cell_type": "code",
     "collapsed": false,
     "input": [
      "import ibis\n",
      "\n",
      "ic = ibis.impala_connect(host='localhost', database='ibis_testing')\n",
      "hdfs = ibis.hdfs_connect(port=5070)\n",
      "con = ibis.make_client(ic, hdfs_client=hdfs)\n",
      "\n",
      "ibis.options.interactive = True"
     ],
     "language": "python",
     "metadata": {},
     "outputs": []
    },
    {
     "cell_type": "markdown",
     "metadata": {},
     "source": [
      "Creating new Impala tables from Ibis expressions\n",
      "---\n",
      "\n",
      "Suppose you have an Ibis expression that "
     ]
    },
    {
     "cell_type": "code",
     "collapsed": false,
     "input": [
      "table = con.table('functional_alltypes')\n",
      "\n",
      "t2 = table[table, (table.bigint_col - table.int_col).name('foo')]\n",
      "\n",
      "expr = (t2\n",
      "        [t2.bigint_col > 30]\n",
      "        .group_by('string_col')\n",
      "        .aggregate([t2.foo.min().name('min_foo'),\n",
      "                    t2.foo.max().name('max_foo'),\n",
      "                    t2.foo.sum().name('sum_foo')]))\n",
      "expr"
     ],
     "language": "python",
     "metadata": {},
     "outputs": []
    },
    {
     "cell_type": "markdown",
     "metadata": {},
     "source": [
      "To create a table in the database, use the connection's `create_table` method:"
     ]
    },
    {
     "cell_type": "code",
     "collapsed": false,
     "input": [
      "con.create_table('testing_table', expr, database='ibis_testing')"
     ],
     "language": "python",
     "metadata": {},
     "outputs": []
    },
    {
     "cell_type": "markdown",
     "metadata": {},
     "source": [
      "Support for views, external tables, configurable file formats, and so forth, will come in the future. Feedback on what kind of interface would be useful for that would help."
     ]
    },
    {
     "cell_type": "code",
     "collapsed": false,
     "input": [
      "con.table('testing_table')"
     ],
     "language": "python",
     "metadata": {},
     "outputs": []
    },
    {
     "cell_type": "markdown",
     "metadata": {},
     "source": [
      "Tables can be similarly dropped with `drop_table`"
     ]
    },
    {
     "cell_type": "code",
     "collapsed": false,
     "input": [
      "con.drop_table('testing_table', database='ibis_testing')"
     ],
     "language": "python",
     "metadata": {},
     "outputs": []
    },
    {
     "cell_type": "code",
     "collapsed": false,
     "input": [],
     "language": "python",
     "metadata": {},
     "outputs": []
    }
   ],
   "metadata": {}
  }
 ]
}