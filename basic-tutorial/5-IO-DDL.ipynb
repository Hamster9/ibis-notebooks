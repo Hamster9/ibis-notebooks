{
 "metadata": {
  "name": "",
  "signature": "sha256:ceafbe6b1bfa3733ee2d3288def080bdada47fc96bdf8dfab1c9c54cd1b12909"
 },
 "nbformat": 3,
 "nbformat_minor": 0,
 "worksheets": [
  {
   "cells": [
    {
     "cell_type": "code",
     "collapsed": false,
     "input": [
      "from ibis import api\n",
      "import ibis\n",
      "con = ibis.impala_connect(host='localhost')\n",
      "ibis.options.interactive = True"
     ],
     "language": "python",
     "metadata": {},
     "outputs": [],
     "prompt_number": 1
    },
    {
     "cell_type": "markdown",
     "metadata": {},
     "source": [
      "Creating new Impala tables from Ibis expressions\n",
      "---"
     ]
    },
    {
     "cell_type": "code",
     "collapsed": false,
     "input": [],
     "language": "python",
     "metadata": {},
     "outputs": []
    }
   ],
   "metadata": {}
  }
 ]
}