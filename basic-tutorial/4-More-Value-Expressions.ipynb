{
 "metadata": {
  "name": "",
  "signature": "sha256:ae208c126435f955f106b34f65129a38d99d8fa375e79daefc9f879526b2d360"
 },
 "nbformat": 3,
 "nbformat_minor": 0,
 "worksheets": [
  {
   "cells": [
    {
     "cell_type": "code",
     "collapsed": false,
     "input": [
      "import ibis\n",
      "\n",
      "ic = ibis.impala_connect(host='localhost', database='ibis_testing')\n",
      "hdfs = ibis.hdfs_connect(port=5070)\n",
      "con = ibis.make_client(ic, hdfs_client=hdfs)\n",
      "\n",
      "ibis.options.interactive = True"
     ],
     "language": "python",
     "metadata": {},
     "outputs": []
    },
    {
     "cell_type": "markdown",
     "metadata": {},
     "source": [
      "Type casting\n",
      "---\n",
      "The Ibis type system is pretty basic and will get better (and more documented over time). It maps directly onto the current Impala type system\n",
      "\n",
      "- `int8`\n",
      "- `int16`\n",
      "- `int32`\n",
      "- `int64`\n",
      "- `boolean`\n",
      "- `float`\n",
      "- `double`\n",
      "- `string`\n",
      "- `timestamp`\n",
      "- `decimal($precision, $scale)`\n",
      "\n",
      "These type names can be used to cast from one type to another"
     ]
    },
    {
     "cell_type": "code",
     "collapsed": false,
     "input": [
      "table = con.table('functional_alltypes')\n",
      "table.string_col.cast('double').sum()"
     ],
     "language": "python",
     "metadata": {},
     "outputs": []
    },
    {
     "cell_type": "code",
     "collapsed": false,
     "input": [
      "table.string_col.cast('decimal(12,2)').sum()"
     ],
     "language": "python",
     "metadata": {},
     "outputs": []
    },
    {
     "cell_type": "markdown",
     "metadata": {},
     "source": [
      "Case / if-then-else expressions\n",
      "---\n",
      "\n",
      "We support a number of variants of the SQL-equivalent `CASE` expression, and will add more API functions over time to meet different use cases and enhance the expressiveness of any branching-based value logic."
     ]
    },
    {
     "cell_type": "code",
     "collapsed": false,
     "input": [
      "expr = (table.string_col\n",
      "        .case()\n",
      "        .when('4', 'fee')\n",
      "        .when('7', 'fi')\n",
      "        .when('1', 'fo')\n",
      "        .when('0', 'fum')\n",
      "        .else_(table.string_col)\n",
      "        .end()\n",
      "        .name('new_strings'))\n",
      "\n",
      "expr.value_counts()"
     ],
     "language": "python",
     "metadata": {},
     "outputs": []
    },
    {
     "cell_type": "markdown",
     "metadata": {},
     "source": [
      "If the `else_` default condition is not provided, any values not matching one of the conditions will be `NULL`."
     ]
    },
    {
     "cell_type": "code",
     "collapsed": false,
     "input": [
      "expr = (table.string_col\n",
      "        .case()\n",
      "        .when('4', 'fee')\n",
      "        .when('7', 'fi')\n",
      "        .end()\n",
      "        .name('with_nulls'))\n",
      "\n",
      "expr.value_counts()"
     ],
     "language": "python",
     "metadata": {},
     "outputs": []
    },
    {
     "cell_type": "markdown",
     "metadata": {},
     "source": [
      "To test for an arbitrary series of boolean conditions, use the `case` API method and pass any boolean expressions potentially involving columns of the table:"
     ]
    },
    {
     "cell_type": "code",
     "collapsed": false,
     "input": [
      "expr = (ibis.case()\n",
      "        .when(table.int_col > 5, table.bigint_col * 2)\n",
      "        .when(table.int_col > 2, table.bigint_col)\n",
      "        .else_(table.int_col)\n",
      "        .end())\n",
      "\n",
      "table['id', 'int_col', 'bigint_col', expr.name('case_result')].limit(20)"
     ],
     "language": "python",
     "metadata": {},
     "outputs": []
    },
    {
     "cell_type": "markdown",
     "metadata": {},
     "source": [
      "Simple ternary-cases (like the Python `X if COND else Y`) can be written using the `ifelse` function:"
     ]
    },
    {
     "cell_type": "code",
     "collapsed": false,
     "input": [
      "expr = ((table.int_col > 5)\n",
      "        .ifelse(table.bigint_col / 2, table.bigint_col * 2)\n",
      "        .name('ifelse_result'))\n",
      "\n",
      "table['int_col', 'bigint_col', expr].limit(10)"
     ],
     "language": "python",
     "metadata": {},
     "outputs": []
    },
    {
     "cell_type": "markdown",
     "metadata": {},
     "source": [
      "Set membership\n",
      "---\n",
      "\n",
      "The `isin` and `notin` functions are like their pandas counterparts. These can take:\n",
      "\n",
      "- A list of value expressions, either literal values or other column expressions\n",
      "- An array/column expression of some kind"
     ]
    },
    {
     "cell_type": "code",
     "collapsed": false,
     "input": [
      "bool_clause = table.string_col.notin(['1', '4', '7'])\n",
      "table[bool_clause].string_col.value_counts()"
     ],
     "language": "python",
     "metadata": {},
     "outputs": []
    },
    {
     "cell_type": "markdown",
     "metadata": {},
     "source": [
      "You can also check for membership in an array. Here is an example of filtering based on the top 3 (ignoring ties) most frequently-occurring values in the `string_col` column of alltypes:"
     ]
    },
    {
     "cell_type": "code",
     "collapsed": false,
     "input": [
      "top_strings = table.string_col.value_counts().limit(3).string_col\n",
      "top_filter = table.string_col.isin(top_strings)\n",
      "expr = table[top_filter]\n",
      "\n",
      "expr.count()"
     ],
     "language": "python",
     "metadata": {},
     "outputs": []
    },
    {
     "cell_type": "markdown",
     "metadata": {},
     "source": [
      "This is a common enough operation that we provide a special analytical filter function `topk`:"
     ]
    },
    {
     "cell_type": "code",
     "collapsed": false,
     "input": [
      "table[table.string_col.topk(3)].count()"
     ],
     "language": "python",
     "metadata": {},
     "outputs": []
    },
    {
     "cell_type": "markdown",
     "metadata": {},
     "source": [
      "Cool, huh? More on `topk` later."
     ]
    },
    {
     "cell_type": "markdown",
     "metadata": {},
     "source": [
      "Null-ness\n",
      "---\n",
      "Like their pandas equivalents, the `isnull` and `notnull` functions return TRue values if the values are null, or non-null, respectively. For example:"
     ]
    },
    {
     "cell_type": "code",
     "collapsed": false,
     "input": [
      "expr = (table.string_col\n",
      "        .case()\n",
      "        .when('4', 'fee')\n",
      "        .when('7', 'fi')\n",
      "        .when('1', 'fo')\n",
      "        .end()\n",
      "        .name('new_strings'))\n",
      "\n",
      "expr.isnull().value_counts()"
     ],
     "language": "python",
     "metadata": {},
     "outputs": []
    },
    {
     "cell_type": "markdown",
     "metadata": {},
     "source": [
      "Functions like `isnull` can be combined with `case` expressions or functions like `ifelse` to replace null values with some other value. `ifelse` here will use the first value supplied for any `True` value and the second value for any `False` value. Either value can be a scalar or array. "
     ]
    },
    {
     "cell_type": "code",
     "collapsed": false,
     "input": [
      "expr2 = expr.isnull().ifelse('was null', expr).name('strings')\n",
      "expr2.value_counts()"
     ],
     "language": "python",
     "metadata": {},
     "outputs": []
    },
    {
     "cell_type": "markdown",
     "metadata": {},
     "source": [
      "Distinct-based operations\n",
      "---\n",
      "\n",
      "Ibis supports using `distinct` to remove duplicate rows or values on tables or arrays. For example:"
     ]
    },
    {
     "cell_type": "code",
     "collapsed": false,
     "input": [
      "table['int_col', 'bigint_col'].distinct()"
     ],
     "language": "python",
     "metadata": {},
     "outputs": []
    },
    {
     "cell_type": "code",
     "collapsed": false,
     "input": [
      "table.string_col.distinct()"
     ],
     "language": "python",
     "metadata": {},
     "outputs": []
    },
    {
     "cell_type": "markdown",
     "metadata": {},
     "source": [
      "This can be combined with `count` to form a reduction metric:"
     ]
    },
    {
     "cell_type": "code",
     "collapsed": false,
     "input": [
      "metric = (table.bigint_col\n",
      "          .distinct().count()\n",
      "          .name('unique_bigints'))"
     ],
     "language": "python",
     "metadata": {},
     "outputs": []
    },
    {
     "cell_type": "markdown",
     "metadata": {},
     "source": [
      "This is common enough to have a shortcut `nunique`:"
     ]
    },
    {
     "cell_type": "code",
     "collapsed": false,
     "input": [
      "table.string_col.nunique()"
     ],
     "language": "python",
     "metadata": {},
     "outputs": []
    },
    {
     "cell_type": "markdown",
     "metadata": {},
     "source": [
      "String operations\n",
      "---\n",
      "\n",
      "What's supported is pretty basic right now. We intend to support the full gamut of regular expression munging with a nice API, though in some cases some work will be required on Impala's backend to support everything. "
     ]
    },
    {
     "cell_type": "code",
     "collapsed": false,
     "input": [
      "nation = con.table('tpch_nation')\n",
      "nation.limit(5)"
     ],
     "language": "python",
     "metadata": {},
     "outputs": []
    },
    {
     "cell_type": "markdown",
     "metadata": {},
     "source": [
      "At the moment, basic substring operations (`substr`, with conveniences `left` and `right`) and Python-like APIs such as `lower` and `upper` (for case normalization) are supported. So you could count first letter occurrences in a string column like so:"
     ]
    },
    {
     "cell_type": "code",
     "collapsed": false,
     "input": [
      "expr = nation.n_name.lower().left(1).name('first_letter')\n",
      "expr.value_counts().sort_by(('count', False))"
     ],
     "language": "python",
     "metadata": {},
     "outputs": []
    },
    {
     "cell_type": "markdown",
     "metadata": {},
     "source": [
      "Fuzzy and regex filtering/searching (like the SQL `LIKE` and `RLIKE` keywords) will also be on its way, but not yet available."
     ]
    },
    {
     "cell_type": "markdown",
     "metadata": {},
     "source": [
      "Timestamp operations\n",
      "---\n",
      "\n",
      "Date and time functionality is relatively limited at present compared with pandas, but we'll get there. The main thing we have right now is field access:"
     ]
    },
    {
     "cell_type": "code",
     "collapsed": false,
     "input": [
      "table = con.table('functional_alltypes')\n",
      "\n",
      "table[table.timestamp_col, table.timestamp_col.minute().name('minute')].limit(10)"
     ],
     "language": "python",
     "metadata": {},
     "outputs": []
    },
    {
     "cell_type": "markdown",
     "metadata": {},
     "source": [
      "Somewhat more comprehensively"
     ]
    },
    {
     "cell_type": "code",
     "collapsed": false,
     "input": [
      "def get_field(f):\n",
      "    return getattr(table.timestamp_col, f)().name(f)\n",
      "\n",
      "fields = ['year', 'month', 'day', 'hour', 'minute', 'second', 'millisecond']\n",
      "projection = [table.timestamp_col] + [get_field(x) for x in fields]\n",
      "table[projection].limit(10)"
     ],
     "language": "python",
     "metadata": {},
     "outputs": []
    },
    {
     "cell_type": "markdown",
     "metadata": {},
     "source": [
      "Planning to add a \"timedelta\" API and other goodies. Stay tuned."
     ]
    }
   ],
   "metadata": {}
  }
 ]
}