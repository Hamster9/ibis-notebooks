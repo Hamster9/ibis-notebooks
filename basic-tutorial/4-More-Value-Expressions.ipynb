{
 "metadata": {
  "name": "",
  "signature": "sha256:c699cef818263b17179641dcfa5f3124a7c3838a619c26a482b102a6de08e81c"
 },
 "nbformat": 3,
 "nbformat_minor": 0,
 "worksheets": [
  {
   "cells": [
    {
     "cell_type": "code",
     "collapsed": false,
     "input": [
      "from ibis import api\n",
      "import ibis\n",
      "con = ibis.impala_connect(host='localhost')\n",
      "ibis.options.interactive = True"
     ],
     "language": "python",
     "metadata": {},
     "outputs": [],
     "prompt_number": 6
    },
    {
     "cell_type": "markdown",
     "metadata": {},
     "source": [
      "Type casting\n",
      "---\n",
      "The Ibis type system is pretty basic and will get better (and more documented over time)\n",
      "\n",
      "- `int8`\n",
      "- `int16`\n",
      "- `int32`\n",
      "- `int64`\n",
      "- `boolean`\n",
      "- `float`\n",
      "- `double`\n",
      "- `string`\n",
      "- `timestamp`\n",
      "- `decimal($precision, $scale)`\n",
      "\n",
      "These type names can be used to cast from one type to another"
     ]
    },
    {
     "cell_type": "code",
     "collapsed": false,
     "input": [
      "table = con.table('functional.alltypes')\n",
      "table.string_col.cast('double').sum()"
     ],
     "language": "python",
     "metadata": {},
     "outputs": [
      {
       "metadata": {},
       "output_type": "pyout",
       "prompt_number": 7,
       "text": [
        "32850.0"
       ]
      }
     ],
     "prompt_number": 7
    },
    {
     "cell_type": "code",
     "collapsed": false,
     "input": [
      "table.string_col.cast('decimal(12,2)').sum()"
     ],
     "language": "python",
     "metadata": {},
     "outputs": [
      {
       "metadata": {},
       "output_type": "pyout",
       "prompt_number": 8,
       "text": [
        "Decimal('32850.00')"
       ]
      }
     ],
     "prompt_number": 8
    },
    {
     "cell_type": "markdown",
     "metadata": {},
     "source": [
      "Case / if-then-else expressions\n",
      "---\n",
      "\n",
      "We support a number of variants of the SQL-equivalent `CASE` expression, and will add more API functions over time to meet different use cases and enhance the expressiveness of any branching-based value logic."
     ]
    },
    {
     "cell_type": "code",
     "collapsed": false,
     "input": [
      "expr = (table.string_col\n",
      "        .case()\n",
      "        .when('4', 'fee')\n",
      "        .when('7', 'fi')\n",
      "        .when('1', 'fo')\n",
      "        .when('0', 'fum')\n",
      "        .else_(table.string_col)\n",
      "        .end()\n",
      "        .name('new_strings'))\n",
      "\n",
      "expr.value_counts()"
     ],
     "language": "python",
     "metadata": {},
     "outputs": [
      {
       "metadata": {},
       "output_type": "pyout",
       "prompt_number": 13,
       "text": [
        "  new_strings  count\n",
        "0           6    730\n",
        "1          fo    730\n",
        "2          fi    730\n",
        "3         fee    730\n",
        "4           8    730\n",
        "5           2    730\n",
        "6           9    730\n",
        "7         fum    730\n",
        "8           5    730\n",
        "9           3    730"
       ]
      }
     ],
     "prompt_number": 13
    },
    {
     "cell_type": "markdown",
     "metadata": {},
     "source": [
      "Set membership\n",
      "---"
     ]
    },
    {
     "cell_type": "code",
     "collapsed": false,
     "input": [],
     "language": "python",
     "metadata": {},
     "outputs": []
    },
    {
     "cell_type": "markdown",
     "metadata": {},
     "source": [
      "Null-ness\n",
      "---"
     ]
    },
    {
     "cell_type": "code",
     "collapsed": false,
     "input": [
      "expr = (table.string_col\n",
      "        .case()\n",
      "        .when('4', 'fee')\n",
      "        .when('7', 'fi')\n",
      "        .when('1', 'fo')\n",
      "        .end()\n",
      "        .name('new_strings'))\n",
      "\n",
      "expr.isnull().value_counts()"
     ],
     "language": "python",
     "metadata": {},
     "outputs": [
      {
       "metadata": {},
       "output_type": "pyout",
       "prompt_number": 14,
       "text": [
        "  new_strings  count\n",
        "0       False   2190\n",
        "1        True   5110"
       ]
      }
     ],
     "prompt_number": 14
    },
    {
     "cell_type": "markdown",
     "metadata": {},
     "source": [
      "Distinct-based operations\n",
      "---"
     ]
    },
    {
     "cell_type": "code",
     "collapsed": false,
     "input": [],
     "language": "python",
     "metadata": {},
     "outputs": []
    },
    {
     "cell_type": "markdown",
     "metadata": {},
     "source": [
      "Timestamp operations\n",
      "---\n",
      "I'll put more of these in a separate notebook"
     ]
    },
    {
     "cell_type": "markdown",
     "metadata": {},
     "source": []
    }
   ],
   "metadata": {}
  }
 ]
}