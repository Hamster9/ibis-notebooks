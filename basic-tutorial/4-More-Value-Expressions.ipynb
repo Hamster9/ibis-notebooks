{
 "metadata": {
  "name": "",
  "signature": "sha256:1469cfe2437d1325c09c18d8376c46ee120597e72f90b5749d1d2c1e48c94328"
 },
 "nbformat": 3,
 "nbformat_minor": 0,
 "worksheets": [
  {
   "cells": [
    {
     "cell_type": "code",
     "collapsed": false,
     "input": [
      "import ibis\n",
      "\n",
      "ic = ibis.impala_connect(host='localhost', database='ibis_testing')\n",
      "hdfs = ibis.hdfs_connect(port=5070)\n",
      "con = ibis.make_client(ic, hdfs_client=hdfs)\n",
      "\n",
      "ibis.options.interactive = True"
     ],
     "language": "python",
     "metadata": {},
     "outputs": [],
     "prompt_number": 1
    },
    {
     "cell_type": "markdown",
     "metadata": {},
     "source": [
      "Type casting\n",
      "---\n",
      "The Ibis type system is pretty basic and will get better (and more documented over time). It maps directly onto the current Impala type system\n",
      "\n",
      "- `int8`\n",
      "- `int16`\n",
      "- `int32`\n",
      "- `int64`\n",
      "- `boolean`\n",
      "- `float`\n",
      "- `double`\n",
      "- `string`\n",
      "- `timestamp`\n",
      "- `decimal($precision, $scale)`\n",
      "\n",
      "These type names can be used to cast from one type to another"
     ]
    },
    {
     "cell_type": "code",
     "collapsed": false,
     "input": [
      "table = con.table('functional_alltypes')\n",
      "table.string_col.cast('double').sum()"
     ],
     "language": "python",
     "metadata": {},
     "outputs": [
      {
       "metadata": {},
       "output_type": "pyout",
       "prompt_number": 2,
       "text": [
        "32850.0"
       ]
      }
     ],
     "prompt_number": 2
    },
    {
     "cell_type": "code",
     "collapsed": false,
     "input": [
      "table.string_col.cast('decimal(12,2)').sum()"
     ],
     "language": "python",
     "metadata": {},
     "outputs": [
      {
       "metadata": {},
       "output_type": "pyout",
       "prompt_number": 3,
       "text": [
        "Decimal('32850.00')"
       ]
      }
     ],
     "prompt_number": 3
    },
    {
     "cell_type": "markdown",
     "metadata": {},
     "source": [
      "Case / if-then-else expressions\n",
      "---\n",
      "\n",
      "We support a number of variants of the SQL-equivalent `CASE` expression, and will add more API functions over time to meet different use cases and enhance the expressiveness of any branching-based value logic."
     ]
    },
    {
     "cell_type": "code",
     "collapsed": false,
     "input": [
      "expr = (table.string_col\n",
      "        .case()\n",
      "        .when('4', 'fee')\n",
      "        .when('7', 'fi')\n",
      "        .when('1', 'fo')\n",
      "        .when('0', 'fum')\n",
      "        .else_(table.string_col)\n",
      "        .end()\n",
      "        .name('new_strings'))\n",
      "\n",
      "expr.value_counts()"
     ],
     "language": "python",
     "metadata": {},
     "outputs": [
      {
       "metadata": {},
       "output_type": "pyout",
       "prompt_number": 4,
       "text": [
        "  new_strings  count\n",
        "0           6    730\n",
        "1          fo    730\n",
        "2         fum    730\n",
        "3          fi    730\n",
        "4         fee    730\n",
        "5           9    730\n",
        "6           8    730\n",
        "7           2    730\n",
        "8           3    730\n",
        "9           5    730"
       ]
      }
     ],
     "prompt_number": 4
    },
    {
     "cell_type": "markdown",
     "metadata": {},
     "source": [
      "If the `else_` default condition is not provided, any values not matching one of the conditions will be `NULL`."
     ]
    },
    {
     "cell_type": "code",
     "collapsed": false,
     "input": [
      "expr = (table.string_col\n",
      "        .case()\n",
      "        .when('4', 'fee')\n",
      "        .when('7', 'fi')\n",
      "        .end()\n",
      "        .name('with_nulls'))\n",
      "\n",
      "expr.value_counts()"
     ],
     "language": "python",
     "metadata": {},
     "outputs": [
      {
       "metadata": {},
       "output_type": "pyout",
       "prompt_number": 5,
       "text": [
        "  with_nulls  count\n",
        "0       None   5840\n",
        "1         fi    730\n",
        "2        fee    730"
       ]
      }
     ],
     "prompt_number": 5
    },
    {
     "cell_type": "markdown",
     "metadata": {},
     "source": [
      "To test for an arbitrary series of boolean conditions, use the `case` API method and pass any boolean expressions potentially involving columns of the table:"
     ]
    },
    {
     "cell_type": "code",
     "collapsed": false,
     "input": [
      "expr = (ibis.case()\n",
      "        .when(table.int_col > 5, table.bigint_col * 2)\n",
      "        .when(table.int_col > 2, table.bigint_col)\n",
      "        .else_(table.int_col)\n",
      "        .end())\n",
      "\n",
      "table['id', 'int_col', 'bigint_col', expr.name('case_result')].limit(20)"
     ],
     "language": "python",
     "metadata": {},
     "outputs": [
      {
       "metadata": {},
       "output_type": "pyout",
       "prompt_number": 6,
       "text": [
        "      id  int_col  bigint_col  case_result\n",
        "0   4550        0           0            0\n",
        "1   4551        1          10            1\n",
        "2   4552        2          20            2\n",
        "3   4553        3          30           30\n",
        "4   4554        4          40           40\n",
        "5   4555        5          50           50\n",
        "6   4556        6          60          120\n",
        "7   4557        7          70          140\n",
        "8   4558        8          80          160\n",
        "9   4559        9          90          180\n",
        "10  4560        0           0            0\n",
        "11  4561        1          10            1\n",
        "12  4562        2          20            2\n",
        "13  4563        3          30           30\n",
        "14  4564        4          40           40\n",
        "15  4565        5          50           50\n",
        "16  4566        6          60          120\n",
        "17  4567        7          70          140\n",
        "18  4568        8          80          160\n",
        "19  4569        9          90          180"
       ]
      }
     ],
     "prompt_number": 6
    },
    {
     "cell_type": "markdown",
     "metadata": {},
     "source": [
      "Simple ternary-cases (like the Python `X if COND else Y`) can be written using the `ifelse` function:"
     ]
    },
    {
     "cell_type": "code",
     "collapsed": false,
     "input": [
      "expr = ((table.int_col > 5)\n",
      "        .ifelse(table.bigint_col / 2, table.bigint_col * 2)\n",
      "        .name('ifelse_result'))\n",
      "\n",
      "table['int_col', 'bigint_col', expr].limit(10)"
     ],
     "language": "python",
     "metadata": {},
     "outputs": [
      {
       "metadata": {},
       "output_type": "pyout",
       "prompt_number": 7,
       "text": [
        "   int_col  bigint_col  ifelse_result\n",
        "0        0           0              0\n",
        "1        1          10             20\n",
        "2        2          20             40\n",
        "3        3          30             60\n",
        "4        4          40             80\n",
        "5        5          50            100\n",
        "6        6          60             30\n",
        "7        7          70             35\n",
        "8        8          80             40\n",
        "9        9          90             45"
       ]
      }
     ],
     "prompt_number": 7
    },
    {
     "cell_type": "markdown",
     "metadata": {},
     "source": [
      "Set membership\n",
      "---\n",
      "\n",
      "The `isin` and `notin` functions are like their pandas counterparts. These can take:\n",
      "\n",
      "- A list of value expressions, either literal values or other column expressions\n",
      "- An array/column expression of some kind"
     ]
    },
    {
     "cell_type": "code",
     "collapsed": false,
     "input": [
      "bool_clause = table.string_col.notin(['1', '4', '7'])\n",
      "table[bool_clause].string_col.value_counts()"
     ],
     "language": "python",
     "metadata": {},
     "outputs": [
      {
       "metadata": {},
       "output_type": "pyout",
       "prompt_number": 8,
       "text": [
        "  string_col  count\n",
        "0          6    730\n",
        "1          8    730\n",
        "2          2    730\n",
        "3          5    730\n",
        "4          0    730\n",
        "5          9    730\n",
        "6          3    730"
       ]
      }
     ],
     "prompt_number": 8
    },
    {
     "cell_type": "markdown",
     "metadata": {},
     "source": [
      "You can also check for membership in an array. Here is an example of filtering based on the top 3 (ignoring ties) most frequently-occurring values in the `string_col` column of alltypes:"
     ]
    },
    {
     "cell_type": "code",
     "collapsed": false,
     "input": [
      "top_strings = table.string_col.value_counts().limit(3).string_col\n",
      "top_filter = table.string_col.isin(top_strings)\n",
      "expr = table[top_filter]\n",
      "\n",
      "expr.count()"
     ],
     "language": "python",
     "metadata": {},
     "outputs": [
      {
       "metadata": {},
       "output_type": "pyout",
       "prompt_number": 9,
       "text": [
        "2190"
       ]
      }
     ],
     "prompt_number": 9
    },
    {
     "cell_type": "markdown",
     "metadata": {},
     "source": [
      "This is a common enough operation that we provide a special analytical filter function `topk`:"
     ]
    },
    {
     "cell_type": "code",
     "collapsed": false,
     "input": [
      "table[table.string_col.topk(3)].count()"
     ],
     "language": "python",
     "metadata": {},
     "outputs": [
      {
       "metadata": {},
       "output_type": "pyout",
       "prompt_number": 10,
       "text": [
        "2190"
       ]
      }
     ],
     "prompt_number": 10
    },
    {
     "cell_type": "markdown",
     "metadata": {},
     "source": [
      "Cool, huh? More on `topk` later."
     ]
    },
    {
     "cell_type": "markdown",
     "metadata": {},
     "source": [
      "Null-ness\n",
      "---\n",
      "Like their pandas equivalents, the `isnull` and `notnull` functions return TRue values if the values are null, or non-null, respectively. For example:"
     ]
    },
    {
     "cell_type": "code",
     "collapsed": false,
     "input": [
      "expr = (table.string_col\n",
      "        .case()\n",
      "        .when('4', 'fee')\n",
      "        .when('7', 'fi')\n",
      "        .when('1', 'fo')\n",
      "        .end()\n",
      "        .name('new_strings'))\n",
      "\n",
      "expr.isnull().value_counts()"
     ],
     "language": "python",
     "metadata": {},
     "outputs": [
      {
       "metadata": {},
       "output_type": "pyout",
       "prompt_number": 11,
       "text": [
        "  unnamed  count\n",
        "0   False   2190\n",
        "1    True   5110"
       ]
      }
     ],
     "prompt_number": 11
    },
    {
     "cell_type": "markdown",
     "metadata": {},
     "source": [
      "Functions like `isnull` can be combined with `case` expressions or functions like `ifelse` to replace null values with some other value. `ifelse` here will use the first value supplied for any `True` value and the second value for any `False` value. Either value can be a scalar or array. "
     ]
    },
    {
     "cell_type": "code",
     "collapsed": false,
     "input": [
      "expr2 = expr.isnull().ifelse('was null', expr).name('strings')\n",
      "expr2.value_counts()"
     ],
     "language": "python",
     "metadata": {},
     "outputs": [
      {
       "metadata": {},
       "output_type": "pyout",
       "prompt_number": 12,
       "text": [
        "    strings  count\n",
        "0  was null   5110\n",
        "1        fi    730\n",
        "2        fo    730\n",
        "3       fee    730"
       ]
      }
     ],
     "prompt_number": 12
    },
    {
     "cell_type": "markdown",
     "metadata": {},
     "source": [
      "Distinct-based operations\n",
      "---\n",
      "\n",
      "Ibis supports using `distinct` to remove duplicate rows or values on tables or arrays. For example:"
     ]
    },
    {
     "cell_type": "code",
     "collapsed": false,
     "input": [
      "table['int_col', 'bigint_col'].distinct()"
     ],
     "language": "python",
     "metadata": {},
     "outputs": [
      {
       "metadata": {},
       "output_type": "pyout",
       "prompt_number": 13,
       "text": [
        "   int_col  bigint_col\n",
        "0        6          60\n",
        "1        0           0\n",
        "2        8          80\n",
        "3        3          30\n",
        "4        9          90\n",
        "5        7          70\n",
        "6        2          20\n",
        "7        1          10\n",
        "8        4          40\n",
        "9        5          50"
       ]
      }
     ],
     "prompt_number": 13
    },
    {
     "cell_type": "code",
     "collapsed": false,
     "input": [
      "table.string_col.distinct()"
     ],
     "language": "python",
     "metadata": {},
     "outputs": [
      {
       "metadata": {},
       "output_type": "pyout",
       "prompt_number": 14,
       "text": [
        "0    6\n",
        "1    4\n",
        "2    7\n",
        "3    9\n",
        "4    3\n",
        "5    1\n",
        "6    8\n",
        "7    2\n",
        "8    5\n",
        "9    0\n",
        "Name: string_col, dtype: object"
       ]
      }
     ],
     "prompt_number": 14
    },
    {
     "cell_type": "markdown",
     "metadata": {},
     "source": [
      "This can be combined with `count` to form a reduction metric:"
     ]
    },
    {
     "cell_type": "code",
     "collapsed": false,
     "input": [
      "metric = (table.bigint_col\n",
      "          .distinct().count()\n",
      "          .name('unique_bigints'))"
     ],
     "language": "python",
     "metadata": {},
     "outputs": [],
     "prompt_number": 15
    },
    {
     "cell_type": "markdown",
     "metadata": {},
     "source": [
      "This is common enough to have a shortcut `nunique`:"
     ]
    },
    {
     "cell_type": "code",
     "collapsed": false,
     "input": [
      "table.string_col.nunique()"
     ],
     "language": "python",
     "metadata": {},
     "outputs": [
      {
       "metadata": {},
       "output_type": "pyout",
       "prompt_number": 16,
       "text": [
        "10"
       ]
      }
     ],
     "prompt_number": 16
    },
    {
     "cell_type": "markdown",
     "metadata": {},
     "source": [
      "String operations\n",
      "---\n",
      "\n",
      "What's supported is pretty basic right now. We intend to support the full gamut of regular expression munging with a nice API, though in some cases some work will be required on Impala's backend to support everything. "
     ]
    },
    {
     "cell_type": "code",
     "collapsed": false,
     "input": [
      "nation = con.table('tpch_nation')\n",
      "nation.limit(5)"
     ],
     "language": "python",
     "metadata": {},
     "outputs": [
      {
       "metadata": {},
       "output_type": "pyout",
       "prompt_number": 17,
       "text": [
        "   n_nationkey     n_name  n_regionkey  \\\n",
        "0            0    ALGERIA            0   \n",
        "1            1  ARGENTINA            1   \n",
        "2            2     BRAZIL            1   \n",
        "3            3     CANADA            1   \n",
        "4            4      EGYPT            4   \n",
        "\n",
        "                                           n_comment  \n",
        "0   haggle. carefully final deposits detect slyly...  \n",
        "1  al foxes promise slyly according to the regula...  \n",
        "2  y alongside of the pending deposits. carefully...  \n",
        "3  eas hang ironic, silent packages. slyly regula...  \n",
        "4  y above the carefully unusual theodolites. fin...  "
       ]
      }
     ],
     "prompt_number": 17
    },
    {
     "cell_type": "markdown",
     "metadata": {},
     "source": [
      "At the moment, basic substring operations (`substr`, with conveniences `left` and `right`) and Python-like APIs such as `lower` and `upper` (for case normalization) are supported. So you could count first letter occurrences in a string column like so:"
     ]
    },
    {
     "cell_type": "code",
     "collapsed": false,
     "input": [
      "expr = nation.n_name.lower().left(1).name('first_letter')\n",
      "expr.value_counts().sort_by(('count', False))"
     ],
     "language": "python",
     "metadata": {},
     "outputs": [
      {
       "metadata": {},
       "output_type": "pyout",
       "prompt_number": 18,
       "text": [
        "   first_letter  count\n",
        "0             i      4\n",
        "1             a      2\n",
        "2             c      2\n",
        "3             j      2\n",
        "4             u      2\n",
        "5             m      2\n",
        "6             r      2\n",
        "7             e      2\n",
        "8             f      1\n",
        "9             v      1\n",
        "10            p      1\n",
        "11            b      1\n",
        "12            k      1\n",
        "13            s      1\n",
        "14            g      1"
       ]
      }
     ],
     "prompt_number": 18
    },
    {
     "cell_type": "markdown",
     "metadata": {},
     "source": [
      "Fuzzy and regex filtering/searching (like the SQL `LIKE` and `RLIKE` keywords) will also be on its way, but not yet available."
     ]
    },
    {
     "cell_type": "markdown",
     "metadata": {},
     "source": [
      "Timestamp operations\n",
      "---\n",
      "\n",
      "Date and time functionality is relatively limited at present compared with pandas, but we'll get there. The main things we have right now are\n",
      "\n",
      "- Field access (year, month, day, ...)\n",
      "- Timedeltas\n",
      "- Comparisons with fixed timestamps"
     ]
    },
    {
     "cell_type": "code",
     "collapsed": false,
     "input": [
      "table = con.table('functional_alltypes')\n",
      "\n",
      "table[table.timestamp_col, table.timestamp_col.minute().name('minute')].limit(10)"
     ],
     "language": "python",
     "metadata": {},
     "outputs": [
      {
       "metadata": {},
       "output_type": "pyout",
       "prompt_number": 19,
       "text": [
        "               timestamp_col  minute\n",
        "0        2009-04-01 00:00:00       0\n",
        "1        2009-04-01 00:01:00       1\n",
        "2 2009-04-01 00:02:00.100000       2\n",
        "3 2009-04-01 00:03:00.300000       3\n",
        "4 2009-04-01 00:04:00.600000       4\n",
        "5 2009-04-01 00:05:00.100000       5\n",
        "6 2009-04-01 00:06:00.150000       6\n",
        "7 2009-04-01 00:07:00.210000       7\n",
        "8 2009-04-01 00:08:00.280000       8\n",
        "9 2009-04-01 00:09:00.360000       9"
       ]
      }
     ],
     "prompt_number": 19
    },
    {
     "cell_type": "markdown",
     "metadata": {},
     "source": [
      "Somewhat more comprehensively"
     ]
    },
    {
     "cell_type": "code",
     "collapsed": false,
     "input": [
      "def get_field(f):\n",
      "    return getattr(table.timestamp_col, f)().name(f)\n",
      "\n",
      "fields = ['year', 'month', 'day', 'hour', 'minute', 'second', 'millisecond']\n",
      "projection = [table.timestamp_col] + [get_field(x) for x in fields]\n",
      "table[projection].limit(10)"
     ],
     "language": "python",
     "metadata": {},
     "outputs": [
      {
       "metadata": {},
       "output_type": "pyout",
       "prompt_number": 20,
       "text": [
        "               timestamp_col  year  month  day  hour  minute  second  \\\n",
        "0        2010-04-01 00:00:00  2010      4    1     0       0       0   \n",
        "1        2010-04-01 00:01:00  2010      4    1     0       1       0   \n",
        "2 2010-04-01 00:02:00.100000  2010      4    1     0       2       0   \n",
        "3 2010-04-01 00:03:00.300000  2010      4    1     0       3       0   \n",
        "4 2010-04-01 00:04:00.600000  2010      4    1     0       4       0   \n",
        "5 2010-04-01 00:05:00.100000  2010      4    1     0       5       0   \n",
        "6 2010-04-01 00:06:00.150000  2010      4    1     0       6       0   \n",
        "7 2010-04-01 00:07:00.210000  2010      4    1     0       7       0   \n",
        "8 2010-04-01 00:08:00.280000  2010      4    1     0       8       0   \n",
        "9 2010-04-01 00:09:00.360000  2010      4    1     0       9       0   \n",
        "\n",
        "   millisecond  \n",
        "0            0  \n",
        "1            0  \n",
        "2          100  \n",
        "3          300  \n",
        "4          600  \n",
        "5          100  \n",
        "6          150  \n",
        "7          210  \n",
        "8          280  \n",
        "9          360  "
       ]
      }
     ],
     "prompt_number": 20
    },
    {
     "cell_type": "code",
     "collapsed": false,
     "input": [],
     "language": "python",
     "metadata": {},
     "outputs": []
    }
   ],
   "metadata": {}
  }
 ]
}