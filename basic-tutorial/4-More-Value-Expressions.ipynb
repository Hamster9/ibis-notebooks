{
 "metadata": {
  "name": "",
  "signature": "sha256:ea6b6cbae6ace3a49796b3765304978cdde1d599bd7480facbf9b916e6b4c257"
 },
 "nbformat": 3,
 "nbformat_minor": 0,
 "worksheets": [
  {
   "cells": [
    {
     "cell_type": "code",
     "collapsed": false,
     "input": [
      "from ibis import api\n",
      "from ibis.sql.compiler import to_sql\n",
      "import ibis\n",
      "con = ibis.impala_connect(host='localhost')\n",
      "ibis.options.interactive = True"
     ],
     "language": "python",
     "metadata": {},
     "outputs": [],
     "prompt_number": 8
    },
    {
     "cell_type": "markdown",
     "metadata": {},
     "source": [
      "Type casting\n",
      "---\n",
      "The Ibis type system is pretty basic and will get better (and more documented over time)\n",
      "\n",
      "- `int8`\n",
      "- `int16`\n",
      "- `int32`\n",
      "- `int64`\n",
      "- `boolean`\n",
      "- `float`\n",
      "- `double`\n",
      "- `string`\n",
      "- `timestamp`\n",
      "- `decimal($precision, $scale)`\n",
      "\n",
      "These type names can be used to cast from one type to another"
     ]
    },
    {
     "cell_type": "code",
     "collapsed": false,
     "input": [
      "table = con.table('functional.alltypes')\n",
      "table.string_col.cast('double').sum()"
     ],
     "language": "python",
     "metadata": {},
     "outputs": [
      {
       "metadata": {},
       "output_type": "pyout",
       "prompt_number": 2,
       "text": [
        "32850.0"
       ]
      }
     ],
     "prompt_number": 2
    },
    {
     "cell_type": "code",
     "collapsed": false,
     "input": [
      "table.string_col.cast('decimal(12,2)').sum()"
     ],
     "language": "python",
     "metadata": {},
     "outputs": [
      {
       "metadata": {},
       "output_type": "pyout",
       "prompt_number": 3,
       "text": [
        "Decimal('32850.00')"
       ]
      }
     ],
     "prompt_number": 3
    },
    {
     "cell_type": "markdown",
     "metadata": {},
     "source": [
      "Case / if-then-else expressions\n",
      "---\n",
      "\n",
      "We support a number of variants of the SQL-equivalent `CASE` expression, and will add more API functions over time to meet different use cases and enhance the expressiveness of any branching-based value logic."
     ]
    },
    {
     "cell_type": "code",
     "collapsed": false,
     "input": [
      "expr = (table.string_col\n",
      "        .case()\n",
      "        .when('4', 'fee')\n",
      "        .when('7', 'fi')\n",
      "        .when('1', 'fo')\n",
      "        .when('0', 'fum')\n",
      "        .else_(table.string_col)\n",
      "        .end()\n",
      "        .name('new_strings'))\n",
      "\n",
      "expr.value_counts()"
     ],
     "language": "python",
     "metadata": {},
     "outputs": [
      {
       "metadata": {},
       "output_type": "pyout",
       "prompt_number": 4,
       "text": [
        "  new_strings  count\n",
        "0           6    730\n",
        "1          fo    730\n",
        "2         fum    730\n",
        "3          fi    730\n",
        "4         fee    730\n",
        "5           8    730\n",
        "6           2    730\n",
        "7           9    730\n",
        "8           5    730\n",
        "9           3    730"
       ]
      }
     ],
     "prompt_number": 4
    },
    {
     "cell_type": "markdown",
     "metadata": {},
     "source": [
      "If the `else_` default condition is not provided, any values not matching one of the conditions will be `NULL`."
     ]
    },
    {
     "cell_type": "code",
     "collapsed": false,
     "input": [
      "expr = (table.string_col\n",
      "        .case()\n",
      "        .when('4', 'fee')\n",
      "        .when('7', 'fi')\n",
      "        .end()\n",
      "        .name('with_nulls'))\n",
      "\n",
      "expr.value_counts()"
     ],
     "language": "python",
     "metadata": {},
     "outputs": [
      {
       "metadata": {},
       "output_type": "pyout",
       "prompt_number": 19,
       "text": [
        "  with_nulls  count\n",
        "0       None   5840\n",
        "1         fi    730\n",
        "2        fee    730"
       ]
      }
     ],
     "prompt_number": 19
    },
    {
     "cell_type": "markdown",
     "metadata": {},
     "source": [
      "To test for an arbitrary series of boolean conditions, use the `case` API method and pass any boolean expressions potentially involving columns of the table:"
     ]
    },
    {
     "cell_type": "code",
     "collapsed": false,
     "input": [
      "expr = (ibis.case()\n",
      "        .when(table.int_col > 5, table.bigint_col * 2)\n",
      "        .when(table.int_col > 2, table.bigint_col)\n",
      "        .else_(table.int_col)\n",
      "        .end())\n",
      "\n",
      "table['id', 'int_col', 'bigint_col', expr.name('case_result')].limit(20)"
     ],
     "language": "python",
     "metadata": {},
     "outputs": [
      {
       "metadata": {},
       "output_type": "pyout",
       "prompt_number": 24,
       "text": [
        "      id  int_col  bigint_col  case_result\n",
        "0   4550        0           0            0\n",
        "1   4551        1          10            1\n",
        "2   4552        2          20            2\n",
        "3   4553        3          30           30\n",
        "4   4554        4          40           40\n",
        "5   4555        5          50           50\n",
        "6   4556        6          60          120\n",
        "7   4557        7          70          140\n",
        "8   4558        8          80          160\n",
        "9   4559        9          90          180\n",
        "10  4560        0           0            0\n",
        "11  4561        1          10            1\n",
        "12  4562        2          20            2\n",
        "13  4563        3          30           30\n",
        "14  4564        4          40           40\n",
        "15  4565        5          50           50\n",
        "16  4566        6          60          120\n",
        "17  4567        7          70          140\n",
        "18  4568        8          80          160\n",
        "19  4569        9          90          180"
       ]
      }
     ],
     "prompt_number": 24
    },
    {
     "cell_type": "markdown",
     "metadata": {},
     "source": [
      "Simple ternary-cases (like the Python `X if COND else Y`) can be written using the `ifelse` function:"
     ]
    },
    {
     "cell_type": "code",
     "collapsed": false,
     "input": [
      "expr = ((table.int_col > 5)\n",
      "        .ifelse(table.bigint_col / 2, table.bigint_col * 2)\n",
      "        .name('ifelse_result'))\n",
      "\n",
      "table['int_col', 'bigint_col', expr].limit(10)"
     ],
     "language": "python",
     "metadata": {},
     "outputs": [
      {
       "metadata": {},
       "output_type": "pyout",
       "prompt_number": 34,
       "text": [
        "   int_col  bigint_col  ifelse_result\n",
        "0        0           0              0\n",
        "1        1          10             20\n",
        "2        2          20             40\n",
        "3        3          30             60\n",
        "4        4          40             80\n",
        "5        5          50            100\n",
        "6        6          60             30\n",
        "7        7          70             35\n",
        "8        8          80             40\n",
        "9        9          90             45"
       ]
      }
     ],
     "prompt_number": 34
    },
    {
     "cell_type": "markdown",
     "metadata": {},
     "source": [
      "Set membership\n",
      "---\n",
      "\n",
      "The `isin` and `notin` functions are like their pandas counterparts. These can take:\n",
      "\n",
      "- A list of value expressions, either literal values or other column expressions\n",
      "- An array/column expression of some kind"
     ]
    },
    {
     "cell_type": "code",
     "collapsed": false,
     "input": [
      "bool_clause = table.string_col.notin(['1', '4', '7'])\n",
      "table[bool_clause].string_col.value_counts()"
     ],
     "language": "python",
     "metadata": {},
     "outputs": [
      {
       "metadata": {},
       "output_type": "pyout",
       "prompt_number": 18,
       "text": [
        "  string_col  count\n",
        "0          6    730\n",
        "1          8    730\n",
        "2          2    730\n",
        "3          5    730\n",
        "4          9    730\n",
        "5          0    730\n",
        "6          3    730"
       ]
      }
     ],
     "prompt_number": 18
    },
    {
     "cell_type": "markdown",
     "metadata": {},
     "source": [
      "You can also check for membership in an array. Here is an example of filtering based on the top 3 (ignoring ties) most frequently-occurring values in the `string_col` column of alltypes:"
     ]
    },
    {
     "cell_type": "code",
     "collapsed": false,
     "input": [
      "top_strings = table.string_col.value_counts().limit(3).string_col\n",
      "top_filter = table.string_col.isin(top_strings)\n",
      "expr = table[top_filter]\n",
      "\n",
      "expr.count()"
     ],
     "language": "python",
     "metadata": {},
     "outputs": [
      {
       "metadata": {},
       "output_type": "pyout",
       "prompt_number": 14,
       "text": [
        "2190"
       ]
      }
     ],
     "prompt_number": 14
    },
    {
     "cell_type": "markdown",
     "metadata": {},
     "source": [
      "This is a common enough operation that we provide a special analytical filter function `topk`:"
     ]
    },
    {
     "cell_type": "code",
     "collapsed": false,
     "input": [
      "table[table.string_col.topk(3)].count()"
     ],
     "language": "python",
     "metadata": {},
     "outputs": [
      {
       "metadata": {},
       "output_type": "pyout",
       "prompt_number": 15,
       "text": [
        "2190"
       ]
      }
     ],
     "prompt_number": 15
    },
    {
     "cell_type": "markdown",
     "metadata": {},
     "source": [
      "Cool, huh? More on `topk` later."
     ]
    },
    {
     "cell_type": "markdown",
     "metadata": {},
     "source": [
      "Null-ness\n",
      "---"
     ]
    },
    {
     "cell_type": "code",
     "collapsed": false,
     "input": [
      "expr = (table.string_col\n",
      "        .case()\n",
      "        .when('4', 'fee')\n",
      "        .when('7', 'fi')\n",
      "        .when('1', 'fo')\n",
      "        .end()\n",
      "        .name('new_strings'))\n",
      "\n",
      "expr.isnull().value_counts()"
     ],
     "language": "python",
     "metadata": {},
     "outputs": [
      {
       "metadata": {},
       "output_type": "pyout",
       "prompt_number": 14,
       "text": [
        "  new_strings  count\n",
        "0       False   2190\n",
        "1        True   5110"
       ]
      }
     ],
     "prompt_number": 14
    },
    {
     "cell_type": "markdown",
     "metadata": {},
     "source": [
      "Distinct-based operations\n",
      "---\n",
      "\n",
      "Ibis supports using `distinct` to remove duplicate rows or values on tables or arrays. For example:"
     ]
    },
    {
     "cell_type": "code",
     "collapsed": false,
     "input": [
      "table['int_col', 'bigint_col'].distinct()"
     ],
     "language": "python",
     "metadata": {},
     "outputs": [
      {
       "metadata": {},
       "output_type": "pyout",
       "prompt_number": 26,
       "text": [
        "   int_col  bigint_col\n",
        "0        6          60\n",
        "1        0           0\n",
        "2        8          80\n",
        "3        3          30\n",
        "4        9          90\n",
        "5        7          70\n",
        "6        2          20\n",
        "7        1          10\n",
        "8        4          40\n",
        "9        5          50"
       ]
      }
     ],
     "prompt_number": 26
    },
    {
     "cell_type": "code",
     "collapsed": false,
     "input": [
      "table.string_col.distinct()"
     ],
     "language": "python",
     "metadata": {},
     "outputs": [
      {
       "metadata": {},
       "output_type": "pyout",
       "prompt_number": 27,
       "text": [
        "0    6\n",
        "1    4\n",
        "2    7\n",
        "3    1\n",
        "4    8\n",
        "5    9\n",
        "6    2\n",
        "7    3\n",
        "8    5\n",
        "9    0\n",
        "Name: string_col, dtype: object"
       ]
      }
     ],
     "prompt_number": 27
    },
    {
     "cell_type": "markdown",
     "metadata": {},
     "source": [
      "This can be combined with `count` to form a reduction metric:"
     ]
    },
    {
     "cell_type": "code",
     "collapsed": false,
     "input": [
      "metric = (table.bigint_col\n",
      "          .distinct().count()\n",
      "          .name('unique_bigints'))"
     ],
     "language": "python",
     "metadata": {},
     "outputs": [],
     "prompt_number": 32
    },
    {
     "cell_type": "markdown",
     "metadata": {},
     "source": [
      "This is common enough to have a shortcut `nunique`:"
     ]
    },
    {
     "cell_type": "code",
     "collapsed": false,
     "input": [
      "table.string_col.nunique()"
     ],
     "language": "python",
     "metadata": {},
     "outputs": [
      {
       "metadata": {},
       "output_type": "pyout",
       "prompt_number": 25,
       "text": [
        "10"
       ]
      }
     ],
     "prompt_number": 25
    },
    {
     "cell_type": "markdown",
     "metadata": {},
     "source": [
      "Timestamp operations\n",
      "---\n",
      "I'll put these in a separate notebook"
     ]
    },
    {
     "cell_type": "markdown",
     "metadata": {},
     "source": []
    }
   ],
   "metadata": {}
  }
 ]
}